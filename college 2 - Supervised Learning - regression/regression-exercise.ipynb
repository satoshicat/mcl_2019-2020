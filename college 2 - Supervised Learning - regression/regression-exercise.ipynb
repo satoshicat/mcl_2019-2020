{
 "cells": [
  {
   "cell_type": "markdown",
   "metadata": {
    "slideshow": {
     "slide_type": "-"
    }
   },
   "source": [
    "# Machine Learning - Regression\n",
    "\n",
    "Dit notebook kan je gebruiken om: \n",
    "- tijdens het college de code in te tikken.\n",
    "- de oefenopdrachten te maken\n",
    "\n",
    "De notebook `college - regression` bevat alle materiaal incl. voorbeeldoplossingen."
   ]
  },
  {
   "cell_type": "code",
   "execution_count": null,
   "metadata": {
    "slideshow": {
     "slide_type": "-"
    }
   },
   "outputs": [],
   "source": [
    "# Voorbeeld voor concept linear regression\n",
    "# Behoefte/vraagstuk: \n",
    "# is er een verband tussen de (web)pagina-snelheid (pagespeed) \n",
    "# en het aankoopbedrag (purchaseAmount)?\n",
    "# Note: willekeurig gegenereerde observaties, later praktijk data\n",
    "\n",
    "%matplotlib inline\n",
    "import numpy as np\n",
    "from pylab import *\n",
    "\n",
    "# generate distributions\n",
    "\n",
    "# plot purchaseAmount against pageSpeed... \n"
   ]
  },
  {
   "cell_type": "code",
   "execution_count": null,
   "metadata": {
    "slideshow": {
     "slide_type": "-"
    }
   },
   "outputs": [],
   "source": [
    "from scipy import stats\n",
    "\n",
    "# linear regression model: y = m.x + b  (m=slope, b=interecept)\n",
    "\n",
    "# print model parameters slope and intercept\n"
   ]
  },
  {
   "cell_type": "code",
   "execution_count": null,
   "metadata": {},
   "outputs": [],
   "source": [
    "# print r-squared value\n",
    "# not surprisingly, the R-squared value shows a really good fit.\n"
   ]
  },
  {
   "cell_type": "code",
   "execution_count": null,
   "metadata": {},
   "outputs": [],
   "source": [
    "import matplotlib.pyplot as plt\n",
    "\n",
    "# model prediction function (linear regression):\n",
    "#   y = slope * x + intercept\n",
    "\n",
    "\n",
    "#prediction values\n",
    "\n",
    "# show observations/features and prediction values\n"
   ]
  },
  {
   "cell_type": "markdown",
   "metadata": {
    "slideshow": {
     "slide_type": "subslide"
    }
   },
   "source": [
    "### Activiteit\n",
    "\n",
    "Probeer de willekeurige variatie in de dataset te vergroten en kijk welk effect het heeft op de r-squared waarde."
   ]
  },
  {
   "cell_type": "code",
   "execution_count": null,
   "metadata": {
    "slideshow": {
     "slide_type": "-"
    }
   },
   "outputs": [],
   "source": [
    "# Activity example linear regression pagespeed vs. purchaseAmount\n",
    "\n",
    "%matplotlib inline\n",
    "import numpy as np\n",
    "from pylab import *\n",
    "from scipy import stats\n",
    "import matplotlib.pyplot as plt\n",
    "\n",
    "# generate datasets\n",
    "\n",
    "# calculate the linear regression model\n",
    "\n",
    "# prediction function\n",
    "\n",
    "# generate the prediction line\n",
    "\n",
    "# make plots\n",
    "\n",
    "# print modelparameters\n"
   ]
  },
  {
   "cell_type": "code",
   "execution_count": null,
   "metadata": {
    "slideshow": {
     "slide_type": "-"
    }
   },
   "outputs": [],
   "source": [
    "# draw examples of n-order polynome\n",
    "\n",
    "x = np.linspace(-3,3,1000) # 1000 sample numbers between -3 to 3\n",
    "\n",
    "# Plot subplots\n",
    "fig, ((ax1, ax2, ax3), (ax4, ax5, ax6)) = plt.subplots(nrows=2, ncols=3)\n",
    "\n",
    "ax1.plot(x, x)\n",
    "ax1.set_title('linear')\n",
    "\n",
    "\n",
    "plt.tight_layout()# tidy layout"
   ]
  },
  {
   "cell_type": "code",
   "execution_count": null,
   "metadata": {
    "slideshow": {
     "slide_type": "-"
    }
   },
   "outputs": [],
   "source": [
    "# Example polynomial regression\n",
    "\n",
    "%matplotlib inline\n",
    "from pylab import *\n",
    "\n",
    "# generate random normal distributed datasets \n",
    "# for pageSpeeds and purchaseAmount\n",
    "\n",
    "# plot data pageSpeeds against purchaseAmount in a scatterplot\n"
   ]
  },
  {
   "cell_type": "code",
   "execution_count": null,
   "metadata": {},
   "outputs": [],
   "source": [
    "# create numpy-arrays x and y from dataset data\n",
    "\n",
    "# create 4th degree polynomial\n"
   ]
  },
  {
   "cell_type": "code",
   "execution_count": null,
   "metadata": {},
   "outputs": [],
   "source": [
    "# create a scatterplot with original data,\n",
    "# and polynome line 4th degree \n",
    "# for pageSpeeds between 0 and 7 seconds\n",
    "\n",
    "# generate xp points\n",
    "\n",
    "# generate scatterplot for x and y\n",
    "\n",
    "# generate curve for 4th-degree polynomial for xp\n"
   ]
  },
  {
   "cell_type": "code",
   "execution_count": null,
   "metadata": {
    "slideshow": {
     "slide_type": "-"
    }
   },
   "outputs": [],
   "source": [
    "# calculate and print r-squared\n"
   ]
  },
  {
   "cell_type": "markdown",
   "metadata": {
    "slideshow": {
     "slide_type": "-"
    }
   },
   "source": [
    "#### Activiteit\n",
    "Probeer zelf verschillende orde polynomen. Krijg je een betere aanpasing te zien met hogere orde? Wanneer begin je overfitting te zien, zelfs als de r-squared waarde er goed uitziet voor deze dataset?\n"
   ]
  },
  {
   "cell_type": "code",
   "execution_count": null,
   "metadata": {
    "slideshow": {
     "slide_type": "-"
    }
   },
   "outputs": [],
   "source": [
    "# TODO: try different order polynomials \n",
    "#       and see when overfitting takes place\n",
    "\n"
   ]
  },
  {
   "cell_type": "code",
   "execution_count": null,
   "metadata": {},
   "outputs": [],
   "source": [
    "# grab the small dataset of the Blue Book car values\n",
    "import pandas as pd\n"
   ]
  },
  {
   "cell_type": "code",
   "execution_count": null,
   "metadata": {
    "slideshow": {
     "slide_type": "-"
    }
   },
   "outputs": [],
   "source": [
    "import statsmodels.api as sm\n",
    "\n",
    "# Modelname (categorical data) -> Model_ord (ordinal data)\n",
    "\n",
    "# input model: feature vectors X, y(=target)\n",
    "\n",
    "# prognose variable\n",
    "\n",
    "# calculate a simple Ordinary Least Squares model\n",
    "\n",
    "# show summary of the model\n",
    "est.summary()"
   ]
  },
  {
   "cell_type": "code",
   "execution_count": null,
   "metadata": {
    "slideshow": {
     "slide_type": "-"
    }
   },
   "outputs": [],
   "source": [
    "# print mean price for number of doors\n"
   ]
  },
  {
   "cell_type": "markdown",
   "metadata": {
    "slideshow": {
     "slide_type": "-"
    }
   },
   "source": [
    "#### Activiteit\n",
    "- Speel eens met de invoergegevens en kijk of je een meetbare invloed van het aantal deuren op de prijs kunt creëren en... waarom stoppen bij 4 deuren?\n",
    "- Kies andere *features* en onderzoek hun invloed op de prijs.\n",
    "\n",
    "Veel plezier ermee."
   ]
  },
  {
   "cell_type": "markdown",
   "metadata": {
    "slideshow": {
     "slide_type": "-"
    }
   },
   "source": [
    "## 5. Oefenopdrachten Linear Regression<a id=\"assignments_regression\"></a>\n",
    "\n",
    "\n",
    "1. [Student resultaten en studie-uren](#assignment_grades)\n",
    "2. [Salaris en ervaring](#assignment_salary)\n",
    "3. [Bitcoins](#assignment_bitcoins)\n",
    "\n",
    "Maak gebruik van de module **scikit-learn** zoals in de voorbeelden."
   ]
  },
  {
   "cell_type": "markdown",
   "metadata": {
    "slideshow": {
     "slide_type": "-"
    }
   },
   "source": [
    "### 1. Opdracht - student resultaten en studie-uren<a id=\"assignment_grades\"></a>\n",
    "\n",
    "**Use case**: Wat is het verband tussen de studie-resultaten en het gemiddeld aantal studie-uren voor een toets?\n",
    "\n",
    "**Dataset**: `Grade_Set_1.csv` in folder `datasets`.\n",
    "> waarbij de gemiddelde scores van de beoordelingscijfers van studenten en hun respectieve gemiddelde aantal studie-uren voor de toets voor een groep vergelijkbare IQ-studenten zijn verzameld.\n",
    "\n",
    "**Verkennen dataset**\n",
    "\n",
    "1. Importeer de benodigde libraries.\n",
    "2. Lees in een pandas dataframe de gegevens uit het CSV-bestand `Grade_Set_1.csv`.\n",
    "3. Toon de gegevens in tabel-vorm en toon de dimensies.\n",
    "4. Maak een scatter plot van het pandas dataframe data zodat onderstaande figuur te zien is.\n",
    "> **Hint**: zoek op hoe je een grafiek kan maken van een pandas dataframe.\n",
    "6. Welke twee conclusies trek je uit de uitkomsten.\n",
    "> **Hint**: er is een kwalitatieve en een kwantitatieve conclusie te maken.\n",
    "\n",
    "**Figuur cijfer vs. studie-uren**\n",
    "![cijfer_vs_studieuren](images/assignment_studentresults.png)"
   ]
  },
  {
   "cell_type": "markdown",
   "metadata": {
    "slideshow": {
     "slide_type": "-"
    }
   },
   "source": [
    "**maken van linear model**\n",
    "\n",
    "7. Bepaal met behulp van linear regression model uit scikit-learn (`import sklearn.linear_model as lm`) en de dataset de parameters van de rechte lijn die het beste past bij de dataset.\n",
    "> Gebruik de `fit()` methode van het linear regression object en gebruik alle data als training set (geen test set).\n",
    "\n",
    "8. Toon de parameters van de linear regression model en de R-squared waarde.\n",
    "> **Tip**: Maak voor de berekening van R-squared gebruik van `r2_score` uit module `sklearn.metrics`\n",
    "\n",
    "9. Maak een grafiek van de dataset en de gevonden linear regression line (prediction line).\n",
    "\n",
    "10. Geef een voorspelling wat het cijfer zou kunnen zijn als de student 6 uur besteed aan het leren van de toetstof. Bereken de voorspelling handmatig uit (met de model parameters) en met een ingebouwde `predict()` methode van het linaer regression object. Verschillen ze van elkaar? \n",
    "\n",
    "11. Welk cijfer zou student heben als hij/zij 0 uren besteed aan de leerstof? Wat zegt dit?\n"
   ]
  },
  {
   "cell_type": "code",
   "execution_count": null,
   "metadata": {
    "slideshow": {
     "slide_type": "-"
    }
   },
   "outputs": [],
   "source": [
    "# jouw code opdracht 1\n"
   ]
  },
  {
   "cell_type": "markdown",
   "metadata": {
    "slideshow": {
     "slide_type": "-"
    }
   },
   "source": [
    "### 2. Opdracht - Salaris en Ervaringsjaren<a id=\"assignment_salary\"></a>\n",
    "\n",
    "**Gegeven dataset**: `datasets/Salary_Data.csv`.<br>\n",
    "**Use Case**: maak een linear regression model dat een voorspelling doet voor een salaris op basis van aantal jaren ervaring.\n",
    "\n",
    "**Stappen**\n",
    "1. importeer de noodzakelijke libraries.\n",
    "2. lees in de dataset `Salary_Data.csv` in een pandas dataframe.\n",
    "3. maak een X array met de jaren-ervaring's gegevens uit het dataframe.\n",
    "> Voorbeeld `X: [39343. 46205. 37731. 43525. 39891.]`\n",
    "\n",
    "4. maak een y array met de index en salaris gegevens uit de dataframe. Gebruik de pandas `iloc` methode.\n",
    "> Voorbeeld `y: [[1.1],[1.3], [1.5], [2. ], [2.2]]`\n",
    "\n",
    "5. splits de dataset in een training set (X_train, y_train) en een Test set (X_test, y_test) met de scikit-learn methode `train_test_split()`. Neem 1/3 van de dataset voor Test data en laat de gegevens random verdelen over training en test set.\n",
    "> from sklearn.model_selection import train_test_split\n",
    "6. maak een best-fit Simple Linear Regression model van de Training set.\n",
    "> maak een `LinearRegression` object uit scikit-learn en maak gebruik van de `fit` methode van het `LinearRegression` object om een beste aanpassing te maken.\n",
    "7. maak scatter plots van de training set en de test set resultaten.\n",
    "8. Wat is het voorspelde salaris na 12 jaar ervaring? Na 5 jaar ervaringen?"
   ]
  },
  {
   "cell_type": "code",
   "execution_count": null,
   "metadata": {
    "slideshow": {
     "slide_type": "-"
    }
   },
   "outputs": [],
   "source": [
    "# jouw code opdracht 2\n"
   ]
  },
  {
   "attachments": {
    "bitcoins_vb.png": {
     "image/png": "[encoded data removed]"
    }
   },
   "cell_type": "markdown",
   "metadata": {
    "slideshow": {
     "slide_type": "-"
    }
   },
   "source": [
    "### 3. Opdracht - Bitcoins<a id=\"assignment_bitcoins\"></a>\n",
    "\n",
    "**Use Case**\n",
    "Stel dat je bitcoins wilt kopen. Dan is een goed advies om eerst \"op papier\" de aankoopprijs van bitcoins gedurende een tijdje te volgen. Dat heeft Gerrit gedaan en dat leidde tot een (klein)overzicht van de bitcoin-prijs sinds 2015 in het gegeven Excel-bestand.\n",
    "\n",
    "**Dataset**: `bitcoin_2015-2017.csv`\n",
    "\n",
    "**Opdrachten**\n",
    "1. Maak een scatterplot van de dataset waarin je laat zien de aankoopprijs over het gegeven tijdsverloop. Zet **labels** langs de assen en een **legenda** in de linker-bovenhoek. Bewaar de grafiek in een **PNG** image file.\n",
    "\n",
    "2. Bepaal een beste polynomial-fit aan de data-punten om te komen tot een voorspelling wat de bitcoin-aankoopprijs is op 15 december 2017. \n",
    "\n",
    "Voorbeeld van een scattergrafiek is de volgende (de labels langs de assen zijn weggehaald, onderdeel van de opdracht).\n",
    "![bitcoins_vb.png](attachment:bitcoins_vb.png)"
   ]
  },
  {
   "cell_type": "code",
   "execution_count": null,
   "metadata": {
    "slideshow": {
     "slide_type": "-"
    }
   },
   "outputs": [],
   "source": [
    "# jouw code opdracht 3"
   ]
  }
 ],
 "metadata": {
  "celltoolbar": "Slideshow",
  "kernelspec": {
   "display_name": "Python 3",
   "language": "python",
   "name": "python3"
  },
  "language_info": {
   "codemirror_mode": {
    "name": "ipython",
    "version": 3
   },
   "file_extension": ".py",
   "mimetype": "text/x-python",
   "name": "python",
   "nbconvert_exporter": "python",
   "pygments_lexer": "ipython3",
   "version": "3.7.4"
  }
 },
 "nbformat": 4,
 "nbformat_minor": 4
}
