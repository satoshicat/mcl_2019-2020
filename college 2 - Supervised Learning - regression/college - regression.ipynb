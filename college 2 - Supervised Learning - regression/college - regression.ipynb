{
 "cells": [
  {
   "cell_type": "markdown",
   "metadata": {
    "slideshow": {
     "slide_type": "slide"
    }
   },
   "source": [
    "# Machine Learning - Regression\n",
    "\n",
    "## Onderwerpen\n",
    "\n",
    "1. [Positionering regression modellen](#position_regression)\n",
    "2. [Wat is `regression`?](#whatsis_regression)\n",
    "3. [Voorbeelden `regression`](#examples_regression)\n",
    "4. [Studiemateriaal](#references_regression)\n",
    "5. [Oefenopdrachten](#assignments_regression)\n",
    "\n",
    "## Bromateriaal:\n",
    "- **[VanderPlas]** chapter 5 Machine Learning - sectie __[In Depth: Linear Regression](https://jakevdp.github.io/PythonDataScienceHandbook/05.06-linear-regression.html)__ *- gezien op 25 November 2018*\n",
    "\n",
    "- **[VanderPlas]** chapter 5 Machine Learning - sectie __[Introduction scikit-learn](https://jakevdp.github.io/PythonDataScienceHandbook/05.02-introducing-scikit-learn.html)__, met name de sectie 'Scikit-Learn's Estimator API' *- gezien op 28 November 2018*"
   ]
  },
  {
   "cell_type": "markdown",
   "metadata": {
    "slideshow": {
     "slide_type": "slide"
    }
   },
   "source": [
    "<a id=\"position_regression\"></a>\n",
    "## 1. Positionering regression \n",
    "\n",
    "![position_regression_](images/MLOverview_regression.png)\n",
    "\n",
    "Categorie: **Supervised learning**"
   ]
  },
  {
   "cell_type": "markdown",
   "metadata": {
    "slideshow": {
     "slide_type": "subslide"
    }
   },
   "source": [
    "### Welke vragen/behoeften lost regression op?\n",
    "\n",
    "De regressie techniek is een van de fundamentele technieken die ons helpt wanneer er een behoefte is om een numerieke waarde (*target*) te voorspellen, gegeven een verzameling observaties (*features*).\n",
    "\n",
    "Woorden in de vraagstelling/behoefte zoals 'hoeveelheid', 'hoeveel keer', verwachten een kwantitatief antwoord (*numerical, continous*). \n",
    "\n",
    "**Voorbeelden use cases**\n",
    "- **Detailhandel**: Hoeveel zijn de dagelijkse, maandelijkse en jaarlijkse verkopen voor een bepaalde winkel voor de komende drie jaar?  Hoeveel parkeerplaatsen moeten worden toegewezen voor een winkel?\n",
    "- **Fabricage** Hoeveel zullen de arbeidskosten zijn voor dit-en-dat product? Hoeveel zullen mijn maandelijkse elektriciteitskosten zijn voor de komende drie jaar?\n",
    "- **Financieel wereld**: Wat zullen de aandelen prijzen doen de komende 3 maanden? Wat is de kredietwaardigheid van deze klant?\n",
    "- **Onroerendgoed wereld**: Wat zullen de huizen prijzen doen de komende 6 maanden?\n",
    "- **Verzekeringen**: Hoeveel klanten zullen een beroep doen op hun verzekeringen het komende verzekeringsjaar?\n",
    "- **Energiebedrijven**: Wat zal de temperatuur zijn voor de volgende 5 dagen?\n",
    "- **Agrarische sector**: Wat zal de temperatuur/regen/zonneschijn zijn voor de volgende 5 dagen, 5 maanden,...?"
   ]
  },
  {
   "cell_type": "markdown",
   "metadata": {
    "slideshow": {
     "slide_type": "slide"
    }
   },
   "source": [
    "## 2. Wat is regression?<a id=\"whatsis_regression\"></a>\n",
    "\n",
    "Een **regression analyse** stelt ons in staat om te ontdekken of er een verband is tussen een onafhankelijke variabele (*observaties*) en een afhankelijke variabele (*target*). Resultaten zijn van *kwantitatieve* aard. Het is te gebruiken voor *voorspellingen* en *prognoses*. In dat opzicht is het woord 'regression' wat misleidend, want het kan niets met 'tijd' te maken hebben.\n",
    "\n",
    "- Het bepaalt hoe de afhankelijke variabele verandert, wanneer de onafhankelijke variabele(n) wijzigen.\n",
    "- Een **regression model** is het resultaat en houdt in dat de parameters bekend zijn die de relatie vastleggen.\n",
    "- De relatie tussen de variabelen wordt geformuleerd in de vorm van polynoom functies (n-de orde polynomen, n=1, 2, 3, enz.)."
   ]
  },
  {
   "cell_type": "markdown",
   "metadata": {
    "slideshow": {
     "slide_type": "subslide"
    }
   },
   "source": [
    "Concreter gezegd aan de hand van het meest eenvoudige regression model: *linear regression*:\n",
    "- bepaal de beste aanpassing van een (rechte)lijn aan een gegevensverzameling.\n",
    "- gebruik deze (rechte)lijn om voorspelingen te doen met nieuwe observaties.\n",
    "\n",
    "Voorbeeld linear regression model: Height = 0.6Weight + 130.2 ![Figuur1](images/linear_regression_heigt_weight.png)"
   ]
  },
  {
   "cell_type": "markdown",
   "metadata": {
    "slideshow": {
     "slide_type": "slide"
    }
   },
   "source": [
    "## 3. Voorbeelden  linear regression<a id=\"examples_regression\"></a>\n",
    "\n",
    "Laten we een aantal gegevens fabriceren die een ruwweg lineair verband weergeven tussen de paginasnelheid en het aankoopbedrag."
   ]
  },
  {
   "cell_type": "code",
   "execution_count": 1,
   "metadata": {
    "slideshow": {
     "slide_type": "subslide"
    }
   },
   "outputs": [
    {
     "data": {
      "text/plain": [
       "<matplotlib.collections.PathCollection at 0x117751e10>"
      ]
     },
     "execution_count": 1,
     "metadata": {},
     "output_type": "execute_result"
    },
    {
     "data": {
      "image/png": "[encoded data removed]",
      "text/plain": [
       "<Figure size 432x288 with 1 Axes>"
      ]
     },
     "metadata": {
      "needs_background": "light"
     },
     "output_type": "display_data"
    }
   ],
   "source": [
    "# Voorbeeld voor concept linear regression\n",
    "# Behoefte/vraagstuk: \n",
    "# is er een verband tussen de (web)pagina-snelheid (pagespeed) \n",
    "# en het aankoopbedrag (purchaseAmount)?\n",
    "# Note: willekeurig gegenereerde observaties, later praktijk data\n",
    "\n",
    "%matplotlib inline\n",
    "import numpy as np\n",
    "from pylab import *\n",
    "\n",
    "# generate distributions\n",
    "pageSpeeds = np.random.normal(3.0, 1.0, 1000)\n",
    "purchaseAmount = 100 - (pageSpeeds + np.random.normal(0, 0.1, 1000)) * 3\n",
    "\n",
    "# plot purchaseAmount against pageSpeed... \n",
    "scatter(pageSpeeds, purchaseAmount, color='b')"
   ]
  },
  {
   "cell_type": "markdown",
   "metadata": {},
   "source": [
    "Duidelijk is te zien dat er een lineaire relatie is tussen paginasnelheid en het aankoopbedrag. In dit geval nogal voor de hand liggend.\n",
    "\n",
    "Sinds we slechts twee observaties hebben, houden we het simpel en maken gebruik van `scipy.state.linregress` (uit module `scipy.stats`). Later gaan we **scikit-learn** gebruiken, dat voortbouwt op de module `scipy`."
   ]
  },
  {
   "cell_type": "code",
   "execution_count": 2,
   "metadata": {
    "slideshow": {
     "slide_type": "subslide"
    }
   },
   "outputs": [
    {
     "name": "stdout",
     "output_type": "stream",
     "text": [
      "slope: -2.9941495302910655\n",
      "intercept: 99.96648789954918\n"
     ]
    }
   ],
   "source": [
    "from scipy import stats\n",
    "\n",
    "# linear regression model: y = m.x + b  (m=slope, b=interecept)\n",
    "slope, intercept, r_value, _, _ = stats.linregress(pageSpeeds, purchaseAmount)\n",
    "\n",
    "# model parameters slope and intercept:\n",
    "print('slope: {}'.format(slope))\n",
    "print('intercept: {}'.format(intercept))"
   ]
  },
  {
   "cell_type": "markdown",
   "metadata": {
    "slideshow": {
     "slide_type": "subslide"
    }
   },
   "source": [
    "### Hoe goed is het model?\n",
    "\n",
    "De **R-squared** is de meest populaire metriek om te evalueren hoe goed het model past bij de gegevens. \n",
    "\n",
    "De waarde van de R-squared geeft aan de fractie van de totale variatie in Y (*target*) die wordt vastgelegd door het model.\n",
    "\n",
    "Het is een waarde tussen 0 en 1; hoe dichter de waarde bij 1, hoe beter de modelkwaliteit. Hoe dichter waarde bij de 0 is, hoe 'slechter' de aanpassing van het model aan de gegevens is.\n",
    "\n",
    "Berekening R_squared: \n",
    "![Figuur1](images/r_squared_calculation.png)\n",
    "                  \n",
    "Gelukkig is er een Python functie die r-squared voor ons berekent."
   ]
  },
  {
   "cell_type": "code",
   "execution_count": 87,
   "metadata": {},
   "outputs": [
    {
     "name": "stdout",
     "output_type": "stream",
     "text": [
      "r-squared: 0.9900995069811002\n"
     ]
    }
   ],
   "source": [
    "# r-squared value = r_value^2\n",
    "# not surprisingly, the R-squared value shows a really good fit.\n",
    "print('r-squared: {}'.format(r_value ** 2))"
   ]
  },
  {
   "cell_type": "markdown",
   "metadata": {
    "slideshow": {
     "slide_type": "subslide"
    }
   },
   "source": [
    "Laten we de *slope* en de *interceptie* gebruiken, die we van de regressie hebben gekregen, om een grafiek te maken van voorspelde waarden versus observatie waarden:"
   ]
  },
  {
   "cell_type": "code",
   "execution_count": 88,
   "metadata": {},
   "outputs": [
    {
     "data": {
      "image/png": "[encoded data removed]",
      "text/plain": [
       "<Figure size 432x288 with 1 Axes>"
      ]
     },
     "metadata": {
      "needs_background": "light"
     },
     "output_type": "display_data"
    }
   ],
   "source": [
    "import matplotlib.pyplot as plt\n",
    "\n",
    "# model prediction function (linear regression):\n",
    "#   y = slope * x + intercept\n",
    "def predict(x):\n",
    "    return slope * x + intercept\n",
    "\n",
    "fitLine = predict(pageSpeeds) #prediction values\n",
    "\n",
    "# show observations/features and prediction values\n",
    "plt.scatter(pageSpeeds, purchaseAmount, color='g')\n",
    "plt.plot(pageSpeeds, fitLine, c='r', linewidth=3)\n",
    "plt.show()"
   ]
  },
  {
   "cell_type": "markdown",
   "metadata": {
    "slideshow": {
     "slide_type": "subslide"
    }
   },
   "source": [
    "### Activiteit\n",
    "\n",
    "Probeer de willekeurige variatie in de dataset te vergroten en kijk welk effect het heeft op de r-squared waarde."
   ]
  },
  {
   "cell_type": "code",
   "execution_count": 89,
   "metadata": {
    "slideshow": {
     "slide_type": "notes"
    }
   },
   "outputs": [
    {
     "data": {
      "image/png": "[encoded data removed]",
      "text/plain": [
       "<Figure size 432x288 with 1 Axes>"
      ]
     },
     "metadata": {
      "needs_background": "light"
     },
     "output_type": "display_data"
    },
    {
     "name": "stdout",
     "output_type": "stream",
     "text": [
      "slope: -3.0201580843637545\n",
      "intercept: 100.07090665864817\n",
      "r-squared: 0.9899960743292027\n"
     ]
    }
   ],
   "source": [
    "# Activity example linear regression pagespeed vs. purchaseAmount\n",
    "\n",
    "%matplotlib inline\n",
    "import numpy as np\n",
    "from pylab import *\n",
    "from scipy import stats\n",
    "import matplotlib.pyplot as plt\n",
    "\n",
    "# generate datasets\n",
    "pageSpeeds = np.random.normal(3.0, 1.0, 1000)\n",
    "purchaseAmount = 100 - (pageSpeeds + np.random.normal(0, 0.1, 1000)) * 3\n",
    "\n",
    "# calculate the linear regression model\n",
    "slope, intercept, r_value, _, _ = \\\n",
    "        stats.linregress (pageSpeeds, purchaseAmount)\n",
    "\n",
    "# prediction function\n",
    "def predict(x):\n",
    "    return slope * x + intercept\n",
    "\n",
    "# generate the prediction line\n",
    "fitLine = predict(pageSpeeds)\n",
    "\n",
    "# make plots\n",
    "plt.scatter(pageSpeeds, purchaseAmount, color='b')\n",
    "plt.plot(pageSpeeds, fitLine, c='r', linewidth=3)\n",
    "plt.show()\n",
    "\n",
    "# print modelparameters\n",
    "print('slope: {}'.format(slope))\n",
    "print('intercept: {}'.format(intercept))\n",
    "print('r-squared: {}'.format(r_value ** 2))"
   ]
  },
  {
   "cell_type": "markdown",
   "metadata": {
    "slideshow": {
     "slide_type": "slide"
    }
   },
   "source": [
    "----"
   ]
  },
  {
   "cell_type": "markdown",
   "metadata": {
    "slideshow": {
     "slide_type": "slide"
    }
   },
   "source": [
    "### Interpolatie en extrapolatie\n",
    "Een regression model wordt getraind aan de hand van de aanwezige data (*interpolatie*), en het getrainde model wordt vervolgens gebruikt om een voorspelling/prognose te doen voor de onbekende data (*extrapolatie*).\n",
    "\n",
    "**Figuur: interpolatie en extrapolatie**\n",
    "![interpolatie_extrapolatie](images/interpolatie_extrapolatie.png)\n",
    "\n",
    "NB. Voor de *interpolatie* verdelen we de data set in een **training set**, om het model te trainen, en een **test set** om het model te valideren."
   ]
  },
  {
   "cell_type": "markdown",
   "metadata": {
    "slideshow": {
     "slide_type": "subslide"
    }
   },
   "source": [
    "#### Linear regression\n",
    "Linear regression is een vorm van regressie waarin één variabele (*feature*) gebruikt wordt om de uitkomst van een andere variabele te voorspellen (*target*). \n",
    "\n",
    "Dit is erg bruikbaar bij het onderzoeken of er een trend in de data aanwezig is (voorspellingen), en bij **time series  modelling**, bijvoorbeeld, waarbij je de temperaturen over de jaren heen bekijkt of er globale opwarming plaatsvindt.\n",
    "\n",
    "Wiskundig:  **y = b0 + b1.x + e**<br>\n",
    "y: afhankelijke variabele, de *target*<br>\n",
    "x: onafhankelijke variabele (de observatie/*feature*)<br>\n",
    "b1: hellingshoek van de lijn (*slope*)<br>\n",
    "b0: interceptie met x=0<br>\n",
    "e: regression residue<br>\n",
    "\n",
    "**Figuur: linear regression line**\n",
    "![LinearRegressionBestFitLine](images/linear_regression_line.png)"
   ]
  },
  {
   "cell_type": "markdown",
   "metadata": {
    "slideshow": {
     "slide_type": "subslide"
    }
   },
   "source": [
    "#### Least square regression line\n",
    "Dat  is die lijn door de punten waarbij de som van het kwadraat van de vertikale afstanden tot die lijn minimaal is.\n",
    "\n",
    "Wiskundig:  **y = b0 + b1.x**<br>\n",
    "waarbij b1 en b0 worden berekend op grond van minimale afstand tussen een data op de lijn (y) en werkelijke data (yw). y is de *target*.\n",
    "\n",
    "**Figuur: linear regression least-square line**\n",
    "![LeastSquareRegressionLine](images/linear_regressing_bestfit_line.png)"
   ]
  },
  {
   "cell_type": "markdown",
   "metadata": {
    "slideshow": {
     "slide_type": "slide"
    }
   },
   "source": [
    "### Polynomial Regression\n",
    "Niet alle verbanden tussen variabelen zijn linear. Er is een vorm van lineaire regressie van hogere orde, gemodelleerd tussen afhankelijke en onafhankelijke variabelen als een n-de graads polynoom. Hoewel het lineair is, past het de lijnen beter aanpassen. In essentie introduceren we hogere-orde variabelen van dezelfde onafhankelijke variabele in de vergelijking.\n",
    "\n",
    "1. **Linear**: y = m.x + b.  'First-order' of 'first degree' polynomial, want de macht van x is 1.\n",
    "2. **2de graads polynoom**: y = a.x^2 + b.x + c\n",
    "3. **3de graads polynoom**: y = a.x^3 + b.x^2 + c.x + d\n",
    "4. n-de orde polynomen (n>3) ....\n",
    "\n",
    "Hogere orde polynomen produceren complexere grafieken.\n",
    "![voorbeeld_2nd_orde_polynomial](images/nth_order_polynomial.png)"
   ]
  },
  {
   "cell_type": "markdown",
   "metadata": {
    "slideshow": {
     "slide_type": "subslide"
    }
   },
   "source": [
    "#### voorbeeld n-de graads polynomen"
   ]
  },
  {
   "cell_type": "code",
   "execution_count": 90,
   "metadata": {
    "slideshow": {
     "slide_type": "-"
    }
   },
   "outputs": [
    {
     "data": {
      "image/png": "[encoded data removed]",
      "text/plain": [
       "<Figure size 432x288 with 6 Axes>"
      ]
     },
     "metadata": {
      "needs_background": "light"
     },
     "output_type": "display_data"
    }
   ],
   "source": [
    "x = np.linspace(-3,3,1000) # 1000 sample numbers between -3 to 3\n",
    "\n",
    "# Plot subplots\n",
    "fig, ((ax1, ax2, ax3), (ax4, ax5, ax6)) = plt.subplots(nrows=2, ncols=3)\n",
    "\n",
    "ax1.plot(x, x)\n",
    "ax1.set_title('linear')\n",
    "ax2.plot(x, x**2)\n",
    "ax2.set_title('degree 2')\n",
    "ax3.plot(x, x**3)\n",
    "ax3.set_title('degree 3')\n",
    "ax4.plot(x, x**4)\n",
    "ax4.set_title('degree 4')\n",
    "ax5.plot(x, x**5)\n",
    "ax5.set_title('degree 5')\n",
    "ax6.plot(x, x**6)\n",
    "ax6.set_title('degree 6')\n",
    "\n",
    "plt.tight_layout()# tidy layout"
   ]
  },
  {
   "cell_type": "markdown",
   "metadata": {
    "slideshow": {
     "slide_type": "subslide"
    }
   },
   "source": [
    "#### Overfitting\n",
    "Het model past zich 'te goed aan' de dataset. Gebeurd meestal als je een te hoge orde polygoon gebruikt.\n",
    "\n",
    "- gebruik geen hogere macht dan je nodig hebt.\n",
    "- visualiseer je data eerst om een beeld te krijgen hoe complex de grafiek zou kunnen worden.\n",
    "- een grote r-square betekent dat de grafiek goed past bij de gegeven data (*training* data), maar het is geen goede voorspeller.\n",
    "- gebruik van train/test data is een principiële methode om overfitting te detecteren.\n",
    "\n",
    "Voorbeeld met `numpy.polyfit()` maaktde berekeningen eenvoudiger m.n. in het geval van overfitting. "
   ]
  },
  {
   "cell_type": "markdown",
   "metadata": {
    "slideshow": {
     "slide_type": "subslide"
    }
   },
   "source": [
    "#### Voorbeeld polynomial regression\n",
    "We nemen een wat realistischer gegevensverzameling van de pagina-snelheden en de aankoopbedragen."
   ]
  },
  {
   "cell_type": "code",
   "execution_count": 91,
   "metadata": {
    "slideshow": {
     "slide_type": "-"
    }
   },
   "outputs": [
    {
     "data": {
      "text/plain": [
       "<matplotlib.collections.PathCollection at 0x1a2298cc88>"
      ]
     },
     "execution_count": 91,
     "metadata": {},
     "output_type": "execute_result"
    },
    {
     "data": {
      "image/png": "[encoded data removed]",
      "text/plain": [
       "<Figure size 432x288 with 1 Axes>"
      ]
     },
     "metadata": {
      "needs_background": "light"
     },
     "output_type": "display_data"
    }
   ],
   "source": [
    "%matplotlib inline\n",
    "from pylab import *\n",
    "\n",
    "np.random.seed(2)  # make sure you always start same random dataset\n",
    "pageSpeeds = np.random.normal(3.0, 1.0, 1000)\n",
    "purchaseAmount = np.random.normal(50.0, 10.0, 1000) / pageSpeeds\n",
    "\n",
    "scatter(pageSpeeds, purchaseAmount)"
   ]
  },
  {
   "cell_type": "markdown",
   "metadata": {
    "slideshow": {
     "slide_type": "subslide"
    }
   },
   "source": [
    "De module `numpy` heeft een handige methode `polyfit()` waarmee we een n-de orde polynoom van onze data kunnen maken met minimale foutkwadraten."
   ]
  },
  {
   "cell_type": "code",
   "execution_count": 92,
   "metadata": {},
   "outputs": [],
   "source": [
    "# try 4th degree polynomial\n",
    "\n",
    "x = np.array(pageSpeeds)\n",
    "y = np.array(purchaseAmount)\n",
    "\n",
    "p4 = np.poly1d(np.polyfit(x, y, 4))"
   ]
  },
  {
   "cell_type": "markdown",
   "metadata": {
    "slideshow": {
     "slide_type": "subslide"
    }
   },
   "source": [
    "We zullen onze oorspronkelijke scatterplot maken, samen met een grafiek van onze voorspelde waarden met behulp van de polynoom voor paginasnelheidstijden van 0-7 seconden."
   ]
  },
  {
   "cell_type": "code",
   "execution_count": 93,
   "metadata": {},
   "outputs": [
    {
     "data": {
      "image/png": "[encoded data removed]",
      "text/plain": [
       "<Figure size 432x288 with 1 Axes>"
      ]
     },
     "metadata": {
      "needs_background": "light"
     },
     "output_type": "display_data"
    }
   ],
   "source": [
    "import matplotlib.pyplot as plt\n",
    "\n",
    "xp = np.linspace(0, 7, 100)\n",
    "plt.scatter(x, y)\n",
    "plt.plot(xp, p4(xp), c='r')\n",
    "plt.show()"
   ]
  },
  {
   "cell_type": "markdown",
   "metadata": {
    "slideshow": {
     "slide_type": "fragment"
    }
   },
   "source": [
    "Dat ziet er goed uit. We berekenen de r-squared waarde:"
   ]
  },
  {
   "cell_type": "code",
   "execution_count": 94,
   "metadata": {
    "slideshow": {
     "slide_type": "fragment"
    }
   },
   "outputs": [
    {
     "name": "stdout",
     "output_type": "stream",
     "text": [
      "0.8293766396303073\n"
     ]
    }
   ],
   "source": [
    "from sklearn.metrics import r2_score\n",
    "\n",
    "r2 = r2_score(y, p4(x))\n",
    "print (r2)"
   ]
  },
  {
   "cell_type": "markdown",
   "metadata": {
    "slideshow": {
     "slide_type": "subslide"
    }
   },
   "source": [
    "#### Activiteit\n",
    "Probeer zelf verschillende orde polynomen. Krijg je een betere aanpasing te zien met hogere orde? Wanneer begin je overfitting te zien, zelfs als de r-squared waarde er goed uitziet voor deze dataset?\n"
   ]
  },
  {
   "cell_type": "code",
   "execution_count": 95,
   "metadata": {
    "slideshow": {
     "slide_type": "notes"
    }
   },
   "outputs": [
    {
     "data": {
      "image/png": "[encoded data removed]",
      "text/plain": [
       "<Figure size 432x288 with 1 Axes>"
      ]
     },
     "metadata": {
      "needs_background": "light"
     },
     "output_type": "display_data"
    },
    {
     "name": "stdout",
     "output_type": "stream",
     "text": [
      "r-squared: 0.8293766396303073\n"
     ]
    }
   ],
   "source": [
    "# TODO: try different order polynomials \n",
    "#       and see when overfitting takes place\n",
    "\n",
    "%matplotlib inline\n",
    "from pylab import *\n",
    "\n",
    "np.random.seed(2) # make sure you always start same random dataset\n",
    "pageSpeeds = np.random.normal(3.0, 1.0, 1000)\n",
    "purchaseAmount = np.random.normal(50.0, 10.0, 1000) / pageSpeeds\n",
    "\n",
    "x = np.array(pageSpeeds)\n",
    "y = np.array(purchaseAmount)\n",
    "\n",
    "# polynoom of order n=12...\n",
    "p12 = np.poly1d(np.polyfit(x, y, 12))\n",
    "\n",
    "xp = np.linspace(0, 7, 100)\n",
    "plt.scatter(x, y)\n",
    "plt.plot(xp, p12(xp), c='r')\n",
    "plt.show()\n",
    "\n",
    "r2 = r2_score(y, p4(x))\n",
    "print ('r-squared:', r2)"
   ]
  },
  {
   "cell_type": "markdown",
   "metadata": {
    "slideshow": {
     "slide_type": "subslide"
    }
   },
   "source": [
    "### EXTRA - hoe goed is het model?\n",
    "\n",
    "De drie meest gebruikte metrieken voor een maatstaf van de modelkwaliteit zijn:\n",
    "1. **R-kwadraat**\n",
    "> De R-kwadraat is de meest populaire praktijk om te evalueren hoe goed het model bij de gegevens past. De R-kwadraatwaarde geeft de totale variatie in de afhankelijke variabele aan, die door de onafhankelijke variabele kan worden bepaald. Het is een waarde tussen 0 en 1; hoe dichter de waarde bij 1, hoe beter de modelkwaliteit.\n",
    "2. **Root Mean Squared Error (RMSE)**\n",
    "> RMSE geeft aan hoe dicht de voorspelde waarden liggen bij de werkelijke waarden; daarom betekent een lage RMSE-waarde dat de modelkwaliteit goed is. \n",
    "3. **Mean Absolute Error (MAE)**\n",
    "> MAE geeft aan de afwijking hoe ver gemiddeld de modelvoorspelling afwijkt van de werkelijke waarde.<br>\n",
    "> MAE is het gemiddelde van de absolute waarde van de fouten. Een fout is het verschil tussen werkelijke waarde en voorspelde waarde.<br>\n",
    "> Ook nu weer betekent een lagere MAE-waarde dat de modelkwaliteit beter is\n",
    "> Voorbeeld MAE: https://medium.com/@ewuramaminka/mean-absolute-error-mae-sample-calculation-6eed6743838a\n",
    "\n",
    "De benodigde berekeningen staan in de sub-module `metrics` van de scikit-learn bibliotheek. **Zie oefenopdracht** [Student resultaten en studie-uren](#assignment_grades)."
   ]
  },
  {
   "cell_type": "markdown",
   "metadata": {
    "slideshow": {
     "slide_type": "slide"
    }
   },
   "source": [
    "### Multivariate Regression (multiple regression)\n",
    "\n",
    "Wanneer meer dan één variabele invloed hebben op de variabele (*target*) waarin je geinteresseerd bent, spreekt men van *multivariate regression*.\n",
    "\n",
    "**Voorbeeld**: het voorspellen van de prijs van een auto op basis van vele attributen, zoals kleur, merk, gereden kilometers, brandstofgebruik, etc.\n",
    "\n",
    "Regression model gebruikt nog steeds *least squares* methoden.\n",
    "- coefficienten voor elke factor, \n",
    "> bijv. `prijs = a + b.kilometerstand + c.leeftijd + d.aantal_deuren`.<br>\n",
    "> De factoren a, b, c, d impliceren hoe belangrijk elke factor is.<br>\n",
    "> *feature-selection* - verwijder datgene wat niet relevant is, bijv. die factoren die een lage coefficient hebben.\n",
    "- je kan nog steeds de modelaanpassing meten met **R-squared**.\n",
    "- aanname is dat factoren onderling onafhankelijk van elkaar zijn.\n",
    "\n",
    "De `statsmodel` module maakt *multivariate regression* wat makkelijker te gebruiken, zoals in het volgende voorbeeld.\n",
    "\n",
    "**Reference** \n",
    "Module `statsmodel` - linear regression: https://www.statsmodels.org/dev/regression.html"
   ]
  },
  {
   "cell_type": "markdown",
   "metadata": {
    "slideshow": {
     "slide_type": "subslide"
    }
   },
   "source": [
    "#### Voorbeeld multivariate regression\n",
    "\n",
    "**Use Case**: Hoe hangt de prijs van een auto af van factoren, zoals merk, kilometerstand, aantal deuren, etc.?\n",
    "\n",
    "**Dataset**: http://cdn.sundog-soft.com/Udemy/DataScience/cars.xls"
   ]
  },
  {
   "cell_type": "code",
   "execution_count": 97,
   "metadata": {},
   "outputs": [
    {
     "data": {
      "text/html": [
       "<div>\n",
       "<style scoped>\n",
       "    .dataframe tbody tr th:only-of-type {\n",
       "        vertical-align: middle;\n",
       "    }\n",
       "\n",
       "    .dataframe tbody tr th {\n",
       "        vertical-align: top;\n",
       "    }\n",
       "\n",
       "    .dataframe thead th {\n",
       "        text-align: right;\n",
       "    }\n",
       "</style>\n",
       "<table border=\"1\" class=\"dataframe\">\n",
       "  <thead>\n",
       "    <tr style=\"text-align: right;\">\n",
       "      <th></th>\n",
       "      <th>Price</th>\n",
       "      <th>Mileage</th>\n",
       "      <th>Make</th>\n",
       "      <th>Model</th>\n",
       "      <th>Trim</th>\n",
       "      <th>Type</th>\n",
       "      <th>Cylinder</th>\n",
       "      <th>Liter</th>\n",
       "      <th>Doors</th>\n",
       "      <th>Cruise</th>\n",
       "      <th>Sound</th>\n",
       "      <th>Leather</th>\n",
       "    </tr>\n",
       "  </thead>\n",
       "  <tbody>\n",
       "    <tr>\n",
       "      <th>0</th>\n",
       "      <td>17314.103129</td>\n",
       "      <td>8221</td>\n",
       "      <td>Buick</td>\n",
       "      <td>Century</td>\n",
       "      <td>Sedan 4D</td>\n",
       "      <td>Sedan</td>\n",
       "      <td>6</td>\n",
       "      <td>3.1</td>\n",
       "      <td>4</td>\n",
       "      <td>1</td>\n",
       "      <td>1</td>\n",
       "      <td>1</td>\n",
       "    </tr>\n",
       "    <tr>\n",
       "      <th>1</th>\n",
       "      <td>17542.036083</td>\n",
       "      <td>9135</td>\n",
       "      <td>Buick</td>\n",
       "      <td>Century</td>\n",
       "      <td>Sedan 4D</td>\n",
       "      <td>Sedan</td>\n",
       "      <td>6</td>\n",
       "      <td>3.1</td>\n",
       "      <td>4</td>\n",
       "      <td>1</td>\n",
       "      <td>1</td>\n",
       "      <td>0</td>\n",
       "    </tr>\n",
       "    <tr>\n",
       "      <th>2</th>\n",
       "      <td>16218.847862</td>\n",
       "      <td>13196</td>\n",
       "      <td>Buick</td>\n",
       "      <td>Century</td>\n",
       "      <td>Sedan 4D</td>\n",
       "      <td>Sedan</td>\n",
       "      <td>6</td>\n",
       "      <td>3.1</td>\n",
       "      <td>4</td>\n",
       "      <td>1</td>\n",
       "      <td>1</td>\n",
       "      <td>0</td>\n",
       "    </tr>\n",
       "    <tr>\n",
       "      <th>3</th>\n",
       "      <td>16336.913140</td>\n",
       "      <td>16342</td>\n",
       "      <td>Buick</td>\n",
       "      <td>Century</td>\n",
       "      <td>Sedan 4D</td>\n",
       "      <td>Sedan</td>\n",
       "      <td>6</td>\n",
       "      <td>3.1</td>\n",
       "      <td>4</td>\n",
       "      <td>1</td>\n",
       "      <td>0</td>\n",
       "      <td>0</td>\n",
       "    </tr>\n",
       "    <tr>\n",
       "      <th>4</th>\n",
       "      <td>16339.170324</td>\n",
       "      <td>19832</td>\n",
       "      <td>Buick</td>\n",
       "      <td>Century</td>\n",
       "      <td>Sedan 4D</td>\n",
       "      <td>Sedan</td>\n",
       "      <td>6</td>\n",
       "      <td>3.1</td>\n",
       "      <td>4</td>\n",
       "      <td>1</td>\n",
       "      <td>0</td>\n",
       "      <td>1</td>\n",
       "    </tr>\n",
       "  </tbody>\n",
       "</table>\n",
       "</div>"
      ],
      "text/plain": [
       "          Price  Mileage   Make    Model      Trim   Type  Cylinder  Liter  \\\n",
       "0  17314.103129     8221  Buick  Century  Sedan 4D  Sedan         6    3.1   \n",
       "1  17542.036083     9135  Buick  Century  Sedan 4D  Sedan         6    3.1   \n",
       "2  16218.847862    13196  Buick  Century  Sedan 4D  Sedan         6    3.1   \n",
       "3  16336.913140    16342  Buick  Century  Sedan 4D  Sedan         6    3.1   \n",
       "4  16339.170324    19832  Buick  Century  Sedan 4D  Sedan         6    3.1   \n",
       "\n",
       "   Doors  Cruise  Sound  Leather  \n",
       "0      4       1      1        1  \n",
       "1      4       1      1        0  \n",
       "2      4       1      1        0  \n",
       "3      4       1      0        0  \n",
       "4      4       1      0        1  "
      ]
     },
     "execution_count": 97,
     "metadata": {},
     "output_type": "execute_result"
    }
   ],
   "source": [
    "# grab the small dataset of the Blue Book car values\n",
    "import pandas as pd\n",
    "df = pd.read_excel('http://cdn.sundog-soft.com/Udemy/DataScience/cars.xls')\n",
    "df.head()"
   ]
  },
  {
   "cell_type": "markdown",
   "metadata": {
    "slideshow": {
     "slide_type": "subslide"
    }
   },
   "source": [
    "We kunnen panda's gebruiken om deze matrix op te splitsen in de *feature* vectoren waarin we geïnteresseerd zijn, en de waarde die we proberen te voorspellen.\n",
    "\n",
    "We limiteren de vraag: kunnen we de prijs van de auto voorspellen op grond van kilometerstand (mileage), type auto (model) en het aantal deuren?\n",
    "\n",
    "Aangezien factor *model* is uitgedrukt in een tekst (categoriegegeven), zal dat omgewerkt moeten worden naar iets waarmee te werken valt.\n",
    "\n",
    "> **regel 4**: we gebruiken pandas voor het omzetten tekstuele categoriegegevens (modelnaam) in een ordinaal nummer, waarmee we kunnen rekenen."
   ]
  },
  {
   "cell_type": "code",
   "execution_count": 98,
   "metadata": {
    "slideshow": {
     "slide_type": "subslide"
    }
   },
   "outputs": [
    {
     "data": {
      "text/html": [
       "<table class=\"simpletable\">\n",
       "<caption>OLS Regression Results</caption>\n",
       "<tr>\n",
       "  <th>Dep. Variable:</th>          <td>Price</td>      <th>  R-squared:         </th> <td>   0.042</td> \n",
       "</tr>\n",
       "<tr>\n",
       "  <th>Model:</th>                   <td>OLS</td>       <th>  Adj. R-squared:    </th> <td>   0.038</td> \n",
       "</tr>\n",
       "<tr>\n",
       "  <th>Method:</th>             <td>Least Squares</td>  <th>  F-statistic:       </th> <td>   11.57</td> \n",
       "</tr>\n",
       "<tr>\n",
       "  <th>Date:</th>             <td>Tue, 27 Nov 2018</td> <th>  Prob (F-statistic):</th> <td>1.98e-07</td> \n",
       "</tr>\n",
       "<tr>\n",
       "  <th>Time:</th>                 <td>14:22:56</td>     <th>  Log-Likelihood:    </th> <td> -8519.1</td> \n",
       "</tr>\n",
       "<tr>\n",
       "  <th>No. Observations:</th>      <td>   804</td>      <th>  AIC:               </th> <td>1.705e+04</td>\n",
       "</tr>\n",
       "<tr>\n",
       "  <th>Df Residuals:</th>          <td>   800</td>      <th>  BIC:               </th> <td>1.706e+04</td>\n",
       "</tr>\n",
       "<tr>\n",
       "  <th>Df Model:</th>              <td>     3</td>      <th>                     </th>     <td> </td>    \n",
       "</tr>\n",
       "<tr>\n",
       "  <th>Covariance Type:</th>      <td>nonrobust</td>    <th>                     </th>     <td> </td>    \n",
       "</tr>\n",
       "</table>\n",
       "<table class=\"simpletable\">\n",
       "<tr>\n",
       "      <td></td>         <th>coef</th>     <th>std err</th>      <th>t</th>      <th>P>|t|</th>  <th>[0.025</th>    <th>0.975]</th>  \n",
       "</tr>\n",
       "<tr>\n",
       "  <th>const</th>     <td> 3.125e+04</td> <td> 1809.549</td> <td>   17.272</td> <td> 0.000</td> <td> 2.77e+04</td> <td> 3.48e+04</td>\n",
       "</tr>\n",
       "<tr>\n",
       "  <th>Mileage</th>   <td>   -0.1765</td> <td>    0.042</td> <td>   -4.227</td> <td> 0.000</td> <td>   -0.259</td> <td>   -0.095</td>\n",
       "</tr>\n",
       "<tr>\n",
       "  <th>Model_ord</th> <td>  -39.0387</td> <td>   39.326</td> <td>   -0.993</td> <td> 0.321</td> <td> -116.234</td> <td>   38.157</td>\n",
       "</tr>\n",
       "<tr>\n",
       "  <th>Doors</th>     <td>-1652.9303</td> <td>  402.649</td> <td>   -4.105</td> <td> 0.000</td> <td>-2443.303</td> <td> -862.558</td>\n",
       "</tr>\n",
       "</table>\n",
       "<table class=\"simpletable\">\n",
       "<tr>\n",
       "  <th>Omnibus:</th>       <td>206.410</td> <th>  Durbin-Watson:     </th> <td>   0.080</td> \n",
       "</tr>\n",
       "<tr>\n",
       "  <th>Prob(Omnibus):</th> <td> 0.000</td>  <th>  Jarque-Bera (JB):  </th> <td> 470.872</td> \n",
       "</tr>\n",
       "<tr>\n",
       "  <th>Skew:</th>          <td> 1.379</td>  <th>  Prob(JB):          </th> <td>5.64e-103</td>\n",
       "</tr>\n",
       "<tr>\n",
       "  <th>Kurtosis:</th>      <td> 5.541</td>  <th>  Cond. No.          </th> <td>1.15e+05</td> \n",
       "</tr>\n",
       "</table><br/><br/>Warnings:<br/>[1] Standard Errors assume that the covariance matrix of the errors is correctly specified.<br/>[2] The condition number is large, 1.15e+05. This might indicate that there are<br/>strong multicollinearity or other numerical problems."
      ],
      "text/plain": [
       "<class 'statsmodels.iolib.summary.Summary'>\n",
       "\"\"\"\n",
       "                            OLS Regression Results                            \n",
       "==============================================================================\n",
       "Dep. Variable:                  Price   R-squared:                       0.042\n",
       "Model:                            OLS   Adj. R-squared:                  0.038\n",
       "Method:                 Least Squares   F-statistic:                     11.57\n",
       "Date:                Tue, 27 Nov 2018   Prob (F-statistic):           1.98e-07\n",
       "Time:                        14:22:56   Log-Likelihood:                -8519.1\n",
       "No. Observations:                 804   AIC:                         1.705e+04\n",
       "Df Residuals:                     800   BIC:                         1.706e+04\n",
       "Df Model:                           3                                         \n",
       "Covariance Type:            nonrobust                                         \n",
       "==============================================================================\n",
       "                 coef    std err          t      P>|t|      [0.025      0.975]\n",
       "------------------------------------------------------------------------------\n",
       "const       3.125e+04   1809.549     17.272      0.000    2.77e+04    3.48e+04\n",
       "Mileage       -0.1765      0.042     -4.227      0.000      -0.259      -0.095\n",
       "Model_ord    -39.0387     39.326     -0.993      0.321    -116.234      38.157\n",
       "Doors      -1652.9303    402.649     -4.105      0.000   -2443.303    -862.558\n",
       "==============================================================================\n",
       "Omnibus:                      206.410   Durbin-Watson:                   0.080\n",
       "Prob(Omnibus):                  0.000   Jarque-Bera (JB):              470.872\n",
       "Skew:                           1.379   Prob(JB):                    5.64e-103\n",
       "Kurtosis:                       5.541   Cond. No.                     1.15e+05\n",
       "==============================================================================\n",
       "\n",
       "Warnings:\n",
       "[1] Standard Errors assume that the covariance matrix of the errors is correctly specified.\n",
       "[2] The condition number is large, 1.15e+05. This might indicate that there are\n",
       "strong multicollinearity or other numerical problems.\n",
       "\"\"\""
      ]
     },
     "execution_count": 98,
     "metadata": {},
     "output_type": "execute_result"
    }
   ],
   "source": [
    "import statsmodels.api as sm\n",
    "\n",
    "# Modelname (categorical data) -> Model_ord (ordinal data)\n",
    "df['Model_ord'] = pd.Categorical(df.Model).codes\n",
    "\n",
    "# input model: feature vectors X, y(=target)\n",
    "X = df[['Mileage', 'Model_ord', 'Doors']]\n",
    "\n",
    "# prognose variable\n",
    "y = df[['Price']]\n",
    "\n",
    "# calculate a simple Ordinary Least Squares model\n",
    "# https://www.statsmodels.org/dev/generated/statsmodels.regression.linear_model.OLS.html\n",
    "X1 = sm.add_constant(X)\n",
    "est = sm.OLS(y, X1).fit()\n",
    "\n",
    "\n",
    "est.summary()"
   ]
  },
  {
   "cell_type": "markdown",
   "metadata": {
    "slideshow": {
     "slide_type": "-"
    }
   },
   "source": [
    "De tabel met de coefficienten geeft ons de waarden voor de vergelijking:<br>\n",
    "`B0 + B1 * Mileage + B2 * model_ord + B3 * doors`\n",
    "\n",
    "Maar in dit voorbeeld is het vrij duidelijk dat het aantal kilometers (`Mileage`) belangrijker is dan wat dan ook, op basis van de standaard errors (`std err`).\n",
    "\n",
    "Hadden we dat eerder kunnen bedenken?\n",
    "\n",
    "Merk op dat **R-squared** laag is (0.042), hetgeen aangeeft dat er geen goede modelaanpassing is."
   ]
  },
  {
   "cell_type": "code",
   "execution_count": 99,
   "metadata": {
    "slideshow": {
     "slide_type": "subslide"
    }
   },
   "outputs": [
    {
     "data": {
      "text/html": [
       "<div>\n",
       "<style scoped>\n",
       "    .dataframe tbody tr th:only-of-type {\n",
       "        vertical-align: middle;\n",
       "    }\n",
       "\n",
       "    .dataframe tbody tr th {\n",
       "        vertical-align: top;\n",
       "    }\n",
       "\n",
       "    .dataframe thead th {\n",
       "        text-align: right;\n",
       "    }\n",
       "</style>\n",
       "<table border=\"1\" class=\"dataframe\">\n",
       "  <thead>\n",
       "    <tr style=\"text-align: right;\">\n",
       "      <th></th>\n",
       "      <th>Price</th>\n",
       "    </tr>\n",
       "    <tr>\n",
       "      <th>Doors</th>\n",
       "      <th></th>\n",
       "    </tr>\n",
       "  </thead>\n",
       "  <tbody>\n",
       "    <tr>\n",
       "      <th>2</th>\n",
       "      <td>23807.135520</td>\n",
       "    </tr>\n",
       "    <tr>\n",
       "      <th>4</th>\n",
       "      <td>20580.670749</td>\n",
       "    </tr>\n",
       "  </tbody>\n",
       "</table>\n",
       "</div>"
      ],
      "text/plain": [
       "              Price\n",
       "Doors              \n",
       "2      23807.135520\n",
       "4      20580.670749"
      ]
     },
     "execution_count": 99,
     "metadata": {},
     "output_type": "execute_result"
    }
   ],
   "source": [
    "y.groupby(df.Doors).mean() # mean price for number of doors"
   ]
  },
  {
   "cell_type": "markdown",
   "metadata": {},
   "source": [
    "Verrassend genoeg betekenen meer deuren geen hogere prijs! Het is dus niet verrassend dat het hier tamelijk nutteloos is als voorspeller. Dit is echter een zeer kleine dataset, dus we kunnen er niet echt veel betekenis in lezen."
   ]
  },
  {
   "cell_type": "markdown",
   "metadata": {
    "slideshow": {
     "slide_type": "subslide"
    }
   },
   "source": [
    "#### Activiteit\n",
    "- Speel eens met de invoergegevens en kijk of je een meetbare invloed van het aantal deuren op de prijs kunt creëren en... waarom stoppen bij 4 deuren?\n",
    "- Kies andere *features* en onderzoek hun invloed op de prijs.\n",
    "\n",
    "Veel plezier ermee."
   ]
  },
  {
   "cell_type": "markdown",
   "metadata": {
    "slideshow": {
     "slide_type": "slide"
    }
   },
   "source": [
    "<a id=\"references_regression\"></a>\n",
    "## 4. Studiemateriaal\n",
    "\n",
    "We zagen dat machine learning een verzameling technieken is, ook wel *modellen* genoemd, die patronen in data kunnen detecteren en met die patronen maken we een (toekomstige) voorspelling. Vervolgens leren we de computer die patronen, waarmee die 'zelfstandig' met nieuwe data aan de slag gaat.\n",
    "\n",
    "De in de introductie genoemde 'building block' module **scikit-learn** is ontworpen voor de meest populaire machine learning algorithmen uit de categorieeën *supervised* en *unsupervised learning*. Het ondersteunt (nog) niet de *reinforcement learning* (november 2018).\n",
    "\n",
    "#### Studie/leerstof:\n",
    "[VanderPlas] chapter 5 Machine Learning - sectie __[In Depth: Linear Regression](https://jakevdp.github.io/PythonDataScienceHandbook/05.06-linear-regression.html)__ <small>(gezien op 25 November 2018)</small>\n",
    "\n",
    "#### Aanbevolen studemateriaal\n",
    "\n",
    "1. [**scikit-learn**]: Website: https://scikit-learn.org/stable/\n",
    "> Voorbeelden: https://scikit-learn.org/stable/auto_examples/index.html<br>\n",
    "> Github: https://github.com/scikit-learn/scikit-learn\n",
    "\n",
    "2. [**Swamynathan**] __[Mastering Machine Learning with Python in Six Steps](https://www.apress.com/la/book/9781484228654)__, Manohar Swamynathan, 2017, Apress, 2017. <small>(gezien op 3 September 2018)</small>\n",
    "\n",
    "3. [**Haroon**] __[Python Machine learning Case studies](https://www.apress.com/gp/book/9781484228227)__, Danish Haroon, Apress, 2017. <small>(gezien op 3 September 2018)</small>.\n",
    "\n",
    "4. [**Morgan**] __[Data Analysis from scratch with Python: STEP-BY-STEP Guide](https://www.amazon.com/Analysis-Scratch-Python-Step-Step-ebook/dp/B07F193447/ref=dp_olp_1)__, Peter Morgan,  AI Science, 2018. <small>(gezien op 3 September 2018)</small>. \n",
    "> Notitie: er is enige discussie over de auteur - zie reviews op Amazon.com.                        "
   ]
  },
  {
   "cell_type": "markdown",
   "metadata": {
    "slideshow": {
     "slide_type": "slide"
    }
   },
   "source": [
    "## 5. Oefenopdrachten Linear Regression<a id=\"assignments_regression\"></a>\n",
    "\n",
    "\n",
    "1. [Student resultaten en studie-uren](#assignment_grades)\n",
    "2. [Salaris en ervaring](#assignment_salary)\n",
    "3. [Bitcoins](#assignment_bitcoins)\n",
    "\n",
    "Maak gebruik van de module **scikit-learn** zoals in de voorbeelden.\n",
    "<br>Als je vastloopt: [Voorbeeld oplossingen](#assignment_solutions)\n"
   ]
  },
  {
   "cell_type": "markdown",
   "metadata": {
    "slideshow": {
     "slide_type": "slide"
    }
   },
   "source": [
    "### 1. Opdracht - student resultaten en studie-uren<a id=\"assignment_grades\"></a>\n",
    "\n",
    "**Use case**: Wat is het verband tussen de studie-resultaten en het gemiddeld aantal studie-uren voor een toets?\n",
    "\n",
    "**Dataset**: `Grade_Set_1.csv` in folder `datasets`.\n",
    "> waarbij de gemiddelde scores van de beoordelingscijfers van studenten en hun respectieve gemiddelde aantal studie-uren voor de toets voor een groep vergelijkbare IQ-studenten zijn verzameld.\n",
    "\n",
    "**Verkennen dataset**\n",
    "\n",
    "1. Importeer de benodigde libraries.\n",
    "2. Lees in een pandas dataframe de gegevens uit het CSV-bestand `Grade_Set_1.csv`.\n",
    "3. Toon de gegevens in tabel-vorm en toon de dimensies.\n",
    "4. Maak een scatter plot van het pandas dataframe data zodat onderstaande figuur te zien is.\n",
    "> **Hint**: zoek op hoe je een grafiek kan maken van een pandas dataframe.\n",
    "6. Welke twee conclusies trek je uit de uitkomsten.\n",
    "> **Hint**: er is een kwalitatieve en een kwantitatieve conclusie te maken.\n",
    "\n",
    "**Figuur cijfer vs. studie-uren**\n",
    "![cijfer_vs_studieuren](images/assignment_studentresults.png)"
   ]
  },
  {
   "cell_type": "markdown",
   "metadata": {
    "slideshow": {
     "slide_type": "subslide"
    }
   },
   "source": [
    "**maken van linear model**\n",
    "\n",
    "7. Bepaal met behulp van linear regression model uit scikit-learn (`import sklearn.linear_model as lm`) en de dataset de parameters van de rechte lijn die het beste past bij de dataset.\n",
    "> Gebruik de `fit()` methode van het linear regression object en gebruik alle data als training set (geen test set).\n",
    "\n",
    "8. Toon de parameters van de linear regression model en de R-squared waarde.\n",
    "> **Tip**: Maak voor de berekening van R-squared gebruik van `r2_score` uit module `sklearn.metrics`\n",
    "\n",
    "9. Maak een grafiek van de dataset en de gevonden linear regression line (prediction line).\n",
    "\n",
    "10. Geef een voorspelling wat het cijfer zou kunnen zijn als de student 6 uur besteed aan het leren van de toetstof. Bereken de voorspelling handmatig uit (met de model parameters) en met een ingebouwde `predict()` methode van het linaer regression object. Verschillen ze van elkaar? \n",
    "\n",
    "11. Welk cijfer zou student heben als hij/zij 0 uren besteed aan de leerstof? Wat zegt dit?\n"
   ]
  },
  {
   "cell_type": "code",
   "execution_count": 100,
   "metadata": {
    "slideshow": {
     "slide_type": "fragment"
    }
   },
   "outputs": [],
   "source": [
    "# jouw code opdracht 1\n"
   ]
  },
  {
   "cell_type": "markdown",
   "metadata": {
    "slideshow": {
     "slide_type": "slide"
    }
   },
   "source": [
    "### 2. Opdracht - Salaris en Ervaringsjaren<a id=\"assignment_salary\"></a>\n",
    "\n",
    "**Gegeven dataset**: `datasets/Salary_Data.csv`.<br>\n",
    "**Use Case**: maak een linear regression model dat een voorspelling doet voor een salaris op basis van aantal jaren ervaring.\n",
    "\n",
    "**Stappen**\n",
    "1. importeer de noodzakelijke libraries.\n",
    "2. lees in de dataset `Salary_Data.csv` in een pandas dataframe.\n",
    "3. maak een X array met de jaren-ervaring's gegevens uit het dataframe.\n",
    "> Voorbeeld `X: [39343. 46205. 37731. 43525. 39891.]`\n",
    "\n",
    "4. maak een y array met de index en salaris gegevens uit de dataframe. Gebruik de pandas `iloc` methode.\n",
    "> Voorbeeld `y: [[1.1],[1.3], [1.5], [2. ], [2.2]]`\n",
    "\n",
    "5. splits de dataset in een training set (X_train, y_train) en een Test set (X_test, y_test) met de scikit-learn methode `train_test_split()`. Neem 1/3 van de dataset voor Test data en laat de gegevens random verdelen over training en test set.\n",
    "> from sklearn.model_selection import train_test_split\n",
    "6. maak een best-fit Simple Linear Regression model van de Training set.\n",
    "> maak een `LinearRegression` object uit scikit-learn en maak gebruik van de `fit` methode van het `LinearRegression` object om een beste aanpassing te maken.\n",
    "7. maak scatter plots van de training set en de test set resultaten.\n",
    "8. Wat is het voorspelde salaris na 12 jaar ervaring? Na 5 jaar ervaringen?"
   ]
  },
  {
   "cell_type": "code",
   "execution_count": 101,
   "metadata": {
    "slideshow": {
     "slide_type": "fragment"
    }
   },
   "outputs": [],
   "source": [
    "# jouw code opdracht 2\n"
   ]
  },
  {
   "attachments": {
    "bitcoins_vb.png": {
     "image/png": "[encoded data removed]"
    }
   },
   "cell_type": "markdown",
   "metadata": {
    "slideshow": {
     "slide_type": "slide"
    }
   },
   "source": [
    "### 3. Opdracht - Bitcoins<a id=\"assignment_bitcoins\"></a>\n",
    "\n",
    "**Use Case**\n",
    "Stel dat je bitcoins wilt kopen. Dan is een goed advies om eerst \"op papier\" de aankoopprijs van bitcoins gedurende een tijdje te volgen. Dat heeft Gerrit gedaan en dat leidde tot een (klein)overzicht van de bitcoin-prijs sinds 2015 in het gegeven Excel-bestand.\n",
    "\n",
    "**Dataset**: `bitcoin_2015-2017.csv`\n",
    "\n",
    "**Opdrachten**\n",
    "1. Maak een scatterplot van de dataset waarin je laat zien de aankoopprijs over het gegeven tijdsverloop. Zet **labels** langs de assen en een **legenda** in de linker-bovenhoek. Bewaar de grafiek in een **PNG** image file.\n",
    "\n",
    "2. Bepaal een beste polynomial-fit aan de data-punten om te komen tot een voorspelling wat de bitcoin-aankoopprijs is op 15 december 2017. \n",
    "\n",
    "Voorbeeld van een scattergrafiek is de volgende (de labels langs de assen zijn weggehaald, onderdeel van de opdracht).\n",
    "![bitcoins_vb.png](attachment:bitcoins_vb.png)"
   ]
  },
  {
   "cell_type": "code",
   "execution_count": 102,
   "metadata": {
    "slideshow": {
     "slide_type": "fragment"
    }
   },
   "outputs": [],
   "source": [
    "# jouw code opdracht 3"
   ]
  },
  {
   "cell_type": "markdown",
   "metadata": {
    "slideshow": {
     "slide_type": "slide"
    }
   },
   "source": [
    "## 5. Voorbeeld oplossingen van de opdrachten\n",
    "<a id=\"assignment_solutions\"></a>"
   ]
  },
  {
   "cell_type": "code",
   "execution_count": 103,
   "metadata": {
    "slideshow": {
     "slide_type": "notes"
    }
   },
   "outputs": [
    {
     "name": "stdout",
     "output_type": "stream",
     "text": [
      "Shape: (9, 2)\n",
      "Header:\n",
      "    Studie_Uren  Cijfer\n",
      "0            2     5.7\n",
      "1            3     6.6\n",
      "2            4     7.3\n",
      "3            5     7.6\n",
      "4            6     7.9\n",
      "Datatset:\n",
      "    Studie_Uren  Cijfer\n",
      "0            2     5.7\n",
      "1            3     6.6\n",
      "2            4     7.3\n",
      "3            5     7.6\n",
      "4            6     7.9\n",
      "5            7     8.1\n",
      "6            8     9.0\n",
      "7            9     9.6\n",
      "8           10    10.0\n",
      "\n",
      "Correlation matrix\n",
      "              Studie_Uren    Cijfer\n",
      "Studie_Uren     1.000000  0.987797\n",
      "Cijfer          0.987797  1.000000\n",
      "\n"
     ]
    },
    {
     "data": {
      "image/png": "[encoded data removed]",
      "text/plain": [
       "<Figure size 432x288 with 1 Axes>"
      ]
     },
     "metadata": {},
     "output_type": "display_data"
    }
   ],
   "source": [
    "# ###########################################\n",
    "# Voorbeeld oplossing \n",
    "# opdracht 1 - student cijfers en studie-uren\n",
    "# ###########################################\n",
    "\n",
    "# project imports\n",
    "%matplotlib inline\n",
    "import numpy as np\n",
    "import pandas as pd\n",
    "import matplotlib.pyplot as plt\n",
    "import seaborn as sns;  sns.set()\n",
    "\n",
    "# Load data\n",
    "data_folder = './datasets/'\n",
    "df = pd.read_csv(data_folder + 'Grade_Set_1.csv') \n",
    "\n",
    "# toon data in tabel-vorm\n",
    "print('Shape: {}'.format(df.shape))\n",
    "print('Header:\\n {}'.format(df.head()))  # print de eerste 10 rijen\n",
    "print ('Datatset:\\n {}\\n'.format(df))\n",
    "\n",
    "# Simple scatter plot\n",
    "df.plot(kind='scatter', \n",
    "        x='Studie_Uren', \n",
    "        y='Cijfer', \n",
    "        title='Cijfer vs Studieuren')\n",
    "\n",
    "# correlation matrix\n",
    "print ('Correlation matrix\\n {}\\n'.format(df.corr()))\n",
    "\n"
   ]
  },
  {
   "cell_type": "markdown",
   "metadata": {
    "slideshow": {
     "slide_type": "notes"
    }
   },
   "source": [
    "#### Conclusies\n",
    "\n",
    "1. De eenvoudige scatter plot, waarbij langs de x-as het aantal studie-uren staat en langs de y-as het cijfer, laat zien dat het cijfer geleidelijk toeneemt met het aantal bestede studie-uren. Dit impliceert dat er een lineair verband is tussen deze twee variabelen.\n",
    "\n",
    "2. Als je een correlatie analyse doet (`df.corr()`), dan is er een 98% positief verband tussen de variabelen `Cijfer` en `Studie-uren`. Dit betekent dat er een 98% kans is dat een verandering in het aantal studie-uren leidt tot een verandering in het cijfer."
   ]
  },
  {
   "cell_type": "code",
   "execution_count": 104,
   "metadata": {
    "slideshow": {
     "slide_type": "notes"
    }
   },
   "outputs": [
    {
     "name": "stdout",
     "output_type": "stream",
     "text": [
      "Model parameters:\n",
      "\tIntercept: 4.967777777777778\n",
      "\tCoefficient: [0.50166667]\n",
      "\tR-squared:  1.0\n",
      "\tManual prediction (6 hours): 7.977777797777778\n",
      "\tLinear Regression builtin prediction: [7.97777778]\n"
     ]
    },
    {
     "data": {
      "text/plain": [
       "Text(0.5,0,'Studie-uren')"
      ]
     },
     "execution_count": 104,
     "metadata": {},
     "output_type": "execute_result"
    },
    {
     "data": {
      "image/png": "[encoded data removed]",
      "text/plain": [
       "<Figure size 432x288 with 1 Axes>"
      ]
     },
     "metadata": {},
     "output_type": "display_data"
    }
   ],
   "source": [
    "# Prediction model - assignments up from 7.\n",
    "\n",
    "# importing linear regression function\n",
    "import sklearn.linear_model as lm\n",
    "\n",
    "# Create linear regression object\n",
    "lr = lm.LinearRegression()\n",
    "\n",
    "# specify independend (feature) and dependent (target) variables\n",
    "x= df.Studie_Uren[:, np.newaxis] # feature\n",
    "y= df.Cijfer.values              # target\n",
    "\n",
    "# Train the model using the training set = all data\n",
    "lr.fit(x, y)\n",
    "print (\"Model parameters:\")\n",
    "print (\"\\tIntercept: {}\".format(lr.intercept_))\n",
    "print (\"\\tCoefficient: {}\".format(lr.coef_))\n",
    "\n",
    "# how good is the model: r-squared\n",
    "from sklearn.metrics import r2_score\n",
    "\n",
    "# Using built-in functions\n",
    "print (\"\\tR-squared: \", r2_score(df.Cijfer, y))\n",
    "\n",
    "# manual prediction for a given value of x\n",
    "print (\"\\tManual prediction (6 hours):\", 4.967777777777778 + 0.50166667*6)\n",
    "\n",
    "# predict using the built-in function\n",
    "print (\"\\tLinear Regression builtin prediction: {}\".format(lr.predict(6)))\n",
    "\n",
    "# plotting fitted line\n",
    "plt.scatter(x, y,  color='red')\n",
    "plt.plot(x, lr.predict(x), color='green', linewidth=2)\n",
    "plt.title('Cijfer vs Studie-uren')\n",
    "plt.ylabel('Cijfer')\n",
    "plt.xlabel('Studie-uren')"
   ]
  },
  {
   "cell_type": "markdown",
   "metadata": {
    "slideshow": {
     "slide_type": "notes"
    }
   },
   "source": [
    "Door het invullen van de juiste waarden (`m`, `c` en `X=6`) in de vergelijking (`Y = m * X + c`), levert dit op: 4.967777777777778 + 0.50166667*6 = 7.98, wat betekent dat een student die 6 uur studeert de kans heeft om een score van 7,98 (≈8) te behalen.\n",
    "\n",
    "Merk op dat als X is 0, de waarde van Y is 4.96, wat betekent dat zelfs als de student niet studeert, er een mogelijkheid is dat hij 4,96 (≈5) scoort; dit betekent dat er andere variabelen zijn met een causaliteits-effect op het cijfer, waartoe we momenteel geen toegang hebben."
   ]
  },
  {
   "cell_type": "code",
   "execution_count": 105,
   "metadata": {
    "slideshow": {
     "slide_type": "notes"
    }
   },
   "outputs": [
    {
     "name": "stdout",
     "output_type": "stream",
     "text": [
      "R-squared:  1.0\n",
      "Mean Absolute Error:  0.16185185185185189\n",
      "Root Mean Squared Error:  0.20422995995497312\n"
     ]
    }
   ],
   "source": [
    "# ###########################################################\n",
    "# Assignment Studentresults\n",
    "# EXTRA: other metrics who can tell you how good the model is:\n",
    "#    r-squared, mean_absolute_error (MAE), mean_squared_error (RMSE)\n",
    "\n",
    "# function to calculate r-squared, MAE, RMSE\n",
    "from sklearn.metrics import r2_score, mean_absolute_error, mean_squared_error\n",
    "\n",
    "# Using built-in functions\n",
    "print (\"R-squared: \", r2_score(df.Cijfer, y))\n",
    "\n",
    "# add predict value to the data frame\n",
    "df['Cijfer_Pred'] = lr.predict(x)\n",
    "\n",
    "# Using built-in functions\n",
    "print (\"Mean Absolute Error: \", mean_absolute_error(df.Cijfer, df.Cijfer_Pred))\n",
    "print (\"Root Mean Squared Error: \", np.sqrt(mean_squared_error(df.Cijfer, df.Cijfer_Pred)))"
   ]
  },
  {
   "cell_type": "code",
   "execution_count": null,
   "metadata": {
    "slideshow": {
     "slide_type": "skip"
    }
   },
   "outputs": [],
   "source": []
  },
  {
   "cell_type": "code",
   "execution_count": 109,
   "metadata": {
    "slideshow": {
     "slide_type": "notes"
    }
   },
   "outputs": [],
   "source": [
    "# ################################\n",
    "# Voorbeeld oplossing \n",
    "# opdracht 2 - salaris en ervaring\n",
    "# ################################\n",
    "\n",
    "# 2019-09 example from [Morgan] chapter 6 - Regression\n",
    "# Goal is to create a model that will predict a salary based upon years of experience\n",
    "\n",
    "# 1. Importing the necessary libraries\n",
    "import pandas as pd\n",
    "import matplotlib.pyplot as plt\n",
    "%matplotlib inline    "
   ]
  },
  {
   "cell_type": "code",
   "execution_count": 110,
   "metadata": {
    "slideshow": {
     "slide_type": "notes"
    }
   },
   "outputs": [
    {
     "name": "stdout",
     "output_type": "stream",
     "text": [
      "   YearsExperience   Salary\n",
      "0              1.1  39343.0\n",
      "1              1.3  46205.0\n",
      "2              1.5  37731.0\n",
      "3              2.0  43525.0\n",
      "4              2.2  39891.0\n",
      "[[1.1]\n",
      " [1.3]\n",
      " [1.5]\n",
      " [2. ]\n",
      " [2.2]]\n",
      "[39343. 46205. 37731. 43525. 39891.]\n",
      "(30, 1)\n",
      "(30,)\n"
     ]
    }
   ],
   "source": [
    "# 2. Importing the dataset\n",
    "data_folder = './datasets/'\n",
    "dataset = pd.read_csv(data_folder + 'Salary_Data.csv')\n",
    "\n",
    "X = dataset.iloc[:, :-1].values\n",
    "y = dataset.iloc[:, 1].values\n",
    "\n",
    "# explore data: print a few data\n",
    "# i.e. what data contains X?  What data contains y?\n",
    "print(dataset.head())\n",
    "print(X[:5])\n",
    "print(y[:5])\n",
    "#print(\"type X:\", type(X))\n",
    "#print(\"type y:\", type(y))\n",
    "print(X.shape)\n",
    "print(y.shape)"
   ]
  },
  {
   "cell_type": "code",
   "execution_count": 111,
   "metadata": {
    "slideshow": {
     "slide_type": "notes"
    }
   },
   "outputs": [],
   "source": [
    "# Split the dataset into a Training set and a Test set\n",
    "from sklearn.model_selection import train_test_split\n",
    "X_train, X_test, y_train, y_test = train_test_split(X, y, test_size = 1/3, random_state = 0)\n",
    "\n",
    "# Vraag: \n",
    "# Welk percentage van de totale dataset \n",
    "# is training set en welk percentage is test set?\n",
    "#print(len(X_train)); print(len(X_test))\n",
    "#print(len(y_train)); print(len(y_test))"
   ]
  },
  {
   "cell_type": "code",
   "execution_count": 112,
   "metadata": {
    "slideshow": {
     "slide_type": "notes"
    }
   },
   "outputs": [
    {
     "data": {
      "image/png": "[encoded data removed]",
      "text/plain": [
       "<Figure size 432x288 with 1 Axes>"
      ]
     },
     "metadata": {
      "needs_background": "light"
     },
     "output_type": "display_data"
    },
    {
     "name": "stdout",
     "output_type": "stream",
     "text": [
      "Slope: [9345.94244312]\n",
      "Intercept: 26816.19224403119\n"
     ]
    }
   ],
   "source": [
    "# Fitting Simple Linear Regression to the Training set\n",
    "from sklearn.linear_model import LinearRegression\n",
    "regressor = LinearRegression()\n",
    "regressor.fit(X_train, y_train)\n",
    "\n",
    "# Visualising the Training set results\n",
    "plt.scatter(X_train, y_train, color = 'red')\n",
    "plt.plot(X_train, regressor.predict(X_train), color = 'blue')\n",
    "plt.title('Salary vs Experience (Training set)')\n",
    "plt.xlabel('Years of Experience')\n",
    "plt.ylabel('Salary')\n",
    "plt.show()\n",
    "\n",
    "print(\"Slope:\", regressor.coef_)\n",
    "print(\"Intercept:\", regressor.intercept_)"
   ]
  },
  {
   "cell_type": "code",
   "execution_count": 113,
   "metadata": {
    "slideshow": {
     "slide_type": "notes"
    }
   },
   "outputs": [
    {
     "data": {
      "image/png": "[encoded data removed]",
      "text/plain": [
       "<Figure size 432x288 with 1 Axes>"
      ]
     },
     "metadata": {
      "needs_background": "light"
     },
     "output_type": "display_data"
    }
   ],
   "source": [
    "# Predicting the Test set results\n",
    "y_pred = regressor.predict(X_test)\n",
    "\n",
    "# Visualising the Test set results\n",
    "plt.scatter(X_test, y_test, color = 'red')\n",
    "plt.plot(X_train, regressor.predict(X_train), color = 'blue')\n",
    "plt.title('Salary vs Experience (Test set)')\n",
    "plt.xlabel('Years of Experience')\n",
    "plt.ylabel('Salary')\n",
    "plt.show()"
   ]
  },
  {
   "cell_type": "code",
   "execution_count": 119,
   "metadata": {
    "slideshow": {
     "slide_type": "notes"
    }
   },
   "outputs": [
    {
     "name": "stdout",
     "output_type": "stream",
     "text": [
      "Years of experiences\tSalary\n",
      "\t1\t\t[36162.13468715]\n",
      "\t2\t\t[45508.07713028]\n",
      "\t3\t\t[54854.0195734]\n",
      "\t4\t\t[64199.96201652]\n",
      "\t5\t\t[73545.90445964]\n",
      "\t6\t\t[82891.84690277]\n",
      "\t7\t\t[92237.78934589]\n",
      "\t8\t\t[101583.73178901]\n",
      "\t9\t\t[110929.67423213]\n",
      "\t10\t\t[120275.61667525]\n",
      "\t11\t\t[129621.55911838]\n",
      "\t12\t\t[138967.5015615]\n",
      "\t13\t\t[148313.44400462]\n",
      "\t14\t\t[157659.38644774]\n",
      "\t15\t\t[167005.32889087]\n"
     ]
    }
   ],
   "source": [
    "# Prediction of salary after a certain years of experience:\n",
    "print(\"Years of experiences\\tSalary\")\n",
    "for i in range(1, 16):\n",
    "    print(\"\\t{0}\\t\\t{1}\".format(i, regressor.predict(i)))"
   ]
  },
  {
   "cell_type": "code",
   "execution_count": null,
   "metadata": {
    "slideshow": {
     "slide_type": "skip"
    }
   },
   "outputs": [],
   "source": []
  },
  {
   "cell_type": "code",
   "execution_count": 120,
   "metadata": {
    "slideshow": {
     "slide_type": "notes"
    }
   },
   "outputs": [],
   "source": [
    "# ################################\n",
    "# Geen voorbeeld oplossing \n",
    "# opdracht 3 - bitcoins\n",
    "# ################################"
   ]
  },
  {
   "cell_type": "markdown",
   "metadata": {
    "slideshow": {
     "slide_type": "slide"
    }
   },
   "source": [
    "## Bijlage: diverse voorbeelden"
   ]
  },
  {
   "cell_type": "code",
   "execution_count": 61,
   "metadata": {
    "slideshow": {
     "slide_type": "subslide"
    }
   },
   "outputs": [
    {
     "data": {
      "text/plain": [
       "[<matplotlib.lines.Line2D at 0x1a21e52e48>]"
      ]
     },
     "execution_count": 61,
     "metadata": {},
     "output_type": "execute_result"
    },
    {
     "data": {
      "image/png": "[encoded data removed]",
      "text/plain": [
       "<Figure size 432x288 with 1 Axes>"
      ]
     },
     "metadata": {},
     "output_type": "display_data"
    }
   ],
   "source": [
    "# voorbeeld uit [VanderPlas] chapter 5 - sectie In Depth: Linear Regression\n",
    "%matplotlib inline\n",
    "import matplotlib.pyplot as plt\n",
    "import seaborn as sns;  sns.set()\n",
    "import numpy as np\n",
    "\n",
    "# genereer een data set\n",
    "rng = np.random.RandomState(1)\n",
    "x = 10 * rng.rand(50)\n",
    "y = 2 * x - 5 + rng.randn(50)\n",
    "plt.scatter(x,y)\n",
    "\n",
    "# We gebruiken de LinearRegression van Scikit-Learn \n",
    "# om deze gegevens te passen en de best passende lijn te construeren.\n",
    "from sklearn.linear_model import LinearRegression\n",
    "model = LinearRegression(fit_intercept = True)\n",
    "model.fit(x[:, np.newaxis], y)\n",
    "\n",
    "xfit = np.linspace(0, 10, 1000)\n",
    "yfit = model.predict(xfit[:, np.newaxis])\n",
    "\n",
    "plt.scatter(x,y)\n",
    "plt.plot(xfit, yfit)"
   ]
  },
  {
   "cell_type": "markdown",
   "metadata": {
    "slideshow": {
     "slide_type": "subslide"
    }
   },
   "source": [
    "#### Correlatie en Causaliteit\n",
    "\n",
    "Hoewel correlatie ons helpt de mate van relatie tussen twee of meer variabelen te bepalen, vertelt het niets over de oorzaak en de relatie met de consequenties. \n",
    "\n",
    "Een hoge mate van correlatie hoeft niet altijd te betekenen dat er een relatie tussen oorzaak en gevolg tussen de variabelen bestaat. \n",
    "\n",
    "Merk op dat correlatie niet causaliteit impliceert, hoewel het bestaan van causaliteit altijd correlatie impliceert. Laten we dit beter begrijpen met een aantal voorbeelden.\n",
    "\n",
    "1. Aanwezigheid van vele brandweermannen bij een brandgeval betekent dat het vuur groot is, maar niet dat het vuur wordt veroorzaakt door brandweerlieden.\n",
    "\n",
    "2. Als iemand slaapt met zijn schoenen aan, krijgt hij waarschijnlijk hoofdpijn. Dit kan te wijten zijn aan teveel alcohol."
   ]
  },
  {
   "cell_type": "markdown",
   "metadata": {
    "slideshow": {
     "slide_type": "subslide"
    }
   },
   "source": [
    "#### Linear regression\n",
    "\n",
    "**Model**: y = m.X + c\n",
    "\n",
    "**Doel**: bepalen model parameters `m` (=hellingshoek) en `b` (=interceptie) zodanig dat de afstand van de lijn van elk punt tot het betreffende meetpunt minimaal is.\n",
    "\n",
    "**Figuur bepalen hellingshoek met minimale fout**\n",
    "![A434293_1_En_3_Fig5_HTML](images/A434293_1_En_3_Fig5_HTML.jpg)\n",
    "\n",
    "De fout kan positief of negatief zijn op basis van de locatie van de helling, waardoor als we een eenvoudige som van alle fouten nemen, deze nul kan zijn. Dus we moeten de fout kwadrateren om de negativiteit kwijt te raken en deze kwadratische fouten bij elkaar optellen. Daarom wordt deze lijn ook wel de kleinste-kwadratenlijn genoemd.\n",
    "\n",
    "De lijn-vergelijking wordt gegeven door `y = mX + c`, waarbij `y` de voorspelde waarde voor een gegeven `X`-waarde is. Samen bepalen de helling `m` en de interceptie `c` de lineaire relatie tussen de twee variabelen. \n",
    "\n",
    "We kunnen de lin-vergelijking gebruiken om het cijfer voor een bepaald aantal uren studie te voorspellen. In dit geval is het *cijfer* de afhankelijke variabele, aangeduid met 'Y' en het *aantal studie-uren* de onafhankelijke variabele of voorspeller, aangeduid met 'X'. \n",
    "\n",
    "> Voorbeeld: stel dat een student van plan is om totaal 6 uur te besteden aan de voorbereiding op de toets. Door eenvoudig een verbindingslijn van de x-as en de y-as naar de lijn te tekenen, kom je tot een voorspelling dat de student een 8 kan scoren.\n",
    "\n",
    "We gebruiken de lineaire regressie uit de scikit-learn-bibliotheek om de waarden van `m` (x's coëfficiënt) en `c` (intercept) te vinden."
   ]
  },
  {
   "cell_type": "code",
   "execution_count": 62,
   "metadata": {
    "slideshow": {
     "slide_type": "subslide"
    }
   },
   "outputs": [
    {
     "name": "stdout",
     "output_type": "stream",
     "text": [
      "   R&D Spend  Administration  Marketing Spend       State     Profit\n",
      "0  165349.20       136897.80        471784.10    New York  192261.83\n",
      "1  162597.70       151377.59        443898.53  California  191792.06\n",
      "2  153441.51       101145.55        407934.54     Florida  191050.39\n",
      "3  144372.41       118671.85        383199.62    New York  182901.99\n",
      "4  142107.34        91391.77        366168.42     Florida  166187.94\n",
      "\n",
      "Encoded State\n",
      " X[:5]= [[0.0000000e+00 0.0000000e+00 1.0000000e+00 1.6534920e+05 1.3689780e+05\n",
      "  4.7178410e+05]\n",
      " [1.0000000e+00 0.0000000e+00 0.0000000e+00 1.6259770e+05 1.5137759e+05\n",
      "  4.4389853e+05]\n",
      " [0.0000000e+00 1.0000000e+00 0.0000000e+00 1.5344151e+05 1.0114555e+05\n",
      "  4.0793454e+05]\n",
      " [0.0000000e+00 0.0000000e+00 1.0000000e+00 1.4437241e+05 1.1867185e+05\n",
      "  3.8319962e+05]\n",
      " [0.0000000e+00 1.0000000e+00 0.0000000e+00 1.4210734e+05 9.1391770e+04\n",
      "  3.6616842e+05]]\n",
      "\n",
      "Avoiding dummy variable trap\n",
      " X[:5]= [[0.0000000e+00 1.0000000e+00 1.6534920e+05 1.3689780e+05 4.7178410e+05]\n",
      " [0.0000000e+00 0.0000000e+00 1.6259770e+05 1.5137759e+05 4.4389853e+05]\n",
      " [1.0000000e+00 0.0000000e+00 1.5344151e+05 1.0114555e+05 4.0793454e+05]\n",
      " [0.0000000e+00 1.0000000e+00 1.4437241e+05 1.1867185e+05 3.8319962e+05]\n",
      " [1.0000000e+00 0.0000000e+00 1.4210734e+05 9.1391770e+04 3.6616842e+05]]\n",
      "\n",
      "y_pred= [103015.20159796 132582.27760815 132447.73845175  71976.09851258\n",
      " 178537.48221056 116161.24230166  67851.69209676  98791.73374687\n",
      " 113969.43533013 167921.06569551]\n",
      "\n",
      "\n"
     ]
    }
   ],
   "source": [
    "# EXAMPLE: multiple/polynomial regression\n",
    "# 2019-0903 new, example from [Morgan] chapter 6 - Regression\n",
    "# global understanding\n",
    "\n",
    "import numpy as np\n",
    "import pandas as pd\n",
    "import matplotlib.pyplot as plt\n",
    "%matplotlib inline    \n",
    "\n",
    "# Importing the dataset\n",
    "data_folder = './datasets/'\n",
    "dataset = pd.read_csv(data_folder + '50_Startups.csv')\n",
    "X = dataset.iloc[:, :-1].values\n",
    "y = dataset.iloc[:, 4].values\n",
    "\n",
    "#Let’s look at the data:\n",
    "print(dataset.head())\n",
    "\n",
    "''' analyzing the data:\n",
    "* multiple features: R&D Spend, Administration, Marketing Spend,....\n",
    "* goal: to discover a relationship between the independent variables and the target (Profit)\n",
    "* 'State': data is text, not a number - how to deal with ths kind of data?\n",
    " -> transforming categorical data into numerical data\n",
    "'''\n",
    "# Encoding categorical data\n",
    "from sklearn.preprocessing import LabelEncoder, OneHotEncoder\n",
    "labelencoder = LabelEncoder()\n",
    "X[:, 3] = labelencoder.fit_transform(X[:, 3])\n",
    "onehotencoder = OneHotEncoder(categorical_features = [3])\n",
    "X = onehotencoder.fit_transform(X).toarray()\n",
    "print('\\nEncoded State\\n X[:5]=', X[:5])\n",
    "''' \n",
    "created 'dummy' variables:\n",
    "3.5, New York\n",
    "2.0, California\n",
    "6.7, Florida\n",
    "\n",
    "is transformed into:\n",
    "3.5, 1, 0, 0\n",
    "2.0, 0, 1, 0\n",
    "6.7, 0, 0, 1\n",
    "\n",
    "So, column for 'State' became equivalant to 3 columns:\n",
    "     New York  California   Florida\n",
    "3.5     1          0           0\n",
    "2.0     0          1           0\n",
    "6.7     0          0           1\n",
    "\n",
    "However, there's an extra variable that could have been removed because \n",
    "it can be predicted from the others. I.e. when the columns for New York and California\n",
    "are zero (0), automaticlaly we know it's Florida. You can already know which 'State' \n",
    "it is even with just 2 variables\n",
    "'''\n",
    "# Avoiding the Dummy Variable Trap\n",
    "X = X[:, 1:]\n",
    "print('\\nAvoiding dummy variable trap\\n X[:5]=', X[:5])  #Peter added so we can see: no categorical data anymore\n",
    "\n",
    "# split the dataset into a Training Set and a Test set\n",
    "# 80% Training Set, 20% Test Set.\n",
    "from sklearn.model_selection import train_test_split\n",
    "X_train, X_test, y_train, y_test = train_test_split(X, y, test_size = 0.2, random_state = 0)\n",
    "\n",
    "# We can then create a regressor and “fit the line” (and use that line on Test Set):\n",
    "from sklearn.linear_model import LinearRegression\n",
    "regressor = LinearRegression()\n",
    "regressor.fit(X_train, y_train)\n",
    "\n",
    "# predicted Profit values on the X_test\n",
    "y_pred = regressor.predict(X_test)\n",
    "print('\\ny_pred=', y_pred) # Peter added\n",
    "\n",
    "'''\n",
    "However, it that all there is? Are all variables (R&D Spend, Administration, \n",
    "Marketing Spend, State) responsible for the target (Profit)?\n",
    "\n",
    "It turns out there are additional steps needed to create a better model and predictors.\n",
    "\n",
    "One example is to use Backward Elimination: eliminating variables one-by-one until \n",
    "there's one or two left, so we'll know which of the variables is making the biggest \n",
    "contribution to the results.  \n",
    "'''\n",
    "print('\\n')"
   ]
  },
  {
   "cell_type": "code",
   "execution_count": 63,
   "metadata": {
    "slideshow": {
     "slide_type": "subslide"
    }
   },
   "outputs": [
    {
     "name": "stdout",
     "output_type": "stream",
     "text": [
      "Coefficients: \n",
      " [938.23786125]\n",
      "Mean squared error: 2548.07\n",
      "Variance score: 0.47\n"
     ]
    },
    {
     "data": {
      "image/png": "[encoded data removed]",
      "text/plain": [
       "<Figure size 432x288 with 1 Axes>"
      ]
     },
     "metadata": {},
     "output_type": "display_data"
    }
   ],
   "source": [
    "# Example from [Morgan] chapter Supervised & Unsupervised Learning, \n",
    "#                       section Linear Regression\n",
    "# Source:\n",
    "# http://scikit-learn.org/stable/auto_examples/linear_model/plot_ols.html#sphx-glr-auto-examples-linear-model-plot-ols-py\n",
    "# Code source: Jaques Grobler\n",
    "# License: BSD 3 clause\n",
    "# 2018-0903 PP some minor changes\n",
    "\n",
    "import matplotlib.pyplot as plt\n",
    "%matplotlib inline    \n",
    "\n",
    "import numpy as np\n",
    "from sklearn import datasets, linear_model\n",
    "from sklearn.metrics import mean_squared_error, r2_score\n",
    "\n",
    "# Load the diabetes dataset\n",
    "diabetes = datasets.load_diabetes()\n",
    "#Peter addded: description of the diabetes dataset\n",
    "#print(diabetes.DESCR)\n",
    "\n",
    "# Use only one feature\n",
    "diabetes_X = diabetes.data[:, np.newaxis, 2]\n",
    "\n",
    "# Split the data into training/testing sets\n",
    "diabetes_X_train = diabetes_X[:-20]\n",
    "diabetes_X_test = diabetes_X[-20:]\n",
    "\n",
    "# Split the targets into training/testing sets\n",
    "diabetes_y_train = diabetes.target[:-20]\n",
    "diabetes_y_test = diabetes.target[-20:]\n",
    "\n",
    "# Create linear regression object\n",
    "regr = linear_model.LinearRegression()\n",
    "\n",
    "# Train the model using the training sets\n",
    "regr.fit(diabetes_X_train, diabetes_y_train)\n",
    "\n",
    "# Make predictions using the testing set\n",
    "diabetes_y_pred = regr.predict(diabetes_X_test)\n",
    "\n",
    "# The coefficients\n",
    "print('Coefficients: \\n', regr.coef_)\n",
    "# The mean squared error\n",
    "print(\"Mean squared error: %.2f\"\n",
    "      % mean_squared_error(diabetes_y_test, diabetes_y_pred))\n",
    "# Explained variance score: 1 is perfect prediction\n",
    "print('Variance score: %.2f' % r2_score(diabetes_y_test, diabetes_y_pred))\n",
    "\n",
    "# Plot outputs\n",
    "plt.scatter(diabetes_X_test, diabetes_y_test,  color='black')\n",
    "plt.plot(diabetes_X_test, diabetes_y_pred, color='blue', linewidth=3)\n",
    "\n",
    "plt.xticks(())\n",
    "plt.yticks(())\n",
    "\n",
    "plt.show()"
   ]
  },
  {
   "cell_type": "code",
   "execution_count": null,
   "metadata": {
    "slideshow": {
     "slide_type": "skip"
    }
   },
   "outputs": [],
   "source": []
  }
 ],
 "metadata": {
  "celltoolbar": "Slideshow",
  "kernelspec": {
   "display_name": "Python 3",
   "language": "python",
   "name": "python3"
  },
  "language_info": {
   "codemirror_mode": {
    "name": "ipython",
    "version": 3
   },
   "file_extension": ".py",
   "mimetype": "text/x-python",
   "name": "python",
   "nbconvert_exporter": "python",
   "pygments_lexer": "ipython3",
   "version": "3.7.4"
  }
 },
 "nbformat": 4,
 "nbformat_minor": 4
}
