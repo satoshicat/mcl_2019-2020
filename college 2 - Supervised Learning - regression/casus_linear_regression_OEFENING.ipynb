{
 "cells": [
  {
   "cell_type": "markdown",
   "metadata": {},
   "source": [
    "# EXERCISE - Predicting Numeric Outcomes with Linear Regression\n",
    "\n",
    "from Jupyter notebook 'casus_linear_regression.ipynb'\n",
    "\n",
    "**Aim**: The aim of this notebook is to predict the amount of a mobile transaction (numeric outcome) given all the other features in the dataset."
   ]
  },
  {
   "cell_type": "markdown",
   "metadata": {},
   "source": [
    "## Table of contents\n",
    "\n",
    "1. Linear Regression in 2-Dimensions\n",
    "2. Linear Regression to predict transaction amount\n",
    "3. Model Optimization"
   ]
  },
  {
   "cell_type": "code",
   "execution_count": null,
   "metadata": {},
   "outputs": [],
   "source": [
    "# import numpy and pandas\n",
    "import ******\n",
    "import ******\n",
    "\n",
    "#Reading in the dataset 'fraud_prediction.csv' from folder 'datasets' \n",
    "path = ****\n",
    "df = pd.read_csv(****)\n",
    "\n",
    "# show first 10 records\n",
    "df.****\n",
    "# show descriptive statistics from df\n",
    "df.****"
   ]
  },
  {
   "cell_type": "code",
   "execution_count": null,
   "metadata": {},
   "outputs": [],
   "source": [
    "#Define the feature 'oldbalanceOrg' and target 'amount' arrays\n",
    "\n",
    "feature = df[***].***\n",
    "target = df[***].***\n",
    "\n",
    "# show the dimensions of feature and target arrays\n",
    "# do they make sense?\n",
    "feature.***\n",
    "#target.***"
   ]
  },
  {
   "cell_type": "markdown",
   "metadata": {},
   "source": [
    "## Linear Regression in 2-Dimensions"
   ]
  },
  {
   "cell_type": "code",
   "execution_count": null,
   "metadata": {},
   "outputs": [],
   "source": [
    "# import pyplot from matplotlib\n",
    "import ***\n",
    "\n",
    "#Creating a scatter plot\n",
    "plt.scatter(***)\n",
    "plt.xlabel('Old Balance of Account Holder')   \n",
    "plt.ylabel('Amount of Transaction')           \n",
    "plt.title('Amount Vs. Old Balance')\n",
    "plt.show()"
   ]
  },
  {
   "cell_type": "markdown",
   "metadata": {},
   "source": [
    "**Building the linear regression model**"
   ]
  },
  {
   "cell_type": "code",
   "execution_count": null,
   "metadata": {},
   "outputs": [],
   "source": [
    "# import from scikit-learn linear_model\n",
    "from sklearn import ***\n",
    "\n",
    "#Initializing a linear regression model \n",
    "linear_reg = linear_model.***\n",
    "\n",
    "#Reshaping the array since we only have a single feature\n",
    "#this is preparation for using scikit_learn\n",
    "feature = feature.reshape(-1, 1)\n",
    "target = target.reshape(-1, 1)\n",
    "\n",
    "#Fitting the model on the data\n",
    "linear_reg.fit(***)"
   ]
  },
  {
   "cell_type": "code",
   "execution_count": null,
   "metadata": {},
   "outputs": [],
   "source": [
    "#Define the limits of the x-axis \n",
    "x_lim = np.linspace(min(feature), max(feature)).reshape(-1, 1)\n",
    "\n",
    "#Creating the scatter plot\n",
    "plt.scatter(***)\n",
    "plt.xlabel('Old Balance of Account Holder')\n",
    "plt.ylabel('Amount of Transaction')\n",
    "plt.title('Amount Vs. Old Balance')\n",
    "\n",
    "#Creating the prediction line in color red and a line width of 4\n",
    "plt.plot(****, color = ***, ***)\n",
    "\n",
    "#Show the plot\n",
    "plt.show()"
   ]
  },
  {
   "cell_type": "markdown",
   "metadata": {},
   "source": [
    "## Discussions\n",
    "\n",
    "This results in a line of best fit, as illustrated in the diagram.\n",
    "\n",
    "In the preceding code, first, we initialize a linear regression model and fit the training data into that model. Since we only have a single feature, we need to reshape the feature and target for scikit-learn. Next, we define the upper and lower limits of the x axis, which contains our feature variable. \n"
   ]
  },
  {
   "cell_type": "markdown",
   "metadata": {},
   "source": [
    "## Linear Regression to predict transaction amount\n",
    "\n",
    "Now that we have visualized how a simple linear regression model works in two dimensions, we can use the linear regression algorithm to predict the total amount of a mobile transaction, **using all of the other features** in our mobile transaction dataset.\n",
    "\n",
    "The first step is to import our fraud prediction dataset into our workspace, split into features and target, and divide it into training and test sets. "
   ]
  },
  {
   "cell_type": "code",
   "execution_count": null,
   "metadata": {},
   "outputs": [],
   "source": [
    "# Reading in the dataset 'fraud_prediction.csv' from folder 'datasets'.\n",
    "path = 'datasets/'\n",
    "df = pd.read_csv(path + 'fraud_prediction.csv')"
   ]
  },
  {
   "cell_type": "code",
   "execution_count": null,
   "metadata": {},
   "outputs": [],
   "source": [
    "#Creating the features and target arrays \n",
    "# i.e. drop column 'isFraud' from the features (=columns)\n",
    "# and make a target array of 'isFraud'\n",
    "\n",
    "features = df.****\n",
    "target = df*****"
   ]
  },
  {
   "cell_type": "code",
   "execution_count": null,
   "metadata": {},
   "outputs": [],
   "source": [
    "# split features and target in training and test sets\n",
    "# test_size: 30%\n",
    "from sklearn.model_selection import *****\n",
    "X_train, X_test, y_train, y_test = ***** (******, test_size = 0.3, \n",
    "                                             random_state = 42, stratify = target)"
   ]
  },
  {
   "cell_type": "markdown",
   "metadata": {},
   "source": [
    "**Fitting and evaluating the accuracy of the linear regression model**\n",
    "\n",
    "We can now fit the linear regression model and evaluate the initial accuracy score of the model."
   ]
  },
  {
   "cell_type": "code",
   "execution_count": null,
   "metadata": {},
   "outputs": [],
   "source": [
    "import sklearn import *****\n",
    "\n",
    "#Initializing a linear regression model \n",
    "linear_reg = linear_model.****"
   ]
  },
  {
   "cell_type": "code",
   "execution_count": null,
   "metadata": {},
   "outputs": [],
   "source": [
    "#Fitting the model on the data\n",
    "linear_reg.fit(******)"
   ]
  },
  {
   "cell_type": "code",
   "execution_count": null,
   "metadata": {},
   "outputs": [],
   "source": [
    "#Accuracy of the model\n",
    "linear_reg.score(*****)"
   ]
  },
  {
   "cell_type": "markdown",
   "metadata": {},
   "source": [
    "This results in an accuracy score of ±98%, which is fantastic!"
   ]
  },
  {
   "cell_type": "markdown",
   "metadata": {},
   "source": [
    "----"
   ]
  },
  {
   "cell_type": "markdown",
   "metadata": {},
   "source": [
    "## Model Optimization\n",
    "\n",
    "The fundamental objective of the linear regression algorithm is to minimize the loss/cost function. In order to do this, the algorithm tries to optimize the values of the coefficients of each feature (**Parameter1**), such that the loss function is minimized. \n",
    "\n",
    "Sometimes, this leads to **overfitting**, as the coefficients of each variable are optimized for the data that the variable is trained on. This means that your linear regression model will not generalize beyond your current training data very well.\n",
    "\n",
    "The process by which we penalize hyper-optimized coefficients in order to prevent this type of overfitting is called **regularization**. \n",
    "\n",
    "There are two broad types of regularization methods, as follows:\n",
    "\n",
    "- Ridge regression \n",
    "- Lasso regression\n"
   ]
  },
  {
   "attachments": {
    "ridgelossfunction.jpg": {
     "image/jpeg": "[encoded data removed]"
    }
   },
   "cell_type": "markdown",
   "metadata": {},
   "source": [
    "**Ridge Regression**\n",
    "\n",
    "The equation for ridge regression is as follows:\n",
    "\n",
    "![ridge_loss_function](images/ridgelossfunction.jpg)\n",
    "\n",
    "In the preceding equation, the ridge loss function is equal to the ordinary least squares loss function, plus the product of the square of Parameter1 of each feature and alpha. \n",
    "\n",
    "alpha is a parameter that we can optimize in order to control the amount by which the ridge loss function penalizes the coefficients, in order to prevent overfitting. Obviously, if alpha is equal to 0, the ridge loss function is equal to the ordinary least squares loss function, thereby making no difference to the initial overfit model. \n",
    "\n",
    "Therefore, optimizing this value of alpha provides the optimal model that can generalize beyond the data that it has trained on. "
   ]
  },
  {
   "cell_type": "code",
   "execution_count": 4,
   "metadata": {},
   "outputs": [],
   "source": [
    "import numpy as np\n",
    "import pandas as pd\n",
    "# Reading in the dataset \n",
    "path = './datasets/'\n",
    "df = pd.read_csv(path + 'fraud_prediction.csv')"
   ]
  },
  {
   "cell_type": "code",
   "execution_count": 5,
   "metadata": {},
   "outputs": [],
   "source": [
    "#Creating the features \n",
    "features = df.drop('isFraud', axis = 1).values\n",
    "target = df['isFraud'].values"
   ]
  },
  {
   "cell_type": "code",
   "execution_count": 6,
   "metadata": {},
   "outputs": [],
   "source": [
    "from sklearn.model_selection import train_test_split\n",
    "\n",
    "X_train, X_test, y_train, y_test = train_test_split(features, target, test_size = 0.3, random_state = 42, stratify = target)"
   ]
  },
  {
   "cell_type": "code",
   "execution_count": 7,
   "metadata": {},
   "outputs": [],
   "source": [
    "from sklearn.linear_model import Ridge\n",
    "\n",
    "#Initialize a ridge regression model\n",
    "# standardize the data: alpha = 0 and normalize = True\n",
    "ridge_reg = Ridge(alpha = 0, normalize = True)"
   ]
  },
  {
   "cell_type": "code",
   "execution_count": 8,
   "metadata": {},
   "outputs": [
    {
     "data": {
      "text/plain": [
       "Ridge(alpha=0, copy_X=True, fit_intercept=True, max_iter=None, normalize=True,\n",
       "      random_state=None, solver='auto', tol=0.001)"
      ]
     },
     "execution_count": 8,
     "metadata": {},
     "output_type": "execute_result"
    }
   ],
   "source": [
    "#Fit the model to the training data \n",
    "ridge_reg.fit(X_train, y_train)"
   ]
  },
  {
   "cell_type": "code",
   "execution_count": 9,
   "metadata": {},
   "outputs": [
    {
     "data": {
      "text/plain": [
       "0.9857972380288648"
      ]
     },
     "execution_count": 9,
     "metadata": {},
     "output_type": "execute_result"
    }
   ],
   "source": [
    "#Extract the score from the test data\n",
    "ridge_reg.score(X_test, y_test)"
   ]
  },
  {
   "cell_type": "markdown",
   "metadata": {},
   "source": [
    "Note: The accuracy of this model is exactly the same as the accuracy of the model that we built without the ridge regression, as the parameter that controls how the model is optimized: alpha is set to 0."
   ]
  },
  {
   "cell_type": "markdown",
   "metadata": {},
   "source": [
    "**Optimizing alpha using GridSearchCV**\n",
    "\n",
    "Obtain the optimal value of alpha with the GridSearchCV algorithm"
   ]
  },
  {
   "cell_type": "code",
   "execution_count": 10,
   "metadata": {},
   "outputs": [
    {
     "name": "stdout",
     "output_type": "stream",
     "text": [
      "The most optimal value of alpha is: {'alpha': 0.01}\n"
     ]
    },
    {
     "name": "stderr",
     "output_type": "stream",
     "text": [
      "/Users/pepo/opt/anaconda3/lib/python3.7/site-packages/sklearn/model_selection/_split.py:1978: FutureWarning: The default value of cv will change from 3 to 5 in version 0.22. Specify it explicitly to silence this warning.\n",
      "  warnings.warn(CV_WARNING, FutureWarning)\n"
     ]
    }
   ],
   "source": [
    "from sklearn.model_selection import GridSearchCV\n",
    "\n",
    "#Building the model  \n",
    "ridge_regression = Ridge()\n",
    "\n",
    "#Using GridSearchCV to search for the best parameter from a range of values\n",
    "grid = GridSearchCV(ridge_regression, {'alpha':[0.0001, 0.001, 0.01, 0.1, 10]})\n",
    "grid.fit(X_train, y_train)\n",
    "\n",
    "# Print out the best parameter\n",
    "print(\"The most optimal value of alpha is:\", grid.best_params_)\n",
    "\n",
    "\n",
    "# Note about FutureWarnings:\n",
    "# see article on https://machinelearningmastery.com/how-to-fix-futurewarning-messages-in-scikit-learn/"
   ]
  },
  {
   "cell_type": "code",
   "execution_count": 11,
   "metadata": {},
   "outputs": [
    {
     "data": {
      "text/plain": [
       "Ridge(alpha=0.01, copy_X=True, fit_intercept=True, max_iter=None,\n",
       "      normalize=False, random_state=None, solver='auto', tol=0.001)"
      ]
     },
     "execution_count": 11,
     "metadata": {},
     "output_type": "execute_result"
    }
   ],
   "source": [
    "#Initializing an ridge regression object\n",
    "ridge_regression = Ridge(alpha = 0.01)\n",
    "\n",
    "#Fitting the model to the training and test sets\n",
    "ridge_regression.fit(X_train, y_train)"
   ]
  },
  {
   "cell_type": "code",
   "execution_count": 12,
   "metadata": {},
   "outputs": [
    {
     "data": {
      "text/plain": [
       "0.9857972164942482"
      ]
     },
     "execution_count": 12,
     "metadata": {},
     "output_type": "execute_result"
    }
   ],
   "source": [
    "#Accuracy score of the ridge regression model\n",
    "ridge_regression.score(X_test, y_test)"
   ]
  },
  {
   "cell_type": "markdown",
   "metadata": {},
   "source": [
    "Note: Since our initial model was already well optimized, the accuracy score did not increase by an observable amount. However, on datasets with larger dimensions/features, ridge regression holds immense value for providing you with a model that generalizes well, without overfitting."
   ]
  },
  {
   "cell_type": "markdown",
   "metadata": {},
   "source": [
    "In order to verify the results that the GridSearchCV algorithm has provided us with, we will construct a plot between the accuracy scores on the y axis and the different values of alpha along the x axis, for both the training and test data. \n",
    "\n",
    "We first initialize two empty lists, to store the accuracy scores for both the training and test data. We then evaluate the accuracy scores for both the training and test sets for different values of alpha, and we create a plot. "
   ]
  },
  {
   "cell_type": "code",
   "execution_count": 15,
   "metadata": {},
   "outputs": [
    {
     "data": {
      "image/png": "[encoded data removed]",
      "text/plain": [
       "<Figure size 432x288 with 1 Axes>"
      ]
     },
     "metadata": {
      "needs_background": "light"
     },
     "output_type": "display_data"
    }
   ],
   "source": [
    "# display plots in Notebook cell\n",
    "%matplotlib inline\n",
    "\n",
    "import matplotlib.pyplot as plt\n",
    "\n",
    "train_errors = []\n",
    "test_errors = []\n",
    "\n",
    "alpha_list = [0.0001, 0.001, 0.01, 0.1, 10]\n",
    "\n",
    "# Evaluate the training and test classification errors for each value of alpha\n",
    "\n",
    "for value in alpha_list:\n",
    "    \n",
    "    # Create Ridge object and fit\n",
    "    ridge_regression = Ridge(alpha= value)\n",
    "    ridge_regression.fit(X_train, y_train)\n",
    "    \n",
    "    # Evaluate error rates and append to lists\n",
    "    train_errors.append(ridge_regression.score(X_train, y_train) )\n",
    "    test_errors.append(ridge_regression.score(X_test, y_test))\n",
    "    \n",
    "# Plot results\n",
    "plt.semilogx(alpha_list, train_errors, alpha_list, test_errors)\n",
    "plt.legend((\"train\", \"test\"))\n",
    "plt.ylabel('Accuracy Score')\n",
    "plt.xlabel('Alpha')\n",
    "plt.show()"
   ]
  },
  {
   "cell_type": "markdown",
   "metadata": {},
   "source": [
    "In the preceding plot, it is clear that a value of 0.01 or lower provides the highest value of accuracy for both the training and test data, and therefore, the results from the GridSearchCV algorithm make logical sense."
   ]
  },
  {
   "cell_type": "markdown",
   "metadata": {},
   "source": [
    "**Lasso Regression**\n",
    "\n",
    "The equation for lasso regression is as follows:\n",
    "\n",
    "![lasso_loss_function](images/lassolossfunction.jpg)\n",
    "\n",
    "In the preceding equation, the lasso loss function is equal to the ordinary least squares loss function plus the product of the absolute value of the coefficients of each feature and alpha. \n",
    "\n",
    "alpha is a parameter that we can optimize to control the amount by which the lasso loss function penalizes the coefficients, in order to prevent overfitting. Once again, if alpha is equal to 0, the lasso loss function is equal to the ordinary least squares loss function, thereby making no difference to the initial overfit model. \n",
    "\n",
    "Therefore, optimizing this value of alpha provides the optimal model that generalizes well beyond the data that it has trained on. \n",
    "\n",
    "The following steps are the same as for the Ridge regression model."
   ]
  },
  {
   "cell_type": "code",
   "execution_count": 16,
   "metadata": {},
   "outputs": [],
   "source": [
    "# Reading in the dataset \n",
    "path = './datasets/'\n",
    "df = pd.read_csv(path + 'fraud_prediction.csv')"
   ]
  },
  {
   "cell_type": "code",
   "execution_count": 17,
   "metadata": {},
   "outputs": [],
   "source": [
    "#Creating the features \n",
    "features = df.drop('isFraud', axis = 1).values\n",
    "target = df['isFraud'].values"
   ]
  },
  {
   "cell_type": "code",
   "execution_count": 18,
   "metadata": {},
   "outputs": [],
   "source": [
    "X_train, X_test, y_train, y_test = train_test_split(features, target, test_size = 0.3, random_state = 42, stratify = target)"
   ]
  },
  {
   "cell_type": "code",
   "execution_count": 19,
   "metadata": {},
   "outputs": [],
   "source": [
    "from sklearn.linear_model import Lasso\n",
    "\n",
    "#Initialize a lasso regression model\n",
    "lasso_reg = Lasso(alpha = 0, normalize = True)"
   ]
  },
  {
   "cell_type": "code",
   "execution_count": 20,
   "metadata": {},
   "outputs": [
    {
     "data": {
      "text/plain": [
       "Lasso(alpha=0, copy_X=True, fit_intercept=True, max_iter=1000, normalize=True,\n",
       "      positive=False, precompute=False, random_state=None, selection='cyclic',\n",
       "      tol=0.0001, warm_start=False)"
      ]
     },
     "execution_count": 20,
     "metadata": {},
     "output_type": "execute_result"
    }
   ],
   "source": [
    "import warnings\n",
    "warnings.filterwarnings('ignore')\n",
    "\n",
    "#Fit the model to the training data \n",
    "lasso_reg.fit(X_train, y_train)"
   ]
  },
  {
   "cell_type": "code",
   "execution_count": 21,
   "metadata": {},
   "outputs": [
    {
     "data": {
      "text/plain": [
       "0.98579723802549"
      ]
     },
     "execution_count": 21,
     "metadata": {},
     "output_type": "execute_result"
    }
   ],
   "source": [
    "#Extract the score from the test data\n",
    "lasso_reg.score(X_test, y_test)"
   ]
  },
  {
   "cell_type": "markdown",
   "metadata": {},
   "source": [
    "**Optimizing alpha using GridSearchCV**"
   ]
  },
  {
   "cell_type": "code",
   "execution_count": 22,
   "metadata": {},
   "outputs": [
    {
     "name": "stdout",
     "output_type": "stream",
     "text": [
      "The most optimal value of alpha is: {'alpha': 0.0001}\n"
     ]
    }
   ],
   "source": [
    "#Building the model  \n",
    "lasso_regression = Lasso()\n",
    "\n",
    "#Using GridSearchCV to search for the best parameter\n",
    "grid = GridSearchCV(lasso_regression, {'alpha':[0.0001, 0.001, 0.01, 0.1, 10]})\n",
    "grid.fit(X_train, y_train)\n",
    "\n",
    "# Print out the best parameter\n",
    "print(\"The most optimal value of alpha is:\", grid.best_params_)"
   ]
  },
  {
   "cell_type": "code",
   "execution_count": 23,
   "metadata": {},
   "outputs": [
    {
     "data": {
      "text/plain": [
       "Lasso(alpha=0.0001, copy_X=True, fit_intercept=True, max_iter=1000,\n",
       "      normalize=False, positive=False, precompute=False, random_state=None,\n",
       "      selection='cyclic', tol=0.0001, warm_start=False)"
      ]
     },
     "execution_count": 23,
     "metadata": {},
     "output_type": "execute_result"
    }
   ],
   "source": [
    "#Initializing an lasso regression object\n",
    "\n",
    "lasso_regression = Lasso(alpha = 0.0001)\n",
    "\n",
    "#Fitting the model to the training and test sets\n",
    "\n",
    "lasso_regression.fit(X_train, y_train)"
   ]
  },
  {
   "cell_type": "code",
   "execution_count": 24,
   "metadata": {},
   "outputs": [
    {
     "data": {
      "text/plain": [
       "0.9857644406406523"
      ]
     },
     "execution_count": 24,
     "metadata": {},
     "output_type": "execute_result"
    }
   ],
   "source": [
    "#Accuracy score of the lasso regression model\n",
    "\n",
    "lasso_regression.score(X_test, y_test)"
   ]
  },
  {
   "cell_type": "code",
   "execution_count": 25,
   "metadata": {},
   "outputs": [
    {
     "data": {
      "image/png": "[encoded data removed]",
      "text/plain": [
       "<Figure size 432x288 with 1 Axes>"
      ]
     },
     "metadata": {
      "needs_background": "light"
     },
     "output_type": "display_data"
    }
   ],
   "source": [
    "train_errors = []\n",
    "test_errors = []\n",
    "\n",
    "alpha_list = [0.0001, 0.001, 0.01, 0.1, 10]\n",
    "\n",
    "# Evaluate the training and test classification errors for each value of alpha\n",
    "\n",
    "for value in alpha_list:\n",
    "    \n",
    "    # Create Lasso object and fit\n",
    "    lasso_regression = Lasso(alpha= value)\n",
    "    lasso_regression.fit(X_train, y_train)\n",
    "    \n",
    "    # Evaluate error rates and append to lists\n",
    "    train_errors.append(ridge_regression.score(X_train, y_train) )\n",
    "    test_errors.append(ridge_regression.score(X_test, y_test))\n",
    "    \n",
    "# Plot results\n",
    "plt.semilogx(alpha_list, train_errors, alpha_list, test_errors)\n",
    "plt.legend((\"train\", \"test\"))\n",
    "plt.ylabel('Accuracy Score')\n",
    "plt.xlabel('Alpha')\n",
    "plt.show()"
   ]
  },
  {
   "cell_type": "markdown",
   "metadata": {},
   "source": [
    "All of the values of alpha provide the same values of accuracy scores, and we can thus pick the value given to us by the GridSearchCV algorithm."
   ]
  },
  {
   "cell_type": "markdown",
   "metadata": {},
   "source": [
    "# Summary\n",
    "\n",
    "You've learned about how the linear regression algorithm works internally, through key concepts such as **residuals** and **ordinary least squares**. You also learned how to visualize a simple linear regression model in two dimensions.\n",
    "\n",
    "We also covered implementing the linear regression model to predict the amount of a mobile transaction, along with scaling your data in an effective pipeline, to bring potential improvements to your performance. \n",
    "\n",
    "Finally, you learned how to optimize your model by using the concept of **regularization**, in the form of ridge and lasso regression."
   ]
  },
  {
   "cell_type": "code",
   "execution_count": null,
   "metadata": {},
   "outputs": [],
   "source": []
  }
 ],
 "metadata": {
  "kernelspec": {
   "display_name": "Python 3",
   "language": "python",
   "name": "python3"
  },
  "language_info": {
   "codemirror_mode": {
    "name": "ipython",
    "version": 3
   },
   "file_extension": ".py",
   "mimetype": "text/x-python",
   "name": "python",
   "nbconvert_exporter": "python",
   "pygments_lexer": "ipython3",
   "version": "3.7.4"
  }
 },
 "nbformat": 4,
 "nbformat_minor": 4
}
