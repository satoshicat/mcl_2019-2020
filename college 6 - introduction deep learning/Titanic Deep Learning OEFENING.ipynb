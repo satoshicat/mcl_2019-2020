{
 "cells": [
  {
   "cell_type": "markdown",
   "metadata": {},
   "source": [
    "# Titanic - Deep learning\n",
    "\n",
    "2019-1216 aanpassingen voor tensorflow 2"
   ]
  },
  {
   "cell_type": "code",
   "execution_count": 40,
   "metadata": {},
   "outputs": [],
   "source": [
    "# I case you are using a older version of Sklearn warnings will be generated\n",
    "# Let's turn this off to keep the code clean\n",
    "\n",
    "import warnings\n",
    "warnings.filterwarnings(\"ignore\")"
   ]
  },
  {
   "cell_type": "markdown",
   "metadata": {},
   "source": [
    "# --------------- volgorde start hier ------------\n",
    "\n",
    "**Opdracht:**\n",
    "\n",
    "Voegtoe na elk kommentaar de juiste code-cel, zodat er een werkende Deep Learning model getraind wordt, nadat de dataset is ingelezen en opgeschoond.\n",
    "De code-cellen vind je onderin, in willekeurige volgorde!\n"
   ]
  },
  {
   "cell_type": "code",
   "execution_count": null,
   "metadata": {},
   "outputs": [],
   "source": [
    "# importeer pandas, \n",
    "# laadt de dataset 'train.csv' van folder 'datasets' in.\n",
    "# print de eerste 5 rows van het ingelezen dataframe op het scherm"
   ]
  },
  {
   "cell_type": "code",
   "execution_count": null,
   "metadata": {},
   "outputs": [],
   "source": [
    "# X : heeft elke column/feature, behalve 'Survived'.\n",
    "# y : heeft alleen de 'Surviced' kolom/target\n",
    "# print de eerste 5 rows van X en y op het scherm"
   ]
  },
  {
   "cell_type": "code",
   "execution_count": 39,
   "metadata": {},
   "outputs": [],
   "source": [
    "# opschonen X: verwijder PassengerId, Name en Ticket\n",
    "# print wederom de eerste 5 regels van X op het scherm"
   ]
  },
  {
   "cell_type": "code",
   "execution_count": null,
   "metadata": {},
   "outputs": [],
   "source": [
    "# we gaan verwijder 'lege' waarden.\n",
    "\n",
    "# De sklearn module imputer vervangt lege waarden.\n",
    "# We importeren ook numpy omdat lege waarden standaard worden weergegeven als een numpy.nan-object"
   ]
  },
  {
   "cell_type": "code",
   "execution_count": null,
   "metadata": {},
   "outputs": [],
   "source": [
    "# We vervangen alle lege waarden (numpy.nan objecten) in de leeftijdskolom door de mediaan"
   ]
  },
  {
   "cell_type": "code",
   "execution_count": null,
   "metadata": {},
   "outputs": [],
   "source": [
    "# We vervangen alle lege waarden (numpy.nan objecten) in de cabinekolom door waarde Unknown"
   ]
  },
  {
   "cell_type": "code",
   "execution_count": null,
   "metadata": {},
   "outputs": [],
   "source": [
    "# We vervangen alle lege waarden (numpy.nan objecten) in de ingescheepte kolom door de meest voorkomende waarde"
   ]
  },
  {
   "cell_type": "code",
   "execution_count": null,
   "metadata": {},
   "outputs": [],
   "source": [
    "# print de eerste 5 rows van X op het scherm ter controlle."
   ]
  },
  {
   "cell_type": "code",
   "execution_count": null,
   "metadata": {},
   "outputs": [],
   "source": [
    "# Laten we alle categorische waarden coderen.\n",
    "# Zodat het machine learning model de categorische waarden begrijpt.\n",
    "# We gebruiken onehot encoding:\n",
    "# https://hackernoon.com/what-is-one-hot-encoding-why-and-when-do-you-have-to-use-it-e3c6186d008f\n",
    "\n",
    "\n",
    "# custom function encode() dat het leven makkelijker maakt. \n",
    "# (Je kunt de syntax vergeten)"
   ]
  },
  {
   "cell_type": "code",
   "execution_count": null,
   "metadata": {},
   "outputs": [],
   "source": [
    "# encode() de categorie Cabin, Sex en Embarked\n",
    "# print de eerste 5 regels van X op het scherm ter controlle"
   ]
  },
  {
   "cell_type": "code",
   "execution_count": null,
   "metadata": {},
   "outputs": [],
   "source": [
    "# maak de train en test set aan"
   ]
  },
  {
   "cell_type": "code",
   "execution_count": null,
   "metadata": {},
   "outputs": [],
   "source": [
    "# Tensorflow2 wertk met numpy-arrays en (nog) niet met pandas dataframs.\n",
    "# converteer dataframes naar numpy-arrays"
   ]
  },
  {
   "cell_type": "code",
   "execution_count": null,
   "metadata": {},
   "outputs": [],
   "source": [
    "# Deeeeeep learning time!\n",
    "# Import tensorflow module en print de versie (moet 2.0.0 zijn)"
   ]
  },
  {
   "cell_type": "code",
   "execution_count": null,
   "metadata": {},
   "outputs": [],
   "source": [
    "# Definieer deep learning model Sequential\n",
    "# en specificeer de deep-learning lagen"
   ]
  },
  {
   "cell_type": "code",
   "execution_count": null,
   "metadata": {},
   "outputs": [],
   "source": [
    "# Compileer de model-lagen"
   ]
  },
  {
   "cell_type": "code",
   "execution_count": null,
   "metadata": {},
   "outputs": [],
   "source": [
    "# Train het model\n",
    "# Epochs is de hoeveel keer het algoritme zichzelf opnieuw zal trainen"
   ]
  },
  {
   "cell_type": "code",
   "execution_count": null,
   "metadata": {},
   "outputs": [],
   "source": [
    "# Geef de nauwkeurigheid van het getrainde model."
   ]
  },
  {
   "cell_type": "markdown",
   "metadata": {},
   "source": [
    "# ------------------ Code start hier ------------\n",
    "\n",
    "De code-cells staan in willekeurige volgorde!"
   ]
  },
  {
   "cell_type": "code",
   "execution_count": null,
   "metadata": {},
   "outputs": [],
   "source": [
    "age_imputer = SimpleImputer(missing_values=np.nan, strategy='median')\n",
    "X['Age'] = age_imputer.fit_transform(X[['Age']])"
   ]
  },
  {
   "cell_type": "code",
   "execution_count": null,
   "metadata": {},
   "outputs": [],
   "source": [
    "import numpy as np\n",
    "from sklearn.impute import SimpleImputer"
   ]
  },
  {
   "cell_type": "code",
   "execution_count": null,
   "metadata": {},
   "outputs": [],
   "source": [
    "X.head(5)"
   ]
  },
  {
   "cell_type": "code",
   "execution_count": null,
   "metadata": {},
   "outputs": [],
   "source": [
    "X = train_df[[column for column in train_df.columns if not column == 'Survived']]\n",
    "y = train_df['Survived']\n",
    "\n",
    "print(X.head(5))\n",
    "print('-'*40)\n",
    "print(y.head(5))"
   ]
  },
  {
   "cell_type": "code",
   "execution_count": null,
   "metadata": {},
   "outputs": [],
   "source": [
    "embarked_imputer = SimpleImputer(missing_values=np.nan, strategy='most_frequent')\n",
    "X['Embarked'] = cabin_imputer.fit_transform(X[['Embarked']])"
   ]
  },
  {
   "cell_type": "code",
   "execution_count": null,
   "metadata": {},
   "outputs": [],
   "source": [
    "from sklearn.preprocessing import OneHotEncoder"
   ]
  },
  {
   "cell_type": "code",
   "execution_count": null,
   "metadata": {},
   "outputs": [],
   "source": [
    "def encode(dataframe, column):\n",
    "    encoder = OneHotEncoder()\n",
    "    encoded_array = encoder.fit_transform(dataframe[[column]]).toarray()\n",
    "    \n",
    "    for index in range(encoded_array.shape[1]):\n",
    "        dataframe[column + str(index)] = encoded_array[:, index]\n",
    "    \n",
    "    del dataframe[column]    \n",
    "    return dataframe"
   ]
  },
  {
   "cell_type": "code",
   "execution_count": null,
   "metadata": {},
   "outputs": [],
   "source": [
    "del X['PassengerId']\n",
    "del X['Name']\n",
    "del X['Ticket']\n",
    "\n",
    "X.head(5)"
   ]
  },
  {
   "cell_type": "code",
   "execution_count": null,
   "metadata": {},
   "outputs": [],
   "source": [
    "y_pred = model.predict(X_test)\n",
    "accuracy_score(y_test, y_pred.round())"
   ]
  },
  {
   "cell_type": "code",
   "execution_count": null,
   "metadata": {},
   "outputs": [],
   "source": [
    "model = tf.keras.models.Sequential()\n",
    "\n",
    "# Argument 1 is the amount if neurons.\n",
    "# Activation: is the formula that gets applied at the end of a neuron\n",
    "# Input_dim: amount of features. In this case the amount of columns\n",
    "print(X.columns)\n",
    "\n",
    "model.add(tf.keras.layers.Dense(32, activation='relu', input_dim=len(X.columns))) # Input layer\n",
    "\n",
    "model.add(tf.keras.layers.Dense(30, activation='relu')) # Hidden layer\n",
    "model.add(tf.keras.layers.Dense(30, activation='relu')) # Hidden layer\n",
    "\n",
    "model.add(tf.keras.layers.Dense(1, activation='sigmoid')) # Output layer -> accuracy=.78\n",
    "# model.add(tf.keras.layers.Dense(1, activation='softmax')) # Output layer -> accuracy=.39"
   ]
  },
  {
   "cell_type": "code",
   "execution_count": null,
   "metadata": {},
   "outputs": [],
   "source": [
    "X2 = encode(X, 'Cabin')\n",
    "X3 = encode(X, 'Sex')\n",
    "X4 = encode(X, 'Embarked')\n",
    "\n",
    "X.head(5)"
   ]
  },
  {
   "cell_type": "code",
   "execution_count": null,
   "metadata": {},
   "outputs": [],
   "source": [
    "cabin_imputer = SimpleImputer(missing_values=np.nan, fill_value='Unknown', strategy='constant')\n",
    "X['Cabin'] = cabin_imputer.fit_transform(X[['Cabin']])"
   ]
  },
  {
   "cell_type": "code",
   "execution_count": null,
   "metadata": {},
   "outputs": [],
   "source": [
    "import tensorflow as tf\n",
    "print(\"Tensorflow version: {}\".format(tf.__version__))"
   ]
  },
  {
   "cell_type": "code",
   "execution_count": null,
   "metadata": {},
   "outputs": [],
   "source": [
    "from sklearn.model_selection import train_test_split"
   ]
  },
  {
   "cell_type": "code",
   "execution_count": null,
   "metadata": {},
   "outputs": [],
   "source": [
    "from sklearn.metrics import accuracy_score"
   ]
  },
  {
   "cell_type": "code",
   "execution_count": null,
   "metadata": {},
   "outputs": [],
   "source": [
    "import pandas as pd\n",
    "train_df = pd.read_csv('./datasets/train.csv')\n",
    "train_df.head(5)"
   ]
  },
  {
   "cell_type": "code",
   "execution_count": null,
   "metadata": {},
   "outputs": [],
   "source": [
    "model.compile(\n",
    "              optimizer='adam', # The optimize algorithm\n",
    "              loss='binary_crossentropy', # Because of our predict a binary (1=survived, 0=died)\n",
    "              metrics=['accuracy'] # Aiming for the best accuracy\n",
    "        )"
   ]
  },
  {
   "cell_type": "code",
   "execution_count": null,
   "metadata": {},
   "outputs": [],
   "source": [
    "model.fit(X_train, y_train, epochs=25)"
   ]
  },
  {
   "cell_type": "code",
   "execution_count": null,
   "metadata": {},
   "outputs": [],
   "source": [
    "X_train= np.array(train_X)\n",
    "y_train= np.array(train_y)\n",
    "X_test= np.array(test_X)\n",
    "y_test = np.array(test_y)"
   ]
  },
  {
   "cell_type": "code",
   "execution_count": null,
   "metadata": {},
   "outputs": [],
   "source": [
    "train_X, test_X, train_y, test_y = train_test_split(X, y, test_size=0.2)"
   ]
  },
  {
   "cell_type": "markdown",
   "metadata": {},
   "source": [
    "Resultaat van de nauwkeurigheid: 0.770949720670391"
   ]
  },
  {
   "cell_type": "code",
   "execution_count": null,
   "metadata": {},
   "outputs": [],
   "source": []
  }
 ],
 "metadata": {
  "kernelspec": {
   "display_name": "Python 3",
   "language": "python",
   "name": "python3"
  },
  "language_info": {
   "codemirror_mode": {
    "name": "ipython",
    "version": 3
   },
   "file_extension": ".py",
   "mimetype": "text/x-python",
   "name": "python",
   "nbconvert_exporter": "python",
   "pygments_lexer": "ipython3",
   "version": "3.7.4"
  }
 },
 "nbformat": 4,
 "nbformat_minor": 4
}
