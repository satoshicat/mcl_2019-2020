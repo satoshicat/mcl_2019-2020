{
 "cells": [
  {
   "cell_type": "code",
   "execution_count": null,
   "metadata": {},
   "outputs": [],
   "source": [
    "import pandas as pd\n",
    "\n",
    "from sklearn import preprocessing\n",
    "\n",
    "from sklearn.svm import SVC\n",
    "\n",
    "train_df = pd.read_csv('./data/train.csv').dropna()\n",
    "\n",
    "X_train = train_df.drop(\"Survived\", axis=1).copy() # TODO: drop column Survived from train_df\n",
    "Y_train = train_df[\"Survived\"]# TODO: Only the survived column from train_df\n",
    "\n",
    "le = preprocessing.LabelEncoder()\n",
    "\n",
    "for column_name in X_train.columns:\n",
    "    if X_train[column_name].dtype == object:\n",
    "        # TODO: Transform non-numerical values into numerical values\n",
    "        X_train[column_name] = le.fit_transform(X_train[column_name].astype(str))\n",
    "\n",
    "\n",
    "svc = SVC(kernel=\"rbf\", gamma=\"auto\") # TODO: new SVC instance with Kernel rbf and gamma value of \"auto\"\n",
    "\n",
    "# Fit the SVC model onto the training data\n",
    "svc.fit(X_train, Y_train)\n",
    "\n",
    "Y_train_pred= svc.predict(X_train)\n",
    "\n",
    "#Print the score:\n",
    "print(svc.score(X_train, Y_train_pred))\n",
    "\n",
    "# Wat betekent de uitkomst?\n"
   ]
  },
  {
   "cell_type": "code",
   "execution_count": null,
   "metadata": {},
   "outputs": [],
   "source": []
  },
  {
   "cell_type": "code",
   "execution_count": null,
   "metadata": {},
   "outputs": [],
   "source": []
  }
 ],
 "metadata": {
  "kernelspec": {
   "display_name": "Python 3",
   "language": "python",
   "name": "python3"
  },
  "language_info": {
   "codemirror_mode": {
    "name": "ipython",
    "version": 3
   },
   "file_extension": ".py",
   "mimetype": "text/x-python",
   "name": "python",
   "nbconvert_exporter": "python",
   "pygments_lexer": "ipython3",
   "version": "3.7.4"
  }
 },
 "nbformat": 4,
 "nbformat_minor": 2
}
