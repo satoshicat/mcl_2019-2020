{
 "cells": [
  {
   "cell_type": "markdown",
   "metadata": {
    "slideshow": {
     "slide_type": "slide"
    }
   },
   "source": [
    "# Types of data\n",
    "\n",
    "Je hebt een inzicht nodig in data/gegevens, omdat je er **verschillende soorten gegevens** zijn en het uitgangspunt van machine learning is **data**.\n",
    "\n",
    "Basis soorten gegevens zijn de volgende:\n",
    "- numeriek (*numerical*)\n",
    "- categorisch (*categorical*)\n",
    "- ranggetal (*ordinal*)\n",
    "\n",
    "Materiaal bijgewerkt op 7 november 2019"
   ]
  },
  {
   "cell_type": "markdown",
   "metadata": {
    "slideshow": {
     "slide_type": "slide"
    }
   },
   "source": [
    "## Numerical\n",
    "\n",
    "- kwantitative gegevens\n",
    "- discrete gegevens:\n",
    "> - gehele getallen, zoals bijvoorbeeld: hoeveel bestellingen heeft een klant gedaan in een jaar?\n",
    "- continue gegevens:\n",
    "> - hoeveel tijd koste het een klant om een product te kopen?\n",
    "> - hoeveel regen valt er op een dag?\n",
    "\n",
    "![](images/temperature.png)"
   ]
  },
  {
   "cell_type": "markdown",
   "metadata": {
    "slideshow": {
     "slide_type": "slide"
    }
   },
   "source": [
    "## Categorical\n",
    "\n",
    "- kwalitatieve gegevens die geen (inherente) wiskundige betekenis hebben:\n",
    "> - geslacht (M/V/X..), \n",
    "> - yes/no (binaire data), \n",
    "> - product categorie, \n",
    "> - politieke partij,  \n",
    "> - provincie waarin je woont \n",
    "- je kunt nummers aan categorieën toewijzen om ze, bijvoorbeeld, compacter weer te geven, maar de getallen hebben geen wiskundige betekenis\n",
    "\n",
    "![](images/ned_prov.png)"
   ]
  },
  {
   "cell_type": "markdown",
   "metadata": {
    "slideshow": {
     "slide_type": "slide"
    }
   },
   "source": [
    "## Ordinal\n",
    "\n",
    "- mix van numerieke en categorische gegevens.\n",
    "- categorische data dat wel een (wiskundige)betekenis heeft:\n",
    "> - beoordelingen (*ratings*), bijvoorbeeld film beoordelingen in de vorm van aantal sterren\n",
    "> - beoordelingen zijn 1, 2, 3, 4 of 5. Elk van deze getallen heeft wel een betekenis: 2 betekent dat het een betere film is dan een 1, etc.\n",
    "\n",
    "![](images/stars.png)"
   ]
  },
  {
   "cell_type": "code",
   "execution_count": null,
   "metadata": {
    "slideshow": {
     "slide_type": "skip"
    }
   },
   "outputs": [],
   "source": []
  },
  {
   "cell_type": "markdown",
   "metadata": {
    "slideshow": {
     "slide_type": "slide"
    }
   },
   "source": [
    "## Quiz\n",
    "\n",
    "Zijn de volgende soorten gegevens *numerical*, *categorical* of *ordinal*? (6 examples)"
   ]
  },
  {
   "cell_type": "markdown",
   "metadata": {
    "slideshow": {
     "slide_type": "slide"
    }
   },
   "source": [
    "#### 1. De hoeveelheid benzine in de benzinetank van jouw auto."
   ]
  },
  {
   "cell_type": "markdown",
   "metadata": {
    "slideshow": {
     "slide_type": "slide"
    }
   },
   "source": [
    "#### 2. Inschatten van jouw algehele gezondheid op een schaal van 1 tot 4, waarbij 1 is slecht, 2 is matig, 3 is goed en 4 is uitstekend."
   ]
  },
  {
   "cell_type": "markdown",
   "metadata": {
    "slideshow": {
     "slide_type": "slide"
    }
   },
   "source": [
    "#### 3. De nationaliteiten van alle afstudeerders."
   ]
  },
  {
   "cell_type": "markdown",
   "metadata": {
    "slideshow": {
     "slide_type": "slide"
    }
   },
   "source": [
    "#### 4. De leeftijden van je klasgenoten."
   ]
  },
  {
   "cell_type": "markdown",
   "metadata": {
    "slideshow": {
     "slide_type": "slide"
    }
   },
   "source": [
    "#### 5. Het geld dat je uitgegeven hebt in een winkel."
   ]
  },
  {
   "cell_type": "markdown",
   "metadata": {
    "slideshow": {
     "slide_type": "slide"
    }
   },
   "source": [
    "#### 6. Het aantal studenten in deze klas."
   ]
  },
  {
   "cell_type": "markdown",
   "metadata": {
    "slideshow": {
     "slide_type": "fragment"
    }
   },
   "source": [
    "----------------"
   ]
  },
  {
   "cell_type": "markdown",
   "metadata": {
    "slideshow": {
     "slide_type": "slide"
    }
   },
   "source": [
    "## Quiz antwoorden"
   ]
  },
  {
   "cell_type": "markdown",
   "metadata": {
    "slideshow": {
     "slide_type": "slide"
    }
   },
   "source": [
    "#### 1. De hoeveelheid benzine in de benzinetank van jouw auto."
   ]
  },
  {
   "cell_type": "markdown",
   "metadata": {
    "slideshow": {
     "slide_type": "fragment"
    }
   },
   "source": [
    "numeriek, continous data (elk getal ook al zit er een maximum aan)."
   ]
  },
  {
   "cell_type": "markdown",
   "metadata": {
    "slideshow": {
     "slide_type": "slide"
    }
   },
   "source": [
    "#### 2. Inschatten van jouw algehele gezondheid op een schaal van 1 tot 4, waarbij 1 is slecht, 2 is matig, 3 is goed en 4 is uitstekend."
   ]
  },
  {
   "cell_type": "markdown",
   "metadata": {
    "slideshow": {
     "slide_type": "fragment"
    }
   },
   "source": [
    "ordinal"
   ]
  },
  {
   "cell_type": "markdown",
   "metadata": {
    "slideshow": {
     "slide_type": "slide"
    }
   },
   "source": [
    "#### 3. De nationaliteiten van alle afstudeerders."
   ]
  },
  {
   "cell_type": "markdown",
   "metadata": {
    "slideshow": {
     "slide_type": "fragment"
    }
   },
   "source": [
    "categorical (je kan ze niet met elkaar vergelijken in de wiskundige betekenis)"
   ]
  },
  {
   "cell_type": "markdown",
   "metadata": {
    "slideshow": {
     "slide_type": "slide"
    }
   },
   "source": [
    "#### 4. De leeftijden van je klasgenoten."
   ]
  },
  {
   "cell_type": "markdown",
   "metadata": {
    "slideshow": {
     "slide_type": "fragment"
    }
   },
   "source": [
    "numerical, continuous data"
   ]
  },
  {
   "cell_type": "markdown",
   "metadata": {
    "slideshow": {
     "slide_type": "slide"
    }
   },
   "source": [
    "#### 5. Het geld dat je uitgegeven hebt in een winkel."
   ]
  },
  {
   "cell_type": "markdown",
   "metadata": {
    "slideshow": {
     "slide_type": "fragment"
    }
   },
   "source": [
    "numerical, continuous data"
   ]
  },
  {
   "cell_type": "markdown",
   "metadata": {
    "slideshow": {
     "slide_type": "slide"
    }
   },
   "source": [
    "#### 6. Het aantal studenten in deze klas."
   ]
  },
  {
   "cell_type": "markdown",
   "metadata": {
    "slideshow": {
     "slide_type": "fragment"
    }
   },
   "source": [
    "numeric, discrete data, you can't have half a student\n",
    "\n",
    "Interessante discussie op StackOverFlow:\n",
    "__[What is the difference between discrete data and continuous data?](https://stats.stackexchange.com/questions/206/what-is-the-difference-between-discrete-data-and-continuous-data)__"
   ]
  }
 ],
 "metadata": {
  "celltoolbar": "Slideshow",
  "kernelspec": {
   "display_name": "Python 3",
   "language": "python",
   "name": "python3"
  },
  "language_info": {
   "codemirror_mode": {
    "name": "ipython",
    "version": 3
   },
   "file_extension": ".py",
   "mimetype": "text/x-python",
   "name": "python",
   "nbconvert_exporter": "python",
   "pygments_lexer": "ipython3",
   "version": "3.7.4"
  }
 },
 "nbformat": 4,
 "nbformat_minor": 4
}
