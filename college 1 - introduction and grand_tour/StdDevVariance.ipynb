{
 "cells": [
  {
   "cell_type": "markdown",
   "metadata": {
    "slideshow": {
     "slide_type": "slide"
    }
   },
   "source": [
    "# Standard Deviation and Variance"
   ]
  },
  {
   "cell_type": "markdown",
   "metadata": {
    "slideshow": {
     "slide_type": "fragment"
    }
   },
   "source": [
    "In statistieken is de standaardafwijking (standaarddeviatie, vaak weergegeven door de kleine Griekse letter sigma σ) een maat die wordt gebruikt om de hoeveelheid variatie of **spreiding** van een reeks gegevenswaarden te kwantificeren. \n",
    "\n",
    "![Standaardafwijking](images/stdvar.png)\n",
    "\n",
    "Een lage standaardafwijking geeft aan dat de gegevenspunten zich meestal in de buurt van het gemiddelde van de set bevinden, terwijl een hoge standaardafwijking aangeeft dat de gegevenspunten over een groter bereik van waarden zijn verdeeld.\n",
    "\n",
    "In de wetenschap rapporteren veel onderzoekers de standaarddeviatie van experimentele gegevens, en worden alleen effecten die veel verder dan twee standaardafwijkingen afwijken van wat zou worden verwacht beschouwd als statistisch significant. \n",
    "\n",
    "De standaardafwijking is ook belangrijk in de financiële wereld, waarbij de standaardafwijking van het rendement op een belegging een maat is voor de *volatiliteit* van de belegging."
   ]
  },
  {
   "cell_type": "markdown",
   "metadata": {
    "slideshow": {
     "slide_type": "fragment"
    }
   },
   "source": [
    "In de financiële markten is de *volatiliteit* de mate van beweeglijkheid van de koers van een aandeel of een ander financieel product zoals een aandelenindex of valuta. Stabiele beursfondsen zoals Unilever en Royal Dutch Shell hebben een vrij lage volatiliteit."
   ]
  },
  {
   "cell_type": "markdown",
   "metadata": {
    "slideshow": {
     "slide_type": "slide"
    }
   },
   "source": [
    "De standaarddeviatie van een willekeurige variabele, statistische populatie, gegevensset of kansverdeling is de vierkantswortel van zijn variantie. De variantie is het gemiddelde van de kwadratische verschillen van de getallen met het gemiddelde.\n",
    "\n",
    "**Voorbeeld**\n",
    "\n",
    "Wat is de variantie van de dataset (1, 4, 5, 4, 8)?"
   ]
  },
  {
   "cell_type": "markdown",
   "metadata": {
    "slideshow": {
     "slide_type": "fragment"
    }
   },
   "source": [
    "> - bepaal eerst de gemiddelde waarde: (1+4+5+4+8) / 5 = 4.4\n",
    "> - bepaal het verschil van elke waarde met het gemiddelde: (-3.4, -0.4, 0.6, -0.4, 3.6)\n",
    "> - bepaal het kwadraat van deze verschilen: (11.56, 0.16, 0.36, 0.16, 12.96)\n",
    "> - variantie $ σ^2 $ = (11.56 + 0.16 + 0.36 + 0.16 + 12.96) / 5 = 5.04\n",
    "> - standaardafwijking σ ≈ 2.24"
   ]
  },
  {
   "cell_type": "markdown",
   "metadata": {
    "slideshow": {
     "slide_type": "slide"
    }
   },
   "source": [
    "### Example"
   ]
  },
  {
   "cell_type": "code",
   "execution_count": null,
   "metadata": {
    "slideshow": {
     "slide_type": "fragment"
    }
   },
   "outputs": [],
   "source": [
    "%matplotlib inline\n",
    "import numpy as np\n",
    "import matplotlib.pyplot as plt\n",
    "\n",
    "incomes = np.random.normal(100.0, 50.0, 10000)\n",
    "\n",
    "plt.hist(incomes, 50)\n",
    "plt.show()"
   ]
  },
  {
   "cell_type": "code",
   "execution_count": null,
   "metadata": {
    "slideshow": {
     "slide_type": "fragment"
    }
   },
   "outputs": [],
   "source": [
    "incomes.std()"
   ]
  },
  {
   "cell_type": "code",
   "execution_count": null,
   "metadata": {
    "slideshow": {
     "slide_type": "fragment"
    }
   },
   "outputs": [],
   "source": [
    "incomes.var()"
   ]
  },
  {
   "cell_type": "markdown",
   "metadata": {
    "slideshow": {
     "slide_type": "slide"
    }
   },
   "source": [
    "## Exercise"
   ]
  },
  {
   "cell_type": "markdown",
   "metadata": {
    "slideshow": {
     "slide_type": "fragment"
    }
   },
   "source": [
    "Experiment with different parameters on the normal function, and see what effect it has on the shape of the distribution. How does that new shape relate to the standard deviation and variance?\n",
    "\n",
    "- take the example dataset, plot it as histogram en calculate the standard deviation and variance."
   ]
  },
  {
   "cell_type": "markdown",
   "metadata": {
    "slideshow": {
     "slide_type": "skip"
    }
   },
   "source": [
    "***"
   ]
  },
  {
   "cell_type": "code",
   "execution_count": null,
   "metadata": {
    "slideshow": {
     "slide_type": "notes"
    }
   },
   "outputs": [],
   "source": [
    "%matplotlib inline\n",
    "import numpy as np\n",
    "import matplotlib.pyplot as plt\n",
    "\n",
    "dataset = np.array([1,4,5,4,8])\n",
    "plt.hist(dataset)\n",
    "plt.plot()"
   ]
  },
  {
   "cell_type": "code",
   "execution_count": null,
   "metadata": {
    "slideshow": {
     "slide_type": "notes"
    }
   },
   "outputs": [],
   "source": [
    "stddev = dataset.std()\n",
    "print('standard deviation: {}'.format(stddev))"
   ]
  },
  {
   "cell_type": "code",
   "execution_count": null,
   "metadata": {
    "slideshow": {
     "slide_type": "skip"
    }
   },
   "outputs": [],
   "source": []
  }
 ],
 "metadata": {
  "celltoolbar": "Slideshow",
  "kernelspec": {
   "display_name": "Python 3",
   "language": "python",
   "name": "python3"
  },
  "language_info": {
   "codemirror_mode": {
    "name": "ipython",
    "version": 3
   },
   "file_extension": ".py",
   "mimetype": "text/x-python",
   "name": "python",
   "nbconvert_exporter": "python",
   "pygments_lexer": "ipython3",
   "version": "3.7.4"
  }
 },
 "nbformat": 4,
 "nbformat_minor": 4
}
