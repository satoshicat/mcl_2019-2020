{
 "cells": [
  {
   "cell_type": "markdown",
   "metadata": {},
   "source": [
    "# OEFENING\n",
    "\n",
    "# The Travelling Diabetes Clinic: A first take at the problem \n",
    "\n",
    "---"
   ]
  },
  {
   "cell_type": "markdown",
   "metadata": {},
   "source": [
    "## 1.1 The Travelling Diabetes Clinic Problem "
   ]
  },
  {
   "cell_type": "markdown",
   "metadata": {},
   "source": [
    "### 1.1.1 Reading the data with pandas\n",
    "\n",
    "Using `pandas.read_csv` method to load the data from the file to be used within our python code. Consult [pandas documentation](https://pandas.pydata.org/pandas-docs/stable/generated/pandas.read_csv.html) for further information of `read_csv` parameters and how it can be used."
   ]
  },
  {
   "cell_type": "code",
   "execution_count": null,
   "metadata": {},
   "outputs": [],
   "source": [
    "# Interactive exercise: TODO: type in code from beamer, replace the dots...\n",
    "\n",
    "# import pandas library\n",
    "...\n",
    "# read CSV-file PimaIndiansDiabetes.csv from folder dataset\n",
    "...\n",
    "# show the first 10 rows\n",
    "...\n",
    "# EXTRA: show the dimension (#rows, # columns)\n",
    "..."
   ]
  },
  {
   "cell_type": "markdown",
   "metadata": {},
   "source": [
    "---"
   ]
  },
  {
   "cell_type": "markdown",
   "metadata": {},
   "source": [
    "Select the data of interest, columns `\"Blood Glucose\", \"BMI\", \"Class\"` by using `.loc` to index tshapepart of data we're interested in from amongst the other data. <br>\n",
    "Using the slice operator `:` as a row label, selects all the rows in the `DataFrame`, while the list `[\"Blood Glucose\", \"BMI\", \"Class\"]` chooses only these two columns and leaves the others out "
   ]
  },
  {
   "cell_type": "code",
   "execution_count": null,
   "metadata": {},
   "outputs": [],
   "source": [
    "# Interactive exercise: TODO: type in code from beamer, replace the dots...\n",
    "\n",
    "# extract columns of interest\n",
    "data_of_interest = data .....\n",
    "... # show data of interest"
   ]
  },
  {
   "cell_type": "markdown",
   "metadata": {},
   "source": [
    "## 1.2 A Simple ML Attempt with scikit-learn\n",
    "\n",
    "### 1.2.2 Implementing the Model with scikit-learn\n",
    "\n",
    "Training a perceptron model after splitting the data into a training and testing parts. You can learn more about the `Perceptron` model and the `train_test_split` method at their documentation [here](http://scikit-learn.org/stable/modules/generated/sklearn.linear_model.Perceptron.html) and [here](http://scikit-learn.org/stable/modules/generated/sklearn.model_selection.train_test_split.html). scikit-learn has one of the best docs in the field. "
   ]
  },
  {
   "cell_type": "code",
   "execution_count": null,
   "metadata": {},
   "outputs": [],
   "source": [
    "# Interactive exercise: TODO: type in code from beamer, replace the dots...\n",
    "\n",
    "from sklearn.linear_model import ...\n",
    "from sklearn.model_selection import ...\n",
    "\n",
    "X = data_of_interest...\n",
    "y = data_of_interest...\n",
    "X_train, X_test, y_train, y_test = ...\n",
    "\n",
    "classifier = Perceptron()\n",
    "classifier.fit..."
   ]
  },
  {
   "cell_type": "markdown",
   "metadata": {},
   "source": [
    "---\n",
    "Testing the trained model accuracy on the test data using the `score` method"
   ]
  },
  {
   "cell_type": "code",
   "execution_count": null,
   "metadata": {},
   "outputs": [],
   "source": [
    "# Interactive exercise: TODO: type in code from beamer, replace the dots...\n",
    "\n",
    "accuracy = classifier...\n",
    "print(\"Prediction Accuracy: {:.2f}%\".format(...))"
   ]
  },
  {
   "cell_type": "markdown",
   "metadata": {},
   "source": [
    "---\n",
    "Showing that the model is performing badly even on the training data that it's supposed to ace!"
   ]
  },
  {
   "cell_type": "code",
   "execution_count": null,
   "metadata": {},
   "outputs": [],
   "source": [
    "# Interactive exercise: TODO: type in code from beamer, replace the dots...\n",
    "\n",
    "train_accuracy = classifier.score(...)\n",
    "print(\"Training Prediction Accuracy: {:.2f}%\".format(...))"
   ]
  },
  {
   "cell_type": "markdown",
   "metadata": {},
   "source": [
    "### 1.2.3 Establishing a Baseline\n",
    "We here use the `DummyClassifier` with the `most_frequent` startegy to establish a baseline to improve on in the coming chapters. You can learn more about the supported startegies in the [docs](http://scikit-learn.org/stable/modules/generated/sklearn.dummy.DummyClassifier.html#sklearn.dummy.DummyClassifier)"
   ]
  },
  {
   "cell_type": "code",
   "execution_count": null,
   "metadata": {},
   "outputs": [],
   "source": [
    "from sklearn.dummy import DummyClassifier\n",
    "\n",
    "dummy_baseline = DummyClassifier(strategy=\"most_frequent\")\n",
    "dummy_baseline.fit(X_train, y_train)\n",
    "\n",
    "baseline_accuracy = dummy_baseline.score(X_test, y_test)\n",
    "print(\"Dummy Prediction Accuracy: {:.2f}%\".format(baseline_accuracy * 100))"
   ]
  },
  {
   "cell_type": "code",
   "execution_count": null,
   "metadata": {},
   "outputs": [],
   "source": []
  }
 ],
 "metadata": {
  "kernelspec": {
   "display_name": "Python 3",
   "language": "python",
   "name": "python3"
  },
  "language_info": {
   "codemirror_mode": {
    "name": "ipython",
    "version": 3
   },
   "file_extension": ".py",
   "mimetype": "text/x-python",
   "name": "python",
   "nbconvert_exporter": "python",
   "pygments_lexer": "ipython3",
   "version": "3.7.4"
  }
 },
 "nbformat": 4,
 "nbformat_minor": 4
}
