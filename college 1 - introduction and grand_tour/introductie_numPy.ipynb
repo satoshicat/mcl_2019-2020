{
 "cells": [
  {
   "cell_type": "markdown",
   "metadata": {
    "slideshow": {
     "slide_type": "slide"
    }
   },
   "source": [
    "# Introductie numPy\n",
    "\n",
    "**Onderwerpen**\n",
    "\n",
    "1. [Wat is `numPy`?](#numpy_intro)\n",
    "2. [bruikbare bronnen en studiemateriaal](#bronnen)\n",
    "3. [`numPy` oefeningen](#numpy_oefeningen)\n",
    "4. [`numPy` opdrachten](#numpy_exercises)\n",
    "\n",
    "**Aanbevolen bronmateriaal**:\n",
    "__[VanderPlas](http://github.com/jakevdp/PythonDataScienceHandbook)__ Python Data Science Handbook, O'Reilly, November 2016, __[Introduction Numpy](https://github.com/jakevdp/PythonDataScienceHandbook/blob/master/notebooks/02.00-Introduction-to-NumPy.ipynb)__\n",
    "\n",
    "Materiaal bijgewerkt 7 november 2019."
   ]
  },
  {
   "cell_type": "markdown",
   "metadata": {},
   "source": [
    "-----------"
   ]
  },
  {
   "cell_type": "markdown",
   "metadata": {
    "slideshow": {
     "slide_type": "slide"
    }
   },
   "source": [
    "## 1. Wat is numPy?<a id=\"numpy_intro\"></a>\n",
    "\n",
    "<strong>NumPy</strong>, is een afkorting van <strong>NUM</strong>eric <strong>PY</strong>thon, en een library waarmee in-memory data ten opzichte van de standaard Python, effectief ingeladen, bewaard en gemanipuleerd (lees: mee gerekend) kan worden. \n",
    "\n",
    "De library bevat vele wiskundige bewerkingen uit de lineaire algebra, random getallen, fourier transformaties en andere wetenschappelijke formules. \n",
    "\n",
    "De belangrijkste datastructuur is een **N-dimensional array object**, genaamd `nparray`, een array waarvan de elemenen allemaal van hetzelfde data-type zijn. Dit maakt de opslag in geheugen, voor een programmeertaal als Python, erg efficient.\n"
   ]
  },
  {
   "cell_type": "code",
   "execution_count": null,
   "metadata": {
    "slideshow": {
     "slide_type": "fragment"
    }
   },
   "outputs": [],
   "source": [
    "# version number of numpy module\n",
    "import numpy as np\n",
    "np.__version__"
   ]
  },
  {
   "cell_type": "markdown",
   "metadata": {
    "slideshow": {
     "slide_type": "slide"
    }
   },
   "source": [
    "In een programmeertaal als bijvoorbeeld C, is een geheel getal (`int`) in wezen een label voor een positie in het geheugen waarvan de bytes voor het getal is opgeslagen. Een geheel getal (`int`) in Python is een verwijzing naar een positie in het geheugen die alle Python-objectinformatie bevat, inclusief de bytes die de gehele waarde bevatten (figuur 1).\n",
    "\n",
    "**Figuur 1** ![Figuur 1](images/cint_vs_pyint.png)\n",
    "\n",
    "In Python is een `list` een lijst van objecten inclusief de objectinformatie."
   ]
  },
  {
   "cell_type": "code",
   "execution_count": null,
   "metadata": {
    "slideshow": {
     "slide_type": "fragment"
    }
   },
   "outputs": [],
   "source": [
    "# Python list\n",
    "L = list(range(10))\n",
    "print('L:', L)\n",
    "[type(L[i]) for i in L] # data-typ of list-elements"
   ]
  },
  {
   "cell_type": "markdown",
   "metadata": {
    "slideshow": {
     "slide_type": "slide"
    }
   },
   "source": [
    "Een `list` kan verschillende data-type bevatten, zoals in volgend code-snippet:"
   ]
  },
  {
   "cell_type": "code",
   "execution_count": null,
   "metadata": {
    "slideshow": {
     "slide_type": "fragment"
    }
   },
   "outputs": [],
   "source": [
    "# Python lists contain different data-types\n",
    "L3 = [True, \"2\", 3.14, 4]\n",
    "[type(item) for item in L3]"
   ]
  },
  {
   "cell_type": "markdown",
   "metadata": {
    "slideshow": {
     "slide_type": "slide"
    }
   },
   "source": [
    "Maar deze flexibiliteit brengt kosten met zich mee: om deze flexibele typen toe te staan, is elk element een compleet Python-object. Het kan veel efficiënter zijn om de gegevens in een lijst van het vaste-type op te slaan en dat is precies wat een numpy-array is (figuur 3).\n",
    "\n",
    "**Figuur 2** ![Figuur 2](images/array_vs_list.png)\n",
    "\n",
    "Een numPy-array definieer je als volgt:"
   ]
  },
  {
   "cell_type": "code",
   "execution_count": null,
   "metadata": {
    "slideshow": {
     "slide_type": "fragment"
    }
   },
   "outputs": [],
   "source": [
    "# create a numpy-array\n",
    "import numpy as np\n",
    "np.array(range(10))"
   ]
  },
  {
   "cell_type": "markdown",
   "metadata": {
    "slideshow": {
     "slide_type": "slide"
    }
   },
   "source": [
    "Gegevensbewerkingen in Python is bijna synoniem aan NumPy-array bewerkingen: zelfs tools zoals panda's zijn gebouwd rond de NumPy-array.\n",
    "\n",
    "#### Basis bewerkingen op numPy's arrays. \n",
    "\n",
    "Tip: Leer ze goed kennen!\n",
    "\n",
    "- **Attributen van arrays**: methoden ter bepaling van de grootte, vorm, geheugenconsumptie en gegevenstypen van arrays.\n",
    "\n",
    "- **Indexering van arrays**: methoden om de waarde van afzonderlijke arrayelementen op te halen en in te stellen.\n",
    "\n",
    "- **Slicing van arrays** (array in segmenten splitsen): methoden om kleinere subarrays binnen een grotere array te verkrijgen en in te stellen.\n",
    "\n",
    "- **Reshaping (hervormen) van arrays**: methoden om de vorm van een gegeven array te wijzigen.\n",
    "\n",
    "- **Joining en splitting van arrays**: methoden voor het combineren van meerdere arrays tot één array en het splitsen van één array in vele arrays.\n"
   ]
  },
  {
   "cell_type": "markdown",
   "metadata": {
    "slideshow": {
     "slide_type": "slide"
    }
   },
   "source": [
    "#### Oefeningen\n",
    "Je leert numpy-methoden kennen door de studiestof te bestuderen uit [VanderPlas]: __[The basics of Numpy Arrays](https://github.com/jakevdp/PythonDataScienceHandbook/blob/be23269c7eb119e093a6d5ce91e464f5e686d9ab/notebooks/02.02-The-Basics-Of-NumPy-Arrays.ipynb)__  en onderstaande NumPy oefeningen uit te voeren."
   ]
  },
  {
   "cell_type": "markdown",
   "metadata": {},
   "source": [
    "-----------"
   ]
  },
  {
   "cell_type": "markdown",
   "metadata": {
    "slideshow": {
     "slide_type": "slide"
    }
   },
   "source": [
    "## 2. Bruikbare bronnen en studiemateriaal<a id=\"bronnen\"></a>\n",
    "\n",
    "1. De officiele documentatie van __[Numpy](http://www.numpy.org)__\n",
    "2. __[scipy-lectures.org](http://www.scipy-lectures.org/intro/numpy/index.html)__ — met tutorials over pandas, numpy, matplotlib en scikit-learn"
   ]
  },
  {
   "cell_type": "markdown",
   "metadata": {},
   "source": [
    "-----------"
   ]
  },
  {
   "cell_type": "markdown",
   "metadata": {
    "slideshow": {
     "slide_type": "slide"
    }
   },
   "source": [
    "## 3. NumPy oefeningen <a id=\"numpy_oefeningen\"></a>\n"
   ]
  },
  {
   "cell_type": "markdown",
   "metadata": {
    "slideshow": {
     "slide_type": "slide"
    }
   },
   "source": [
    "### Oefening 1\n",
    "Gegeven Python code snippets - zie volgende cell:\n",
    "\n",
    "1. Maak bovenstaande code werkend.\n",
    "2. Beschrijf in één regel per variabele, wat `x1`, `x2` en `x3` produceren.\n",
    "3. Print van de variabelen `x1`, `x2` en `x3`: de dimensie (`ndim`), de dimensie's (`shape`) en de totale grootte (`size`).\n",
    "4. Wat is het data-type van de variabelen `x1`, `x2` en `x3`?"
   ]
  },
  {
   "cell_type": "code",
   "execution_count": null,
   "metadata": {
    "slideshow": {
     "slide_type": "fragment"
    }
   },
   "outputs": [],
   "source": [
    "np.random.seed(0) # seed for reproducibility\n",
    "\n",
    "x1 = np.random.randint(10, size=6)  \n",
    "x2 = np.random.randint(10, size=(3, 4))  \n",
    "x3 = np.random.randint(10, size=(3, 4, 5)) \n",
    "\n",
    "# Jouw antwoord Oefening 1\n"
   ]
  },
  {
   "cell_type": "code",
   "execution_count": null,
   "metadata": {
    "slideshow": {
     "slide_type": "slide"
    }
   },
   "outputs": [],
   "source": [
    "# Voorbeeld antwoord 1\n",
    "\n",
    "import numpy as np\n",
    "np.random.seed(0)  # seed for reproducibility\n",
    "\n",
    "x1 = np.random.randint(10, size=6)  # 2: One-dimensional array\n",
    "x2 = np.random.randint(10, size=(3, 4))  # 2: Two-dimensional array\n",
    "x3 = np.random.randint(10, size=(3, 4, 5))  # 2: Three-dimensional array\n",
    "\n",
    "# 3.\n",
    "print(\"x1 ndim: \", x1.ndim)\n",
    "print(\"x1 shape:\", x1.shape)\n",
    "print(\"x1 size: \", x1.size)\n",
    "\n",
    "print(\"x2 ndim: \", x2.ndim)\n",
    "print(\"x2 shape:\", x2.shape)\n",
    "print(\"x2 size: \", x2.size)\n",
    "\n",
    "print(\"x3 ndim: \", x3.ndim)\n",
    "print(\"x3 shape:\", x3.shape)\n",
    "print(\"x3 size: \", x3.size)\n",
    "\n",
    "#4\n",
    "print(\"dtype:\", x1.dtype)\n",
    "print(\"dtype:\", x2.dtype)\n",
    "print(\"dtype:\", x3.dtype)"
   ]
  },
  {
   "cell_type": "markdown",
   "metadata": {
    "slideshow": {
     "slide_type": "slide"
    }
   },
   "source": [
    "### Oefening 2\n",
    "\n",
    "1. Maak een NumPy-array van de Python list `[1,4,2,5,3]`.\n",
    "2. Maak een NumPy-array van de volgende gebroken getallen: 3.14, 7.28, 3, 4.\n",
    "3. Wat valt je op bij resultaat 2?"
   ]
  },
  {
   "cell_type": "code",
   "execution_count": null,
   "metadata": {
    "slideshow": {
     "slide_type": "fragment"
    }
   },
   "outputs": [],
   "source": [
    "# Jouw antwoord Oefening 2"
   ]
  },
  {
   "cell_type": "code",
   "execution_count": null,
   "metadata": {
    "slideshow": {
     "slide_type": "fragment"
    }
   },
   "outputs": [],
   "source": [
    "# Voorbeeld antwoord 2\n",
    "# 1\n",
    "import numpy as np\n",
    "np.array([1, 4, 2, 5, 3])\n"
   ]
  },
  {
   "cell_type": "code",
   "execution_count": null,
   "metadata": {
    "slideshow": {
     "slide_type": "fragment"
    }
   },
   "outputs": [],
   "source": [
    "# 2 \n",
    "np.array([3.14, 7.28, 3, 4])\n"
   ]
  },
  {
   "cell_type": "markdown",
   "metadata": {
    "slideshow": {
     "slide_type": "fragment"
    }
   },
   "source": [
    "2.3: Wat opvalt is dat de gehele getalen 3 en 4 zijn ge-upcast naar een gebroken getal. Denk eraan, NumPy-arrays bevatten getallen van hetzelfde data-type."
   ]
  },
  {
   "cell_type": "markdown",
   "metadata": {
    "slideshow": {
     "slide_type": "slide"
    }
   },
   "source": [
    "### Oefening 3\n",
    "\n",
    "1. Wat is de Python code om de volgende multi-dimensionale (3x3) NumPy-array te produceren?\n",
    "\n",
    "> `Output[]: array([[2, 3, 4],\n",
    "                 [4, 5, 6],\n",
    "                 [6, 7, 8]])`\n",
    "\n",
    "2. Wat is de Python code om een 3x3 array van random-getallen in het interval [0,10] te produceren? Voorbeeld van een resultaat:</li>\n",
    "\n",
    "> `Output[]: array([[4, 3, 4],\n",
    "                 [4, 8, 4],\n",
    "                 [3, 7, 5]])`\n"
   ]
  },
  {
   "cell_type": "code",
   "execution_count": null,
   "metadata": {
    "slideshow": {
     "slide_type": "fragment"
    }
   },
   "outputs": [],
   "source": [
    "# Jouw antwoord Oefening 3"
   ]
  },
  {
   "cell_type": "code",
   "execution_count": null,
   "metadata": {
    "slideshow": {
     "slide_type": "fragment"
    }
   },
   "outputs": [],
   "source": [
    "# Voorbeeld antwoord Oefening 3.1\n",
    "import numpy as np\n",
    "\n",
    "# nested lists result in multidimensional arrays\n",
    "np.array([range(i, i + 3) for i in [2, 4, 6]])\n"
   ]
  },
  {
   "cell_type": "code",
   "execution_count": null,
   "metadata": {
    "slideshow": {
     "slide_type": "fragment"
    }
   },
   "outputs": [],
   "source": [
    "# Voorbeeld antwoord Oefening 3.2\n",
    "import numpy as np\n",
    "\n",
    "# Create a 3x3 array of random integers in the interval [0, 10)\n",
    "np.random.randint(0, 10, (3, 3))\n"
   ]
  },
  {
   "cell_type": "markdown",
   "metadata": {
    "slideshow": {
     "slide_type": "slide"
    }
   },
   "source": [
    "### Oefening 4\n",
    "Gegeven de NumPy arrays `x1` en `x2`:\n",
    "\n",
    "> `x1 = np.random.randint(10, size=6)  # One-dimensional array`<br>\n",
    "`x2 = np.random.randint(10, size=(3,4))  # Two-dimensional array`\n",
    "\n",
    "1. Print het 1ste getal uit `x1`.\n",
    "2. Print het 5de getal uit `x1`.\n",
    "3. Print het voorlaatste getal uit `x1`.\n",
    "4. Print getal uit `x2` op rij 3, kolom 1.\n",
    "5. Verander getal in `x2` op rij 1 en kolom 1 naar 12.\n",
    "6. Wat levert de volgende Python code op: `x1[0] = 3.14159`?"
   ]
  },
  {
   "cell_type": "code",
   "execution_count": null,
   "metadata": {
    "slideshow": {
     "slide_type": "fragment"
    }
   },
   "outputs": [],
   "source": [
    "x1 = np.random.randint(10, size=6)  # One-dimensional array\n",
    "x2 = np.random.randint(10, size=(3,4))  # Two-dimensional array\n",
    "\n",
    "# Jouw antwoord Oefening 4\n"
   ]
  },
  {
   "cell_type": "code",
   "execution_count": null,
   "metadata": {
    "slideshow": {
     "slide_type": "fragment"
    }
   },
   "outputs": [],
   "source": [
    "# Voorbeeld antwoord Oefening 4\n",
    "import numpy as np\n",
    "x1 = np.random.randint(10, size=6)  # One-dimensional array\n",
    "x2 = np.random.randint(10, size=(3,4))  # Two-dimensional array\n",
    "\n",
    "print('x1:', x1)\n",
    "print('x2:', x2)\n",
    "\n",
    "print (x1[0]) #1, 0-indexed array!\n",
    "print (x1[4]) #2\n",
    "print(x1[-2]) #3\n",
    "\n",
    "print(x2[2,0]) #4\n",
    "x2[0,0] = 12 #5\n",
    "print('\\n x2:', x2)\n",
    "\n",
    "x1[0] = 3.14159 #6\n",
    "print('\\n x1:', x1)"
   ]
  },
  {
   "cell_type": "markdown",
   "metadata": {
    "slideshow": {
     "slide_type": "slide"
    }
   },
   "source": [
    "### Oefening 5\n",
    "\n",
    "1. Maak een 1-dimensionale NumPy-array gevuld met de getallen 0 t/m 10.\n",
    "2. Print de eerste 5 elementen.\n",
    "3. Print de elementen vanaf index 5.\n",
    "4. Print om elk ander element vanaf het begin (**in dit geval** alleen de even getallen).\n",
    "5. Print om elk ander element vanaf het 1ste element (**in dit geval** alleen de oneven getallen).\n",
    "6. Print de array in omgekeerde (*reversed*) volgorde."
   ]
  },
  {
   "cell_type": "code",
   "execution_count": null,
   "metadata": {
    "slideshow": {
     "slide_type": "fragment"
    }
   },
   "outputs": [],
   "source": [
    "# Jouw antwoord Oefening 5"
   ]
  },
  {
   "cell_type": "code",
   "execution_count": null,
   "metadata": {
    "slideshow": {
     "slide_type": "fragment"
    }
   },
   "outputs": [],
   "source": [
    "# Voorbeeld antwoord Oefening 5\n",
    "import numpy as np\n",
    "x = np.arange(10) #1\n",
    "print(\"1: \", x)\n",
    "\n",
    "print(\"2: \", x[:5]) #2\n",
    "print(\"3: \", x[5:]) #3\n",
    "print(\"4: \", x[::2]) #4\n",
    "print(\"5: \", x[1::2]) #5\n",
    "\n",
    "print(\"6: \", x[::-1]) #6"
   ]
  },
  {
   "cell_type": "markdown",
   "metadata": {
    "slideshow": {
     "slide_type": "slide"
    }
   },
   "source": [
    "### Oefening 6\n",
    "Gegeven 2-dimensionale NumPy-array `x2 = np.random.randint(10, size=(3, 4))`.\n",
    "\n",
    "Een veel voorkomende bewerking is het opvragen van een enkele rij of kolom van een array.\n",
    "1. Print de 1ste kolom van `x2`.\n",
    "2. Print de 2de rij van `x2`."
   ]
  },
  {
   "cell_type": "code",
   "execution_count": null,
   "metadata": {
    "slideshow": {
     "slide_type": "fragment"
    }
   },
   "outputs": [],
   "source": [
    "x2 = np.random.randint(10, size=(3, 4))\n",
    "\n",
    "# Jouw antwoord Oefening 6\n"
   ]
  },
  {
   "cell_type": "code",
   "execution_count": null,
   "metadata": {
    "slideshow": {
     "slide_type": "fragment"
    }
   },
   "outputs": [],
   "source": [
    "# Voorbeeld antwoord Oefening 6\n",
    "#import nump as np\n",
    "x2 = np.random.randint(10, size=(3, 4))\n",
    "\n",
    "print (x2) # print x2 for convenience\n",
    "print(\"first column: \", x2[:, 0])  #1\n",
    "print(\"x2[1,:] - 2nd row: \", x2[1,:])  #2\n",
    "print(\"x2[1] - same result: \", x2[1])  #2 - compact syntax"
   ]
  },
  {
   "cell_type": "markdown",
   "metadata": {
    "slideshow": {
     "slide_type": "slide"
    }
   },
   "source": [
    "### Oefening 7\n",
    "\n",
    "1. Maak variabele `x` van NumPy-array met de getallen 1, 2 en 3.\n",
    "2. Maak variabele `y` van NumPy-array met de getallen 3, 2 en 1.\n",
    "3. Voeg beide arrays samen in één NumPy-array, zodat je resultaat krijgt `[1 2 3 3 2 1]`.\n",
    "4. Maak NumPy-array met getallen 99, 99 en 99 (variabele `z`).\n",
    "5. Voeg samen `x`, `y` en `z` in één NumPy-array.\n",
    "6. Maak een 2-dimensionale NumPy-array, genaamd `grid`, en vul het met getallen 1 t/m 6.\n",
    "7. Voeg twee grid's samen langs de 1ste as (kolom 1) (0-indexed) tot een nieuwe NumPy-array.\n",
    "8. Voeg twee grid's samen langs de 2de as (rij 1) (0-indexed) tot een nieuwe NumPy-array.\n"
   ]
  },
  {
   "cell_type": "code",
   "execution_count": null,
   "metadata": {
    "slideshow": {
     "slide_type": "fragment"
    }
   },
   "outputs": [],
   "source": [
    "# Jouw antwoord Oefening 7\n"
   ]
  },
  {
   "cell_type": "code",
   "execution_count": null,
   "metadata": {
    "slideshow": {
     "slide_type": "fragment"
    }
   },
   "outputs": [],
   "source": [
    "# Voorbeeld antwoord Oefening 7\n",
    "x = np.array([1, 2, 3]) #1\n",
    "print(\"1: x:\", x) #1\n",
    "y = np.array([3, 2, 1]) #2\n",
    "print(\"2: y:\", y) #1\n",
    "\n",
    "print(\"3:\", np.concatenate([x, y]) ) #3\n",
    "\n",
    "z = np.array([99, 99, 99]) #4\n",
    "print(\"4: z:\", z) #4\n",
    "\n",
    "print( \"5: \", np.concatenate([x, y, z]) ) #5\n",
    "\n",
    "grid = np.array([[1, 2, 3],\n",
    "                 [4, 5, 6]]) #6\n",
    "print(\"6:\\n\", grid)\n",
    "\n",
    "#7 concatenate along the first axis (vertical, zero-indexed)\n",
    "print(\"7:\\n\", np.concatenate([grid, grid]))\n",
    "#8 concatenate along the second axis (horizontal, zero-indexed)\n",
    "print( \"8:\\n\", np.concatenate([grid, grid], axis=1)) "
   ]
  },
  {
   "cell_type": "markdown",
   "metadata": {
    "slideshow": {
     "slide_type": "slide"
    }
   },
   "source": [
    "### Oefening 8\n",
    "Gegeven `x = [1, 2, 3, 99, 99, 3, 2, 1]`.\n",
    "\n",
    "De NumPy-array kent een methode `split()`.\n",
    "1. Maak code dat de array `x` splitst in 3 delen, op de indices 3 en 5. \n",
    "> Resultaat zijn 3 variabelen, `x1`, `x2` en `x3` met respectievelijk de waarden `[1 2 3]`, `[99 99]` en `[3 2 1]`.\n"
   ]
  },
  {
   "cell_type": "code",
   "execution_count": null,
   "metadata": {
    "slideshow": {
     "slide_type": "fragment"
    }
   },
   "outputs": [],
   "source": [
    "x = [1, 2, 3, 99, 99, 3, 2, 1]\n",
    "\n",
    "# Jouw antwoord Oefening 8\n"
   ]
  },
  {
   "cell_type": "code",
   "execution_count": null,
   "metadata": {
    "slideshow": {
     "slide_type": "fragment"
    }
   },
   "outputs": [],
   "source": [
    "# Voorbeeld antwoord Oefening 8\n",
    "# import numpy as np\n",
    "x = [1, 2, 3, 99, 99, 3, 2, 1] \n",
    "x1, x2, x3 = np.split(x, [3, 5]) #1\n",
    "print(x1, x2, x3)"
   ]
  },
  {
   "cell_type": "markdown",
   "metadata": {
    "slideshow": {
     "slide_type": "slide"
    }
   },
   "source": [
    "### Oefening 9\n",
    "We gaan wat Python code benchmarken, met de de *magic* `%timeit`.\n",
    "\n",
    "**Gegeven**: `functie compute_reciprocals(values)` (zie volgende cell).\n",
    "\n",
    "1. Maak een 1-dimensionale NumPy-array met de naam `small_array`, met `size=5` en vul dat met random getallen.\n",
    "\n",
    "2. Bereken de reciproke-waarden (1/getal) van de array `small_array` met de gegeven functie `compute_reciprocals()` en toon resultaat.\n",
    "\n",
    "3. Maak een 1-dimensionale NumPy-array met de naam `big_array`, met `size=1000000` en vul dat met random getallen.\n",
    "\n",
    "4. *Time* de uitvoering van `computer_reciprocal(big_array)` met `%timeit`. Let op: het duurt nu veel langer, maar de computer hangt niet (plm. 2.64 s per loop)!\n",
    "\n",
    "5. *Time* nu de code `(1.0 / big_array)` met `%timeit`. Dit is nu veel sneller (plm. 4.54 ms per loop)! Gevolg van de gevectoriseerde uitvoering van numpy-arrays. Zie uitleg.\n"
   ]
  },
  {
   "cell_type": "code",
   "execution_count": null,
   "metadata": {
    "slideshow": {
     "slide_type": "fragment"
    }
   },
   "outputs": [],
   "source": [
    "import numpy as np\n",
    "np.random.seed(0)\n",
    "\n",
    "def compute_reciprocals(values):\n",
    "    output = np.empty(len(values))\n",
    "    for i in range(len(values)):\n",
    "        output[i] = 1.0 / values[i]\n",
    "    return output\n",
    "\n",
    "# Jouw antwoord Oefening 9"
   ]
  },
  {
   "cell_type": "code",
   "execution_count": null,
   "metadata": {
    "slideshow": {
     "slide_type": "slide"
    }
   },
   "outputs": [],
   "source": [
    "# Voorbeeld antwoord Oefening 9\n",
    "\n",
    "# example small array\n",
    "small_array = np.random.randint(1, 10, size=5) #1\n",
    "print( compute_reciprocals(small_array) ) #2\n"
   ]
  },
  {
   "cell_type": "code",
   "execution_count": null,
   "metadata": {
    "slideshow": {
     "slide_type": "fragment"
    }
   },
   "outputs": [],
   "source": [
    "# example big array\n",
    "# It takes several seconds to compute these million operations and to store the result!\n",
    "big_array = np.random.randint(1, 100, size=1000000) #3\n",
    "%timeit compute_reciprocals(big_array) #4\n"
   ]
  },
  {
   "cell_type": "code",
   "execution_count": null,
   "metadata": {
    "slideshow": {
     "slide_type": "fragment"
    }
   },
   "outputs": [],
   "source": [
    " %timeit (1.0 / big_array) #5"
   ]
  },
  {
   "cell_type": "code",
   "execution_count": null,
   "metadata": {
    "slideshow": {
     "slide_type": "fragment"
    }
   },
   "outputs": [],
   "source": [
    "# zelfde resultaten, maar 2de methode gaat via de *ufuncs* (manier waarop NumPy is gemaakt).\n",
    "print(compute_reciprocals(values))\n",
    "print(1.0 / values)"
   ]
  },
  {
   "cell_type": "markdown",
   "metadata": {
    "slideshow": {
     "slide_type": "slide"
    }
   },
   "source": [
    "<h4>Uitleg resultaat 5</h4>\n",
    "Voor veel soorten bewerkingen biedt NumPy een handige interface in alleen dit soort statisch getypeerde, gecompileerde routine. Dit staat bekend als een * vectorized * -bewerking.\n",
    "Dit kan worden bereikt door eenvoudigweg een bewerking uit te voeren op de array, die vervolgens op elk element wordt toegepast. \n",
    "Deze gevectoriseerde benadering is ontworpen om de iteratie in de gecompileerde laag te duwen die ten grondslag ligt aan NumPy, en dat leidt tot een veel snellere uitvoering.\n",
    "\n",
    "Gevectoriseerde bewerkingen in NumPy worden geïmplementeerd via __ufuncs__, waarvan het hoofddoel is om snel herhaalde bewerkingen uit te voeren op waarden in NumPy-arrays.\n",
    "__Ufuncs__ zijn extreem flexibel - zoals je al zag bij de bewerking tussen een scalar en een array, maar je kunt ook met twee arrays werken, zoals in volgende code-snippet: <code>  np.arange (5) / np.arange (1, 6) </code>\n",
    "\n",
    "Zie verder __[VanderPlas](http://github.com/jakevdp/PythonDataScienceHandbook)__ Python Data Science Handbook, O'Reilly, November 2016, __[Computation on NumPy Arrays: Universal Functions](https://github.com/jakevdp/PythonDataScienceHandbook/blob/be23269c7eb119e093a6d5ce91e464f5e686d9ab/notebooks/02.03-Computation-on-arrays-ufuncs.ipynb)__"
   ]
  },
  {
   "cell_type": "markdown",
   "metadata": {
    "slideshow": {
     "slide_type": "notes"
    }
   },
   "source": [
    "Zie verder __[VanderPlas](http://github.com/jakevdp/PythonDataScienceHandbook)__ Python Data Science Handbook, O'Reilly, November 2016, __[Computation on NumPy Arrays: Universal Functions](https://github.com/jakevdp/PythonDataScienceHandbook/blob/be23269c7eb119e093a6d5ce91e464f5e686d9ab/notebooks/02.03-Computation-on-arrays-ufuncs.ipynb)__"
   ]
  },
  {
   "cell_type": "code",
   "execution_count": null,
   "metadata": {
    "slideshow": {
     "slide_type": "skip"
    }
   },
   "outputs": [],
   "source": [
    "np.arange (5) / np.arange (1, 6)"
   ]
  },
  {
   "cell_type": "markdown",
   "metadata": {},
   "source": [
    "-----------"
   ]
  },
  {
   "cell_type": "markdown",
   "metadata": {
    "slideshow": {
     "slide_type": "slide"
    }
   },
   "source": [
    "## 4. NumPy opdrachten <a id=\"numpy_exercises\"></a>\n",
    "\n",
    "\n",
    "### Opdracht 1\n",
    "**Gegeven** de volgende array `arr`:\n",
    "<code>\n",
    "    arr = np.array(range(10))\n",
    "</code>\n",
    "\n",
    "1. Vervang alle oneven getallen in `arr` door -1.\n",
    "2. Vervang alle oneven getallen in de `arr` door -1 **zonder** `arr` te veranderen.\n",
    "3. Converteer de 1-dimensionele array `arr` in een 2-dimensionale array (zonder `arr` te veranderen)."
   ]
  },
  {
   "cell_type": "code",
   "execution_count": null,
   "metadata": {
    "slideshow": {
     "slide_type": "fragment"
    }
   },
   "outputs": [],
   "source": [
    "# Jouw antwoord Opdracht 1\n"
   ]
  },
  {
   "cell_type": "markdown",
   "metadata": {
    "slideshow": {
     "slide_type": "slide"
    }
   },
   "source": [
    "### Opdracht 2 \n",
    "\n",
    "Gegeven de volgende arrays `a` en `b` (zie volgende cell).\n",
    "\n",
    "1. Stapel de arrays `a` en `b` vertikaal op elkaar, met volgende resultaat:\n",
    "\n",
    "> `array([[0, 1, 2, 3, 4],\n",
    "         [5, 6, 7, 8, 9],\n",
    "         [1, 1, 1, 1, 1],\n",
    "         [1, 1, 1, 1, 1]])`\n",
    "\n",
    "2. Stapel de arrays `a` en `b` horizontaal naast elkaar, met volgende resultaat:\n",
    "\n",
    "> `array([[0, 1, 2, 3, 4, 1, 1, 1, 1, 1],\n",
    "         [5, 6, 7, 8, 9, 1, 1, 1, 1, 1]])`\n"
   ]
  },
  {
   "cell_type": "code",
   "execution_count": null,
   "metadata": {
    "slideshow": {
     "slide_type": "fragment"
    }
   },
   "outputs": [],
   "source": [
    "a = np.arange(10).reshape(2,-1)\n",
    "b = np.repeat(1, 10).reshape(2,-1)\n",
    "\n",
    "# Jouw antwoord\n"
   ]
  },
  {
   "cell_type": "markdown",
   "metadata": {
    "slideshow": {
     "slide_type": "slide"
    }
   },
   "source": [
    "### Opdracht 3 \n",
    "\n",
    "Gegeven de volgende array `a`: <code>a = np.array([1,2,3])</code>. \n",
    "\n",
    "Genereer het volgende resultaat (een patroon) zonder hardcoding. Gebruik alleen numpy methoden en de array `a`. \n",
    "> resultaat: array([1, 1, 1, 2, 2, 2, 3, 3, 3, 1, 2, 3, 1, 2, 3, 1, 2, 3])\n"
   ]
  },
  {
   "cell_type": "code",
   "execution_count": null,
   "metadata": {
    "slideshow": {
     "slide_type": "fragment"
    }
   },
   "outputs": [],
   "source": [
    "# Jouw antwoord\n"
   ]
  },
  {
   "cell_type": "markdown",
   "metadata": {
    "slideshow": {
     "slide_type": "slide"
    }
   },
   "source": [
    "### Opdracht 4 \n",
    "\n",
    "Gegeven de volgende arrays `a` en `b`:\n",
    "\n",
    "<code>a = np.array([1,2,3,2,3,4,3,4,5,6])</code><br>\n",
    "<code>b = np.array([7,2,10,2,7,4,9,4,9,8])</code><br>\n",
    "\n",
    "Haal de gemeenschappelijke elementen uit de arrays, met volgende resultaat: \n",
    "> array([2, 4])\n"
   ]
  },
  {
   "cell_type": "code",
   "execution_count": null,
   "metadata": {
    "slideshow": {
     "slide_type": "fragment"
    }
   },
   "outputs": [],
   "source": [
    "# Jouw antwoord\n"
   ]
  },
  {
   "cell_type": "markdown",
   "metadata": {
    "slideshow": {
     "slide_type": "slide"
    }
   },
   "source": [
    "### Opdracht 5 \n",
    "\n",
    "Gegeven de volgende arrays `a` en `b`:\n",
    "\n",
    "<code>a = np.array([1,2,3,4,5])</code><br>\n",
    "<code>b = np.array([5,6,7,8,9])</code><br>\n",
    "\n",
    "Haal uit array `a` weg alle elementen die in array `b` zitten."
   ]
  },
  {
   "cell_type": "code",
   "execution_count": null,
   "metadata": {
    "slideshow": {
     "slide_type": "fragment"
    }
   },
   "outputs": [],
   "source": [
    "# Jouw antwoord\n"
   ]
  },
  {
   "cell_type": "markdown",
   "metadata": {
    "slideshow": {
     "slide_type": "slide"
    }
   },
   "source": [
    "### Opdracht 6\n",
    "\n",
    "Gegeven voor de volgende (deel)opdrachten de __[iris dataset](https://archive.ics.uci.edu/ml/machine-learning-databases/iris/iris.data)__.\n",
    "\n",
    "1. Hoe import je deze dataset in een numpy-array met de getallen en de tekst intact?\n",
    "2. Bereken het gemiddelde (mean), de median en de standard deviation van de iris's `sepallength` (1ste kolom).\n",
    "3. Maak een genormaliseerde array van de iris's `sepallength`, zodat de lengte tussen 0 (minimum) en 1 (maximum) liggen.\n",
    "\n",
    "**Gegeven**<br>\n",
    "<code>url = 'https://archive.ics.uci.edu/ml/machine-learning-databases/iris/iris.data'</code><br>\n",
    "<code>sepallength = np.genfromtxt(url, delimiter=',', dtype='float', usecols=[0])</code>"
   ]
  },
  {
   "cell_type": "code",
   "execution_count": null,
   "metadata": {
    "slideshow": {
     "slide_type": "fragment"
    }
   },
   "outputs": [],
   "source": [
    "# Jouw antwoord\n"
   ]
  }
 ],
 "metadata": {
  "celltoolbar": "Slideshow",
  "kernelspec": {
   "display_name": "Python 3",
   "language": "python",
   "name": "python3"
  },
  "language_info": {
   "codemirror_mode": {
    "name": "ipython",
    "version": 3
   },
   "file_extension": ".py",
   "mimetype": "text/x-python",
   "name": "python",
   "nbconvert_exporter": "python",
   "pygments_lexer": "ipython3",
   "version": "3.7.4"
  }
 },
 "nbformat": 4,
 "nbformat_minor": 4
}
