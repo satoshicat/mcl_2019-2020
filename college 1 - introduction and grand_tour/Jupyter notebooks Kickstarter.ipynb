{
 "cells": [
  {
   "cell_type": "markdown",
   "metadata": {},
   "source": [
    "# Hello There!\n",
    "\n",
    "## Welcome to your Jupyter Notebook kickstarter!\n",
    "\n",
    "### I'm a _Markdown_ cell where you can write some descriptive text for the work you're doing here\n",
    "\n",
    "1. **Double click on me to see how I'm written**\n",
    "2. Now press `Shift+Enter` to run me and make me look beautiful\n",
    "\n",
    "You can write all sort of stuff within me: \n",
    "* text, like what you're seeing all over.\n",
    "* bullet points lists, like the one happeining write now.\n",
    "* Numbered lists like what you saw above.\n",
    "* inline equations like that $\\overline{x} = \\sum_{i=0}^{m} x_i$ using [Latex](http://data-blog.udacity.com/posts/2016/10/latex-primer/).\n",
    "* big equations on their own lines\n",
    "$$\\overline{x} = \\sum_{i=0}^{m} x_i$$\n",
    "* Hyperlinks\n",
    "* Tables\n",
    "\n",
    "| How | Awesome is | that |\n",
    "|-----|------------|------|\n",
    "|Huh? | Huh?       | Huh? |\n",
    "\n",
    "All that is done with Markdown commands, which you can read about [here](https://github.com/adam-p/markdown-here/wiki/Markdown-Cheatsheet)"
   ]
  },
  {
   "cell_type": "markdown",
   "metadata": {},
   "source": [
    "---"
   ]
  },
  {
   "cell_type": "code",
   "execution_count": null,
   "metadata": {},
   "outputs": [],
   "source": [
    "# Hi there! I'm a code cell and what you're reading now is just an ordinary python comment\n",
    "# here you can write all the code you want and just execute it by pressing Shift+Enter\n",
    "# Let's figure out what the time and date are\n",
    "\n",
    "import time\n",
    "\n",
    "time_now = time.ctime()\n",
    "\n",
    "print(\"The date and time now are {}\".format(time_now))\n",
    "\n",
    "# you'll see the content of stdout under me after you execute me"
   ]
  },
  {
   "cell_type": "code",
   "execution_count": null,
   "metadata": {},
   "outputs": [],
   "source": [
    "# You can also see the stderr under me if something wrong happened\n",
    "# press Shift+Enter to execute the code and see the error\n",
    "\n",
    "print(\"I'm a missing a parenthesis\""
   ]
  },
  {
   "cell_type": "code",
   "execution_count": null,
   "metadata": {},
   "outputs": [],
   "source": [
    "# Code cells remeber each other, whatever you defined in a previous cell you can call here\n",
    "# let's find out what was the time then\n",
    "print(\"The date and time then are {}\".format(time_now))"
   ]
  },
  {
   "cell_type": "markdown",
   "metadata": {},
   "source": [
    "---"
   ]
  },
  {
   "cell_type": "markdown",
   "metadata": {},
   "source": [
    "# Notebooks can do magic!\n",
    "\n",
    "Via a set of commands called _magic commands_ you can do a lot of stuff!"
   ]
  },
  {
   "cell_type": "markdown",
   "metadata": {},
   "source": [
    "### You can run a bash script (if you're using linux) by adding the magic `%%bash` to your code cell\n",
    "\n",
    "And you'll see the output right below the cell!"
   ]
  },
  {
   "cell_type": "code",
   "execution_count": null,
   "metadata": {},
   "outputs": [],
   "source": [
    "%%bash\n",
    "\n",
    "echo Hello World!"
   ]
  },
  {
   "cell_type": "markdown",
   "metadata": {},
   "source": [
    "### You can bench mark python statments using `%timeit` magic"
   ]
  },
  {
   "cell_type": "code",
   "execution_count": null,
   "metadata": {},
   "outputs": [],
   "source": [
    "def recursive_fibonacci(n):\n",
    "    if n == 0:\n",
    "        return 0\n",
    "    if n == 1:\n",
    "        return 1\n",
    "    return recursive_fibonacci(n - 1) + recursive_fibonacci(n - 2)\n",
    "\n",
    "def looping_fibonacci(n):\n",
    "    fib_sequence = [0, 1]\n",
    "    for i in range(2, n + 1):\n",
    "        fib_sequence.append(fib_sequence[i - 1] + fib_sequence[i - 2])\n",
    "    return fib_sequence[n]"
   ]
  },
  {
   "cell_type": "code",
   "execution_count": null,
   "metadata": {},
   "outputs": [],
   "source": [
    "%timeit recursive_fibonacci(20)"
   ]
  },
  {
   "cell_type": "code",
   "execution_count": null,
   "metadata": {},
   "outputs": [],
   "source": [
    "%timeit looping_fibonacci(20)"
   ]
  },
  {
   "cell_type": "markdown",
   "metadata": {},
   "source": [
    "### And if you plot something with code, you can always display it here by simply activating the magic `%matplotlib inline`, once and for all in the whole notebook "
   ]
  },
  {
   "cell_type": "code",
   "execution_count": null,
   "metadata": {},
   "outputs": [],
   "source": [
    "%matplotlib inline"
   ]
  },
  {
   "cell_type": "code",
   "execution_count": null,
   "metadata": {},
   "outputs": [],
   "source": [
    "import matplotlib.pyplot as plt\n",
    "import numpy as np\n",
    "\n",
    "plt.plot(np.arange(1, 100, 0.1), np.sin(np.arange(1, 100, 0.1)))"
   ]
  },
  {
   "cell_type": "markdown",
   "metadata": {},
   "source": [
    "### And much more magics you can learn about [here](http://ipython.readthedocs.io/en/stable/interactive/magics.html)"
   ]
  }
 ],
 "metadata": {
  "kernelspec": {
   "display_name": "Python 3",
   "language": "python",
   "name": "python3"
  },
  "language_info": {
   "codemirror_mode": {
    "name": "ipython",
    "version": 3
   },
   "file_extension": ".py",
   "mimetype": "text/x-python",
   "name": "python",
   "nbconvert_exporter": "python",
   "pygments_lexer": "ipython3",
   "version": "3.7.4"
  }
 },
 "nbformat": 4,
 "nbformat_minor": 4
}
